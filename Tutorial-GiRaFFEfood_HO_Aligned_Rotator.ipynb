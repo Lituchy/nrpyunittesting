{
 "cells": [
  {
   "cell_type": "markdown",
   "metadata": {},
   "source": [
    "<a id='top'></a>\n",
    "\n",
    "\n",
    "# $\\texttt{GiRaFFEfood}$: Initial data for $\\texttt{GiRaFFE}$\n",
    "\n",
    "## Aligned Rotator\n",
    "\n",
    "$$\\label{top}$$\n",
    "\n",
    "This module provides another initial data option for $\\texttt{GiRaFFE}$. This is a flat-spacetime test with initial data $$A_{\\phi} = \\frac{\\mu \\varpi^2}{r^3},$$ where  $\\mu = B_p R^3_{\\rm NS} / 2$, $R_{\\rm NS}$ is the neutron star radius, and $\\varpi = \\sqrt{x^2+y^2}$ is the cylindrical radius. We let $A_r = A_\\theta = 0$.\n",
    "\n",
    "Additionally, the drift velocity $v^i = \\Omega \\textbf{e}_z \\times \\textbf{r} = [ijk] \\Omega \\textbf{e}^j_z x^k$, where $[ijk]$ is the Levi-Civita permutation symbol and $\\textbf{e}^i_z = (0,0,1)$. See [previous NRPy+ tutorial module](Tutorial-GiRaFFEfood_HO.ipynb) for more general detail on how this is used.\n",
    "\n",
    "#### Table of Contents:\n",
    "1. [Steps 0-1:](#preliminaries) Preliminaries\n",
    "1. [Step 2:](#step2) Set the vector A in Spherical coordinates\n",
    "1. [Step 3:](#step3) Use the Jacobian matrix to transform the vector to Cartesian coordinates.\n",
    "1. [Step 4:](#step4) Calculate $v^i$\n",
    "1. [Step 5:](#step6) NRPy+ Module Code Validation\n"
   ]
  },
  {
   "cell_type": "markdown",
   "metadata": {},
   "source": [
    "<a id='preliminaries'></a>\n",
    "\n",
    "### Steps 0-1: Preliminaries \\[Back to [top](#top)\\]\n",
    "\n",
    "Here, we will import the NRPy+ core modules and set the reference metric to Cartesian, set commonly used NRPy+ parameters, and set C parameters that will be set from outside the code eventually generated from these expressions. We will also set up a parameter to determine what initial data is set up, although it won't do much yet.\n",
    "$$\\label{preliminaries}$$"
   ]
  },
  {
   "cell_type": "code",
   "execution_count": 1,
   "metadata": {},
   "outputs": [],
   "source": [
    "# Step 0: Import the NRPy+ core modules and set the reference metric to Cartesian\n",
    "import NRPy_param_funcs as par\n",
    "import indexedexp as ixp\n",
    "import grid as gri\n",
    "import finite_difference as fin\n",
    "from outputC import *\n",
    "import loop\n",
    "\n",
    "import reference_metric as rfm\n",
    "par.set_parval_from_str(\"reference_metric::CoordSystem\",\"Cartesian\")\n",
    "rfm.reference_metric()\n",
    "\n",
    "# Step 1a: Set commonly used parameters.\n",
    "thismodule = \"GiRaFFEfood_HO_Aligned_Rotator\"\n",
    "# Set the spatial dimension parameter to 3.\n",
    "par.set_parval_from_str(\"grid::DIM\", 3)\n",
    "DIM = par.parval_from_str(\"grid::DIM\")\n",
    "\n",
    "B_p_aligned_rotator,R_NS_aligned_rotator = par.Cparameters(\"REAL\",thismodule,[\"B_p_aligned_rotator\",\"R_NS_aligned_rotator\"]) # A constant defining the intensity of the magnetic field and the Neutron star Radius\n"
   ]
  },
  {
   "cell_type": "markdown",
   "metadata": {},
   "source": [
    "<a id='step2'></a>\n",
    "\n",
    "### Step 2: Set the vectors A in Spherical coordinates \\[Back to [top](#top)\\]\n",
    "\n",
    "We will first build the fundamental vector $A_i$ in spherical coordinates (see [Table 3](https://arxiv.org/pdf/1704.00599.pdf)). Note that we use reference_metric.py to set $r$ and $\\theta$ in terms of Cartesian coordinates; this will save us a step later when we convert to Cartesian coordinates. So, we set \n",
    "\\begin{align}\n",
    "A_{\\phi} &= \\frac{\\mu \\varpi^2}{r^3}, \\\\\n",
    "\\end{align}\n",
    "with $\\mu = B_p R^3_{\\rm NS} / 2$, $R_{\\rm NS}$ is the neutron star radius, and $\\varpi = \\sqrt{x^2+y^2}$\n",
    "\n",
    "$$\\label{step2}$$"
   ]
  },
  {
   "cell_type": "code",
   "execution_count": 2,
   "metadata": {},
   "outputs": [],
   "source": [
    "r     = rfm.xxSph[0]\n",
    "varpi = sp.sqrt(rfm.xxCart[0]**2 + rfm.xxCart[1]**2)\n",
    "\n",
    "mu = B_p_aligned_rotator * R_NS_aligned_rotator**3 / 2\n",
    "#mu = 5e-6\n",
    "\n",
    "ASphD = ixp.zerorank1()\n",
    "\n",
    "ASphD[2] = mu * varpi**2 / (r**3) # The other components were already declared to be 0.\n"
   ]
  },
  {
   "cell_type": "markdown",
   "metadata": {},
   "source": [
    "<a id='step3'></a>\n",
    "\n",
    "### Step 3: Use the Jacobian matrix to transform the vectors to Cartesian coordinates. \\[Back to [top](#top)\\]\n",
    "\n",
    "Now, we will use the coordinate transformation definitions provided by reference_metric.py to build the Jacobian \n",
    "$$ \n",
    "\\frac{\\partial x_{\\rm Sph}^j}{\\partial x_{\\rm Cart}^i},\n",
    "$$ \n",
    "where $x_{\\rm Sph}^j \\in \\{r,\\theta,\\phi\\}$ and $x_{\\rm Cart}^i \\in \\{x,y,z\\}$. We would normally compute its inverse, but since none of the quantities we need to transform have upper indices, it is not necessary. Then, since $A_i$ and has one lower index, it will need to be multiplied by the Jacobian:\n",
    "\n",
    "$$\n",
    "A_i^{\\rm Cart} = A_j^{\\rm Sph} \\frac{\\partial x_{\\rm Sph}^j}{\\partial x_{\\rm Cart}^i},\n",
    "$$\n",
    "\n",
    "$$\\label{step3}$$"
   ]
  },
  {
   "cell_type": "code",
   "execution_count": 3,
   "metadata": {},
   "outputs": [
    {
     "name": "stdout",
     "output_type": "stream",
     "text": [
      "-B_p_aligned_rotator*R_NS_aligned_rotator**3*xx1/(2*(xx0**2 + xx1**2 + xx2**2)**(3/2))\n",
      "B_p_aligned_rotator*R_NS_aligned_rotator**3*xx0/(2*(xx0**2 + xx1**2 + xx2**2)**(3/2))\n",
      "0\n"
     ]
    }
   ],
   "source": [
    "# Step 3: Use the Jacobian matrix to transform the vectors to Cartesian coordinates.\n",
    "drrefmetric__dx_0UDmatrix = sp.Matrix([[sp.diff(rfm.xxSph[0],rfm.xx[0]), sp.diff(rfm.xxSph[0],rfm.xx[1]), sp.diff(rfm.xxSph[0],rfm.xx[2])],\n",
    "                                       [sp.diff(rfm.xxSph[1],rfm.xx[0]), sp.diff(rfm.xxSph[1],rfm.xx[1]), sp.diff(rfm.xxSph[1],rfm.xx[2])],\n",
    "                                       [sp.diff(rfm.xxSph[2],rfm.xx[0]), sp.diff(rfm.xxSph[2],rfm.xx[1]), sp.diff(rfm.xxSph[2],rfm.xx[2])]])\n",
    "#dx__drrefmetric_0UDmatrix = drrefmetric__dx_0UDmatrix.inv() # We don't actually need this in this case.\n",
    "\n",
    "AD = ixp.register_gridfunctions_for_single_rank1(\"AUX\",\"AD\")\n",
    "for i in range(DIM):\n",
    "    for j in range(DIM):\n",
    "        AD[i] = drrefmetric__dx_0UDmatrix[(j,i)]*ASphD[j]\n",
    "    print(AD[i])\n"
   ]
  },
  {
   "cell_type": "markdown",
   "metadata": {},
   "source": [
    "<a id='step4'></a>\n",
    "\n",
    "### Step 4: Calculate $v^i$ \\[Back to [top](#top)\\]\n",
    "\n",
    "Here, we will calculate the drift velocity $v^i = \\Omega \\textbf{e}_z \\times \\textbf{r} = [ijk] \\Omega \\textbf{e}^j_z x^k$, where $[ijk]$ is the Levi-Civita permutation symbol and $\\textbf{e}^i_z = (0,0,1)$. Conveniently, in flat space, the drift velocity reduces to the Valencia velocity because $\\alpha = 1$ and $\\beta^i = 0$.\n",
    "\n",
    "$$\\label{step4}$$"
   ]
  },
  {
   "cell_type": "code",
   "execution_count": 4,
   "metadata": {},
   "outputs": [
    {
     "name": "stdout",
     "output_type": "stream",
     "text": [
      "1.86063308262917e-5*B_p_aligned_rotator*R_NS_aligned_rotator**3\n",
      "2.4164066008171e-7*B_p_aligned_rotator*R_NS_aligned_rotator**3\n",
      "-0.00047748194432146*B_p_aligned_rotator*R_NS_aligned_rotator**3\n"
     ]
    }
   ],
   "source": [
    "# Step 4: Calculate v^i\n",
    "# Here, we build the Levi-Civita tensor from the Levi-Civita symbol.\n",
    "import WeylScal4NRPy.WeylScalars_Cartesian as weyl\n",
    "LeviCivitaSymbolDDD = weyl.define_LeviCivitaSymbol_rank3()\n",
    "\n",
    "ADdD = ixp.zerorank2()\n",
    "for i in range(DIM):\n",
    "    for j in range(DIM):\n",
    "        ADdD[i][j] = sp.simplify(sp.diff(AD[i],rfm.xxCart[j]))\n",
    "BU = ixp.zerorank1()\n",
    "for i in range(DIM):\n",
    "    for j in range(DIM):\n",
    "        for k in range(DIM):\n",
    "            BU[i] += LeviCivitaSymbolDDD[i][j][k] * ADdD[k][j]\n",
    "    print(BU[i]).subs({rfm.xx[0]:10.1513671875,rfm.xx[1]:0.1318359375,rfm.xx[2]:0.1318359375})\n",
    "\n",
    "Omega_aligned_rotator = par.Cparameters(\"REAL\",thismodule,\"Omega_aligned_rotator\") # The angular velocity of the NS\n",
    "unit_zU = ixp.zerorank1()\n",
    "unit_zU[2] = 1\n",
    "\n",
    "ValenciavU = ixp.zerorank1()\n",
    "for i in range(DIM):\n",
    "    for j in range(DIM):\n",
    "        for k in range(DIM):\n",
    "            ValenciavU[i] += LeviCivitaSymbolDDD[i][j][k] * Omega_aligned_rotator * unit_zU[j] * rfm.xx[k]\n"
   ]
  },
  {
   "cell_type": "markdown",
   "metadata": {},
   "source": [
    "<a id='step6'></a>\n",
    "\n",
    "### NRPy+ Module Code Validation \\[Back to [top](#top)\\]\n",
    "\n",
    "Here, as a code validation check, we verify agreement in the SymPy expressions for the $\\texttt{GiRaFFE}$ Aligned Rotator initial data equations  we intend to use between\n",
    "1. this tutorial and \n",
    "2. the NRPy+ [GiRaFFEfood_HO_Aligned_Rotator.py](../edit/GiRaFFEfood_HO/GiRaFFEfood_HO_Aligned_Rotator.py) module.\n",
    "\n",
    "$$\\label{step6}$$"
   ]
  },
  {
   "cell_type": "code",
   "execution_count": 5,
   "metadata": {},
   "outputs": [
    {
     "name": "stdout",
     "output_type": "stream",
     "text": [
      "vvv Ignore the minor warnings below. vvv\n",
      "initialize_param() minor warning: Did nothing; already initialized parameter reference_metric::M_PI\n",
      "initialize_param() minor warning: Did nothing; already initialized parameter reference_metric::xmin\n",
      "initialize_param() minor warning: Did nothing; already initialized parameter reference_metric::xmax\n",
      "initialize_param() minor warning: Did nothing; already initialized parameter reference_metric::ymin\n",
      "initialize_param() minor warning: Did nothing; already initialized parameter reference_metric::ymax\n",
      "initialize_param() minor warning: Did nothing; already initialized parameter reference_metric::zmin\n",
      "initialize_param() minor warning: Did nothing; already initialized parameter reference_metric::zmax\n",
      "initialize_param() minor warning: Did nothing; already initialized parameter GiRaFFEfood_HO_Aligned_Rotator::B_p_aligned_rotator\n",
      "initialize_param() minor warning: Did nothing; already initialized parameter GiRaFFEfood_HO_Aligned_Rotator::R_NS_aligned_rotator\n",
      "initialize_param() minor warning: Did nothing; already initialized parameter GiRaFFEfood_HO_Aligned_Rotator::Omega_aligned_rotator\n",
      "^^^ Ignore the minor warnings above. ^^^\n",
      "\n",
      "Consistency check between GiRaFFEfood_HO tutorial and NRPy+ module: ALL SHOULD BE ZERO.\n",
      "ValenciavU[0] - gfho.ValenciavU[0] = 0\n",
      "AD[0] - gfho.AD[0] = 0\n",
      "ValenciavU[1] - gfho.ValenciavU[1] = 0\n",
      "AD[1] - gfho.AD[1] = 0\n",
      "ValenciavU[2] - gfho.ValenciavU[2] = 0\n",
      "AD[2] - gfho.AD[2] = 0\n"
     ]
    }
   ],
   "source": [
    "# Reset the list of gridfunctions, as registering a gridfunction\n",
    "#   twice will spawn an error.\n",
    "gri.glb_gridfcs_list = []\n",
    "\n",
    "print(\"vvv Ignore the minor warnings below. vvv\")\n",
    "\n",
    "import GiRaFFEfood_HO.GiRaFFEfood_HO_Aligned_Rotator as gfho\n",
    "gfho.GiRaFFEfood_HO_Aligned_Rotator()\n",
    "\n",
    "print(\"^^^ Ignore the minor warnings above. ^^^\\n\")\n",
    "\n",
    "print(\"Consistency check between GiRaFFEfood_HO tutorial and NRPy+ module: ALL SHOULD BE ZERO.\")\n",
    "\n",
    "for i in range(DIM):\n",
    "\n",
    "    print(\"ValenciavU[\"+str(i)+\"] - gfho.ValenciavU[\"+str(i)+\"] = \" + str(ValenciavU[i] - gfho.ValenciavU[i]))\n",
    "    print(\"AD[\"+str(i)+\"] - gfho.AD[\"+str(i)+\"] = \" + str(AD[i] - gfho.AD[i]))\n"
   ]
  },
  {
   "cell_type": "code",
   "execution_count": null,
   "metadata": {},
   "outputs": [],
   "source": []
  }
 ],
 "metadata": {
  "kernelspec": {
   "display_name": "Python 2",
   "language": "python",
   "name": "python2"
  },
  "language_info": {
   "codemirror_mode": {
    "name": "ipython",
    "version": 2
   },
   "file_extension": ".py",
   "mimetype": "text/x-python",
   "name": "python",
   "nbconvert_exporter": "python",
   "pygments_lexer": "ipython2",
   "version": "2.7.13"
  }
 },
 "nbformat": 4,
 "nbformat_minor": 2
}
