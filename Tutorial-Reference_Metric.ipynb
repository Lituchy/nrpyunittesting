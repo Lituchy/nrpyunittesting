{
 "cells": [
  {
   "cell_type": "markdown",
   "metadata": {},
   "source": [
    "# NRPy+'s Reference Metric Interface\n",
    "\n",
    "## Author: Zach Etienne\n",
    "### Formatting improvements courtesy Brandon Clark\n",
    "\n",
    "### NRPy+ Source Code for this module: [reference_metric.py](../edit/reference_metric.py)\n",
    "\n",
    "## Introduction:\n",
    "### Why use a reference metric? Benefits of choosing the best coordinate system for the problem\n",
    "\n",
    "When solving a partial differential equation on the computer, it is useful to first pick a coordinate system well-suited to the geometry of the problem. For example, if we are modeling a spherically-symmetric star, it would be hugely wasteful to model the star in 3-dimensional Cartesian coordinates ($x$,$y$,$z$). This is because in Cartesian coordinates, we would need to choose high sampling in all three Cartesian directions. If instead we chose to model the star in spherical coordinates  ($r$,$\\theta$,$\\phi$), so long as the star is centered at $r=0$, we would not need to model the star with more than one point in the $\\theta$ and $\\phi$ directions!\n",
    "\n",
    "A similar argument holds for stars that are *nearly* spherically symmetric. Such stars may exhibit density distributions that vary slowly in $\\theta$ and $\\phi$ directions (e.g., isolated neutron stars or black holes). In these cases the number of points needed to sample the angular directions will still be much smaller than in the radial direction.\n",
    "\n",
    "Thus choice of an appropriate reference metric may directly mitigate the [Curse of Dimensionality](https://en.wikipedia.org/wiki/Curse_of_dimensionality)."
   ]
  },
  {
   "cell_type": "markdown",
   "metadata": {},
   "source": [
    "<a id='toc'></a>\n",
    "\n",
    "# Table of Contents\n",
    "$$\\label{toc}$$\n",
    "\n",
    "This module is organized as follow\n",
    "\n",
    "1. [Step 1](#define_ref_metric): Defining a reference metric, $\\rm{reference\\_metric.py}$\n",
    "1. [Step 2](#define_geometric): Defining geometric quantities, **`ref_metric__hatted_quantities()`**\n",
    "1. [Step 3](#prescribed_ref_metric): Prescribed reference metrics in $\\rm{reference\\_metric.py}$\n",
    "1. [Step 4](#latex_pdf_output): Output this module to $\\LaTeX$-formatted PDF file"
   ]
  },
  {
   "cell_type": "markdown",
   "metadata": {},
   "source": [
    "<a id='define_ref_metric'></a>\n",
    "\n",
    "# Step 1: Defining a reference metric, $\\rm{reference\\_metric.py}$ \\[Back to [top](#toc)\\]\n",
    "$$\\label{define_ref_metric}$$\n",
    "\n",
    "***Note that currently only orthogonal reference metrics of dimension 3 or fewer are supported. This can be extended if desired.***\n",
    "\n",
    "NRPy+ assumes all curvilinear coordinate systems map directly from a uniform, Cartesian numerical grid with coordinates $(x,y,z)$=(`xx[0]`,`xx[1]`,`xx[2]`). Thus when defining reference metrics, all defined coordinate quantities must be in terms of the `xx[]` array. As we will see, this adds a great deal of flexibility\n",
    "\n",
    "For example,  [**reference_metric.py**](../edit/reference_metric.py) requires that the *orthogonal coordinate scale factors* be defined. As described [here](https://en.wikipedia.org/wiki/Curvilinear_coordinates), the $i$th scale factor is the positive root of the metric element $g_{ii}$. In ordinary spherical coordinates $(r,\\theta,\\phi)$, with line element $ds^2 = g_{ij} dx^i dx^j = dr^2+ r^2 d \\theta^2 + r^2 \\sin^2\\theta \\ d\\phi^2$, we would first define\n",
    "* $r = xx_0$\n",
    "* $\\theta = xx_1$\n",
    "* $\\phi = xx_2$,\n",
    "\n",
    "so that the scale factors are defined as\n",
    "* `scalefactor_orthog[0]` = $1$\n",
    "* `scalefactor_orthog[1]` = $r$\n",
    "* `scalefactor_orthog[2]` = $r \\sin \\theta$\n",
    "\n",
    "Here is the corresponding code:"
   ]
  },
  {
   "cell_type": "code",
   "execution_count": 1,
   "metadata": {},
   "outputs": [
    {
     "name": "stdout",
     "output_type": "stream",
     "text": [
      "r*sin(th) = xx0*sin(xx1)\n"
     ]
    }
   ],
   "source": [
    "import sympy as sp\n",
    "import NRPy_param_funcs as par\n",
    "import reference_metric as rfm\n",
    "\n",
    "r = rfm.xx[0]\n",
    "th = rfm.xx[1]\n",
    "ph = rfm.xx[2]\n",
    "\n",
    "rfm.scalefactor_orthog[0] = 1\n",
    "rfm.scalefactor_orthog[1] = r\n",
    "rfm.scalefactor_orthog[2] = r*sp.sin(th)\n",
    "\n",
    "# Notice that the scale factor will be given \n",
    "#    in terms of the fundamental Cartesian\n",
    "#    grid variables, and not {r,th,ph}:\n",
    "print(\"r*sin(th) = \"+str(rfm.scalefactor_orthog[2]))"
   ]
  },
  {
   "cell_type": "markdown",
   "metadata": {},
   "source": [
    "Next suppose we wish to modify our radial coordinate $r(xx_0)$ to be an exponentially increasing function, so that our numerical grid $(xx_0,xx_1,xx_2)$ will map to a spherical grid with radial grid spacing ($\\Delta r$) that *increases* with $r$. Generally we will find it useful to define $r(xx_0)$ to be an odd function, so let's choose\n",
    "\n",
    "$$r(xx_0) = a \\sinh(xx_0/s),$$\n",
    "\n",
    "where $a$ is an overall radial scaling factor, and $s$ denotes the scale (in units of $xx_0$) over which exponential growth will take place. In our implementation below, note that we use the relation\n",
    "\n",
    "$$\\sinh(x) = \\frac{e^x - e^{-x}}{2},$$\n",
    "\n",
    "as SymPy finds it easier to evaluate exponentials than hyperbolic trigonometric functions."
   ]
  },
  {
   "cell_type": "code",
   "execution_count": 2,
   "metadata": {},
   "outputs": [
    {
     "name": "stdout",
     "output_type": "stream",
     "text": [
      "a*(exp(xx0/s) - exp(-xx0/s))*sin(xx1)/2\n"
     ]
    }
   ],
   "source": [
    "a,s = sp.symbols('a s',positive=True)\n",
    "xx0_rescaled = rfm.xx[0] / s\n",
    "r = a*(sp.exp(xx0_rescaled) - sp.exp(-xx0_rescaled))/2\n",
    "\n",
    "# Must redefine the scalefactors since 'r' has been updated!\n",
    "rfm.scalefactor_orthog[0] = 1\n",
    "rfm.scalefactor_orthog[1] = r\n",
    "rfm.scalefactor_orthog[2] = r*sp.sin(th)\n",
    "\n",
    "print(rfm.scalefactor_orthog[2])"
   ]
  },
  {
   "cell_type": "markdown",
   "metadata": {},
   "source": [
    "Often we will find it useful to also define the appropriate mappings from (`xx[0]`,`xx[1]`,`xx[2]`) to Cartesian coordinates (for plotting purposes) and ordinary spherical coordinates (e.g., in case initial data when solving a PDE are naturally written in spherical coordinates). For this purpose, reference_metric.py also declares lists **`xxCart[]`** and **`xxSph[]`**, which in this case are defined as"
   ]
  },
  {
   "cell_type": "code",
   "execution_count": 3,
   "metadata": {},
   "outputs": [
    {
     "name": "stdout",
     "output_type": "stream",
     "text": [
      "                        ⎛xx₀⎞\n",
      "a⋅sin(xx₁)⋅cos(xx₂)⋅sinh⎜───⎟\n",
      "                        ⎝ s ⎠\n"
     ]
    }
   ],
   "source": [
    "rfm.xxSph[0] = r\n",
    "rfm.xxSph[1] = th\n",
    "rfm.xxSph[2] = ph\n",
    "\n",
    "rfm.xxCart[0] = r*sp.sin(th)*sp.cos(ph)\n",
    "rfm.xxCart[1] = r*sp.sin(th)*sp.sin(ph)\n",
    "rfm.xxCart[2] = r*sp.cos(th)\n",
    "\n",
    "# Here we show off SymPy's pretty_print() \n",
    "#   and simplify() functions. Nice, no?\n",
    "sp.pretty_print(sp.simplify(rfm.xxCart[0]))"
   ]
  },
  {
   "cell_type": "markdown",
   "metadata": {},
   "source": [
    "<a id='define_geometric'></a>\n",
    "\n",
    "# Step 2: Define geometric quantities \\[Back to [top](#toc)\\]\n",
    "$$\\label{define_geometric}$$\n",
    "\n",
    "Once `scalefactor_orthog[]` has been defined, the function **`ref_metric__hatted_quantities()`** within [reference_metric.py](../edit/reference_metric.py) can be called to define a number of geometric quantities useful for solving PDEs in curvilinear coordinate systems. \n",
    "\n",
    "Adopting the notation of [Baumgarte, Montero, Cordero-Carrión, and Müller, PRD 87, 044026 (2012)](https://arxiv.org/abs/1211.6632), geometric quantities related to the reference metric are named \"hatted\" quantities, . For example, the reference metric is defined as $\\hat{g}_{ij}$=`ghatDD[i][j]`:"
   ]
  },
  {
   "cell_type": "code",
   "execution_count": 4,
   "metadata": {},
   "outputs": [
    {
     "name": "stdout",
     "output_type": "stream",
     "text": [
      "⎡1           0                         0              ⎤\n",
      "⎢                                                     ⎥\n",
      "⎢                     2                               ⎥\n",
      "⎢      ⎛ xx₀    -xx₀ ⎞                                ⎥\n",
      "⎢      ⎜ ───    ─────⎟                                ⎥\n",
      "⎢    2 ⎜  s       s  ⎟                                ⎥\n",
      "⎢   a ⋅⎝ℯ    - ℯ     ⎠                                ⎥\n",
      "⎢0  ───────────────────                0              ⎥\n",
      "⎢            4                                        ⎥\n",
      "⎢                                                     ⎥\n",
      "⎢                                          2          ⎥\n",
      "⎢                           ⎛ xx₀    -xx₀ ⎞           ⎥\n",
      "⎢                           ⎜ ───    ─────⎟           ⎥\n",
      "⎢                         2 ⎜  s       s  ⎟     2     ⎥\n",
      "⎢                        a ⋅⎝ℯ    - ℯ     ⎠ ⋅sin (xx₁)⎥\n",
      "⎢0           0           ─────────────────────────────⎥\n",
      "⎣                                      4              ⎦\n"
     ]
    }
   ],
   "source": [
    "rfm.ref_metric__hatted_quantities()\n",
    "\n",
    "sp.pretty_print(sp.Matrix(sp.simplify(rfm.ghatDD)))"
   ]
  },
  {
   "cell_type": "markdown",
   "metadata": {},
   "source": [
    "In addition to $\\hat{g}_{ij}$, **`ref_metric__hatted_quantities()`** also provides:\n",
    "* The rescaling \"matrix\" `ReDD[i][j]`, used for separating singular (due to chosen coordinate system) pieces of smooth rank-2 tensor components from the smooth parts, so that the smooth parts can be used within temporal and spatial differential operators.\n",
    "* Inverse reference metric: $\\hat{g}^{ij}$=`ghatUU[i][j]`.\n",
    "* Reference metric determinant: $\\det\\left(\\hat{g}_{ij}\\right)$=`detgammahat`.\n",
    "* First and second derivatives of the reference metric: $\\hat{g}_{ij,k}$=`ghatDD_dD[i][j][k]`; $\\hat{g}_{ij,kl}$=`ghatDD_dDD[i][j][k][l]`\n",
    "* Christoffel symbols associated with the reference metric, $\\hat{\\Gamma}^i_{jk}$ = `GammahatUDD[i][j][k]` and their first derivatives $\\hat{\\Gamma}^i_{jk,l}$ = `GammahatUDD_dD[i][j][k][l]`\n",
    "\n",
    "For example, the Christoffel symbol $\\hat{\\Gamma}^{xx_1}_{xx_2 xx_2}=\\hat{\\Gamma}^1_{22}$ is given by `GammahatUDD[1][2][2]`:"
   ]
  },
  {
   "cell_type": "code",
   "execution_count": 5,
   "metadata": {},
   "outputs": [
    {
     "name": "stdout",
     "output_type": "stream",
     "text": [
      "-sin(2⋅xx₁) \n",
      "────────────\n",
      "     2      \n"
     ]
    }
   ],
   "source": [
    "sp.pretty_print(sp.simplify(rfm.GammahatUDD[1][2][2]))"
   ]
  },
  {
   "cell_type": "markdown",
   "metadata": {},
   "source": [
    "Given the trigonometric identity $2\\sin(x)\\cos(x) = \\sin(2x)$, notice that the above expression is equivalent to Eq. 18 of [Baumgarte, Montero, Cordero-Carrión, and Müller, PRD 87, 044026 (2012)](https://arxiv.org/abs/1211.6632). This is expected since the sinh-radial spherical coordinate system is equivalent to ordinary spherical coordinates in the angular components."
   ]
  },
  {
   "cell_type": "markdown",
   "metadata": {},
   "source": [
    "<a id='prescribed_ref_metric'></a>\n",
    "\n",
    "# Step 3: Prescribed reference metrics in $\\rm{reference\\_metric.py}$ \\[Back to [top](#toc)\\]\n",
    "$$\\label{prescribed_ref_metric}$$\n",
    "\n",
    "One need not manually define scale factors or other quantities for reference metrics, as a number of prescribed reference metrics are already defined in [reference_metric.py](../edit/reference_metric.py). These can be accessed by first setting the parameter **reference_metric::CoordSystem** to one of the following, and then calling the function **`rfm.reference_metric()`**:\n",
    "* ***Spherical-like coordinate systems***\n",
    "    * **reference_metric::CoordSystem = \"Spherical\"**: Standard spherical coordinates, with $(r,\\theta,\\phi)=(xx_0,xx_1,xx_2)$\n",
    "    * **reference_metric::CoordSystem = \"SinhSpherical\"**: Spherical coordinates, but with $$r(xx_0) = \\text{AMPL} \\frac{\\sinh\\left(\\frac{xx_0}{\\text{SINHW}}\\right)}{\\sinh\\left(\\frac{1}{\\text{SINHW}}\\right)}$$\n",
    "    * **reference_metric::CoordSystem = \"SinhSphericalv2\"**: Spherical coordinates, but with \n",
    "    $$r(xx_0) = \\text{AMPL} \\left[\\text{const_dr}\\ xx_0 + \\frac{\\sinh\\left(\\frac{xx_0}{\\text{SINHW}}\\right)}{\\sinh\\left(\\frac{1}{\\text{SINHW}}\\right)}\\right]$$\n",
    "* ***Cylindrical-like coordinate systems***\n",
    "    * **reference_metric::CoordSystem = \"Cylindrical\"**: Standard cylindrical coordinates, with $(\\rho,\\phi,z)=(xx_0,xx_1,xx_2)$\n",
    "    * **reference_metric::CoordSystem = \"SinhCylindrical\"**: Cylindrical coordinates, but with\n",
    "    $$\\rho(xx_0) = \\text{AMPLRHO} \\frac{\\sinh\\left(\\frac{xx_0}{\\text{SINHWRHO}}\\right)}{\\sinh\\left(\\frac{1}{\\text{SINHWRHO}}\\right)}$$\n",
    "    and \n",
    "    $$z(xx_2) = \\text{AMPLZ} \\frac{\\sinh\\left(\\frac{xx_2}{\\text{SINHWZ}}\\right)}{\\sinh\\left(\\frac{1}{\\text{SINHWZ}}\\right)}$$\n",
    "    \n",
    "    * **reference_metric::CoordSystem = \"SinhCylindricalv2\"**: Cylindrical coordinates, but with\n",
    "    $$\\rho(xx_0) = \\text{AMPLRHO} \\left[\\text{const_drho}\\ xx_0 + \\frac{\\sinh\\left(\\frac{xx_0}{\\text{SINHWRHO}}\\right)}{\\sinh\\left(\\frac{1}{\\text{SINHWRHO}}\\right)}\\right]$$\n",
    "    and \n",
    "    $$z(xx_2) = \\text{AMPLZ} \\left[\\text{const_dz}\\ xx_2 + \\frac{\\sinh\\left(\\frac{xx_2}{\\text{SINHWZ}}\\right)}{\\sinh\\left(\\frac{1}{\\text{SINHWZ}}\\right)}\\right]$$\n",
    "* ***Cartesian coordinate systems***\n",
    "    * **reference_metric::CoordSystem = \"Cartesian\"**: Standard Cartesian coordinates, with $(x,y,z)=(xx_0,xx_1,xx_2)$\n",
    "* ***[Prolate spheroidal](https://en.wikipedia.org/wiki/Prolate_spheroidal_coordinates)-like coordinate systems***\n",
    "    * **reference_metric::CoordSystem = \"SymTP\"**: Symmetric TwoPuncture coordinates, with $(\\rho,\\phi,z)=(xx_0\\sin(xx_1), xx_2, \\sqrt{xx_0^2 + \\text{bScale}^2}\\cos(xx_1))$\n",
    "    * **reference_metric::CoordSystem = \"SinhSymTP\"**: Symmetric TwoPuncture coordinates, but with $$xx_0 \\to \\sinh(xx_0/\\text{AW})$$\n",
    "\n",
    "For example, let's set up SinhCylindricalv2 coordinates and output the Christoffel symbol $\\hat{\\Gamma}^{xx_2}_{xx_2 xx_2}$, or more simply $\\hat{\\Gamma}^2_{22}$:"
   ]
  },
  {
   "cell_type": "code",
   "execution_count": 6,
   "metadata": {},
   "outputs": [
    {
     "name": "stdout",
     "output_type": "stream",
     "text": [
      "                         ⎛ 2⋅xx₂     ⎞    1                             \n",
      "                         ⎜ ──────    ⎟  ──────                          \n",
      "                         ⎜ SINHWZ    ⎟  SINHWZ                          \n",
      "                        -⎝ℯ       - 1⎠⋅ℯ                                \n",
      "────────────────────────────────────────────────────────────────────────\n",
      "       ⎛                  ⎛   2       ⎞   xx₂     ⎛ 2⋅xx₂     ⎞    1   ⎞\n",
      "       ⎜                  ⎜ ──────    ⎟  ──────   ⎜ ──────    ⎟  ──────⎟\n",
      "       ⎜                  ⎜ SINHWZ    ⎟  SINHWZ   ⎜ SINHWZ    ⎟  SINHWZ⎟\n",
      "SINHWZ⋅⎝- SINHWZ⋅const_dz⋅⎝ℯ       - 1⎠⋅ℯ       - ⎝ℯ       + 1⎠⋅ℯ      ⎠\n"
     ]
    }
   ],
   "source": [
    "par.set_parval_from_str(\"reference_metric::CoordSystem\",\"SinhCylindricalv2\")\n",
    "\n",
    "rfm.reference_metric()\n",
    "\n",
    "sp.pretty_print(sp.simplify(rfm.GammahatUDD[2][2][2]))"
   ]
  },
  {
   "cell_type": "markdown",
   "metadata": {},
   "source": [
    "As we will soon see, defining these \"hatted\" quantities will be quite useful when expressing hyperbolic ([wave-equation](https://en.wikipedia.org/wiki/Wave_equation)-like) PDEs in non-Cartesian coordinate systems."
   ]
  },
  {
   "cell_type": "markdown",
   "metadata": {},
   "source": [
    "<a id='latex_pdf_output'></a>\n",
    "\n",
    "# Step 4: Output this module to $\\LaTeX$-formatted PDF file \\[Back to [top](#toc)\\]\n",
    "$$\\label{latex_pdf_output}$$\n",
    "\n",
    "The following code cell converts this Jupyter notebook into a proper, clickable $\\LaTeX$-formatted PDF file. After the cell is successfully run, the generated PDF may be found in the root NRPy+ tutorial directory, with filename\n",
    "[Tutorial-Reference_Metric.pdf](Tutorial-Reference_Metric.pdf) (Note that clicking on this link may not work; you may need to open the PDF file through another means.)"
   ]
  },
  {
   "cell_type": "code",
   "execution_count": 7,
   "metadata": {},
   "outputs": [
    {
     "name": "stdout",
     "output_type": "stream",
     "text": [
      "[NbConvertApp] Converting notebook Tutorial-Reference_Metric.ipynb to latex\n",
      "[NbConvertApp] Writing 42361 bytes to Tutorial-Reference_Metric.tex\n",
      "This is pdfTeX, Version 3.14159265-2.6-1.40.18 (TeX Live 2017/Debian) (preloaded format=pdflatex)\n",
      " restricted \\write18 enabled.\n",
      "entering extended mode\n",
      "This is pdfTeX, Version 3.14159265-2.6-1.40.18 (TeX Live 2017/Debian) (preloaded format=pdflatex)\n",
      " restricted \\write18 enabled.\n",
      "entering extended mode\n",
      "This is pdfTeX, Version 3.14159265-2.6-1.40.18 (TeX Live 2017/Debian) (preloaded format=pdflatex)\n",
      " restricted \\write18 enabled.\n",
      "entering extended mode\n"
     ]
    }
   ],
   "source": [
    "!jupyter nbconvert --to latex --template latex_nrpy_style.tplx Tutorial-Reference_Metric.ipynb\n",
    "!pdflatex -interaction=batchmode Tutorial-Reference_Metric.tex\n",
    "!pdflatex -interaction=batchmode Tutorial-Reference_Metric.tex\n",
    "!pdflatex -interaction=batchmode Tutorial-Reference_Metric.tex\n",
    "!rm -f Tut*.out Tut*.aux Tut*.log"
   ]
  }
 ],
 "metadata": {
  "kernelspec": {
   "display_name": "Python 3",
   "language": "python",
   "name": "python3"
  },
  "language_info": {
   "codemirror_mode": {
    "name": "ipython",
    "version": 3
   },
   "file_extension": ".py",
   "mimetype": "text/x-python",
   "name": "python",
   "nbconvert_exporter": "python",
   "pygments_lexer": "ipython3",
   "version": "3.6.7"
  }
 },
 "nbformat": 4,
 "nbformat_minor": 2
}
