{
 "cells": [
  {
   "cell_type": "markdown",
   "metadata": {},
   "source": [
    "# Brill-Lindquist Initial data\n",
    "\n",
    "## This module sets up initial data for a merging black hole system in Cartesian coordinates\n",
    "\n",
    "<font color='green'>**This module has been validated to exhibit convergence to zero of the Hamiltonian constraint violation at the expected order to the exact solution (see plot at bottom), and all quantities have been validated against the [original SENR code](https://bitbucket.org/zach_etienne/nrpy).**</font>"
   ]
  },
  {
   "cell_type": "markdown",
   "metadata": {},
   "source": [
    "### Here we set up Brill-Lindquist initial data ([Brill & Lindquist, Phys. Rev. 131, 471, 1963](https://journals.aps.org/pr/abstract/10.1103/PhysRev.131.471); see also Eq. 1 of [Brandt & Brügmann, arXiv:gr-qc/9711015v1](https://arxiv.org/pdf/gr-qc/9711015v1.pdf)):\n",
    "\n",
    "The conformal factor $\\psi$ for Brill-Lindquist initial data is given by\n",
    "$$\\psi = e^{\\phi} = 1 + \\sum_{i=1}^N \\frac{m_{(i)}}{2 \\left|\\vec{r}_{(i)} - \\vec{r}\\right|};\\quad K_{ij}=0,$$\n",
    "\n",
    "where $\\psi$ is written in terms of the 3-metric $\\gamma_{ij}$ as\n",
    "\n",
    "$$\n",
    "\\gamma_{ij} = \\psi^4 \\delta_{ij}.\n",
    "$$\n",
    "\n",
    "The extrinsic curvature is zero:\n",
    "$$\n",
    "K_{ij} = 0\n",
    "$$\n",
    "\n",
    "These data consist of $N$ nonspinning black holes initially at rest. This module restricts to the case of two such black holes, positioned anywhere. Here, we implement $N=2$.\n",
    "\n",
    "**Inputs for $\\psi$**:\n",
    "* The position and (bare) mass of black hole 1: $\\left(x_{(1)},y_{(1)},z_{(1)}\\right)$ and $m_{(1)}$, respectively\n",
    "* The position and (bare) mass of black hole 2: $\\left(x_{(2)},y_{(2)},z_{(2)}\\right)$ and $m_{(2)}$, respectively\n",
    "\n",
    "**Additional variables needed for spacetime evolution**:\n",
    "* Desired coordinate system\n",
    "* Desired initial lapse $\\alpha$ and shift $\\beta^i$. We will choose our gauge conditions as $\\alpha=\\psi^{-2}$ and $\\beta^i=B^i=0$."
   ]
  },
  {
   "cell_type": "code",
   "execution_count": 1,
   "metadata": {},
   "outputs": [],
   "source": [
    "# Step P0: Load needed modules\n",
    "import sympy as sp\n",
    "import NRPy_param_funcs as par\n",
    "import indexedexp as ixp\n",
    "import grid as gri\n",
    "from outputC import *\n",
    "\n",
    "thismodule = \"Brill-Lindquist\"\n",
    "BH1_posn_x,BH1_posn_y,BH1_posn_z = par.Cparameters(\"REAL\", thismodule, [\"BH1_posn_x\",\"BH1_posn_y\",\"BH1_posn_z\"])\n",
    "BH1_mass = par.Cparameters(\"REAL\", thismodule, [\"BH1_mass\"])\n",
    "BH2_posn_x,BH2_posn_y,BH2_posn_z = par.Cparameters(\"REAL\", thismodule, [\"BH2_posn_x\",\"BH2_posn_y\",\"BH2_posn_z\"])\n",
    "BH2_mass = par.Cparameters(\"REAL\", thismodule, [\"BH2_mass\"])\n",
    "\n",
    "# Step 0: Set spatial dimension (must be 3 for BSSN)\n",
    "DIM = 3\n",
    "par.set_parval_from_str(\"grid::DIM\",DIM)\n",
    "\n",
    "Cartxyz = ixp.declarerank1(\"Cartxyz\")\n",
    "\n",
    "# Step 1: Set psi, the conformal factor:\n",
    "psi = sp.sympify(1)\n",
    "psi += BH1_mass / ( 2 * sp.sqrt((Cartxyz[0]-BH1_posn_x)**2 + (Cartxyz[1]-BH1_posn_y)**2 + (Cartxyz[2]-BH1_posn_z)**2) )\n",
    "psi += BH2_mass / ( 2 * sp.sqrt((Cartxyz[0]-BH2_posn_x)**2 + (Cartxyz[1]-BH2_posn_y)**2 + (Cartxyz[2]-BH2_posn_z)**2) )\n",
    "    \n",
    "# Step 2: Set all needed ADM variables in Cartesian coordinates\n",
    "gammaCartDD = ixp.zerorank2()\n",
    "KCartDD     = ixp.zerorank2() # K_{ij} = 0 for these initial data\n",
    "for i in range(DIM):\n",
    "    gammaCartDD[i][i] = psi**4\n",
    "\n",
    "alphaCart = 1/psi**2\n",
    "betaCartU = ixp.zerorank1() # We generally choose \\beta^i = 0 for these initial data\n",
    "BCartU    = ixp.zerorank1() # We generally choose B^i = 0 for these initial data"
   ]
  },
  {
   "cell_type": "markdown",
   "metadata": {},
   "source": [
    "## NRPy+ Module Code Validation\n",
    "\n",
    "Here, as a code validation check, we verify agreement in the SymPy expressions for Brill-Lindquist initial data between\n",
    "\n",
    "1. this tutorial and \n",
    "2. the NRPy+ [BSSN.BrillLindquist](../edit/BSSN/BrillLindquist.py) module."
   ]
  },
  {
   "cell_type": "code",
   "execution_count": 2,
   "metadata": {},
   "outputs": [
    {
     "name": "stdout",
     "output_type": "stream",
     "text": [
      "initialize_param() minor warning: Did nothing; already initialized parameter Brill-Lindquist::BH1_posn_x\n",
      "initialize_param() minor warning: Did nothing; already initialized parameter Brill-Lindquist::BH1_posn_y\n",
      "initialize_param() minor warning: Did nothing; already initialized parameter Brill-Lindquist::BH1_posn_z\n",
      "initialize_param() minor warning: Did nothing; already initialized parameter Brill-Lindquist::BH1_mass\n",
      "initialize_param() minor warning: Did nothing; already initialized parameter Brill-Lindquist::BH2_posn_x\n",
      "initialize_param() minor warning: Did nothing; already initialized parameter Brill-Lindquist::BH2_posn_y\n",
      "initialize_param() minor warning: Did nothing; already initialized parameter Brill-Lindquist::BH2_posn_z\n",
      "initialize_param() minor warning: Did nothing; already initialized parameter Brill-Lindquist::BH2_mass\n",
      "^^^ Ignore the minor warning(s) above. ^^^\n",
      "\n",
      "Consistency check between Brill-Lindquist tutorial and NRPy+ BSSN.BrillLindquist module:\n",
      "alphaCart - bl.alphaCart: Should be zero: 0\n",
      "betaCartU[0] - bl.betaCartU[0]: Should be zero: 0\n",
      "BCartU[0] - bl.BaCartU[0]: Should be zero: 0\n",
      "gammaCartDD[0][0] - bl.gammaCartDD[0][0]: Should be zero: 0\n",
      "KCartDD[0][0] - bl.KCartDD[0][0]: Should be zero: 0\n",
      "gammaCartDD[0][1] - bl.gammaCartDD[0][1]: Should be zero: 0\n",
      "KCartDD[0][1] - bl.KCartDD[0][1]: Should be zero: 0\n",
      "gammaCartDD[0][2] - bl.gammaCartDD[0][2]: Should be zero: 0\n",
      "KCartDD[0][2] - bl.KCartDD[0][2]: Should be zero: 0\n",
      "betaCartU[1] - bl.betaCartU[1]: Should be zero: 0\n",
      "BCartU[1] - bl.BaCartU[1]: Should be zero: 0\n",
      "gammaCartDD[1][0] - bl.gammaCartDD[1][0]: Should be zero: 0\n",
      "KCartDD[1][0] - bl.KCartDD[1][0]: Should be zero: 0\n",
      "gammaCartDD[1][1] - bl.gammaCartDD[1][1]: Should be zero: 0\n",
      "KCartDD[1][1] - bl.KCartDD[1][1]: Should be zero: 0\n",
      "gammaCartDD[1][2] - bl.gammaCartDD[1][2]: Should be zero: 0\n",
      "KCartDD[1][2] - bl.KCartDD[1][2]: Should be zero: 0\n",
      "betaCartU[2] - bl.betaCartU[2]: Should be zero: 0\n",
      "BCartU[2] - bl.BaCartU[2]: Should be zero: 0\n",
      "gammaCartDD[2][0] - bl.gammaCartDD[2][0]: Should be zero: 0\n",
      "KCartDD[2][0] - bl.KCartDD[2][0]: Should be zero: 0\n",
      "gammaCartDD[2][1] - bl.gammaCartDD[2][1]: Should be zero: 0\n",
      "KCartDD[2][1] - bl.KCartDD[2][1]: Should be zero: 0\n",
      "gammaCartDD[2][2] - bl.gammaCartDD[2][2]: Should be zero: 0\n",
      "KCartDD[2][2] - bl.KCartDD[2][2]: Should be zero: 0\n"
     ]
    }
   ],
   "source": [
    "# Reset the list of gridfunctions, as registering a gridfunction\n",
    "#   twice will spawn an error.\n",
    "gri.glb_gridfcs_list = []\n",
    "\n",
    "# First we import needed core NRPy+ modules\n",
    "import reference_metric as rfm\n",
    "import grid as gri\n",
    "# Unused, but needed because BrillLindquist() also does tensor rescalings.\n",
    "rfm.reference_metric()\n",
    "\n",
    "import BSSN.BrillLindquist as bl\n",
    "bl.BrillLindquist()\n",
    "\n",
    "# It is SAFE to ignore the warning(s) from re-initializing parameters.\n",
    "print(\"^^^ Ignore the minor warning(s) above. ^^^\\n\")\n",
    "print(\"Consistency check between Brill-Lindquist tutorial and NRPy+ BSSN.BrillLindquist module:\")\n",
    "print(\"alphaCart - bl.alphaCart: Should be zero: \"+str(sp.simplify(alphaCart - bl.alphaCart)))\n",
    "for i in range(DIM):\n",
    "    print(\"betaCartU[\"+str(i)+\"] - bl.betaCartU[\"+str(i)+\"]: Should be zero: \"+\\\n",
    "          str(sp.simplify(betaCartU[i] - bl.betaCartU[i])))\n",
    "    print(\"BCartU[\"+str(i)+\"] - bl.BaCartU[\"+str(i)+\"]: Should be zero: \"+str(sp.simplify(BCartU[i] - bl.BCartU[i])))\n",
    "    for j in range(DIM):\n",
    "        print(\"gammaCartDD[\"+str(i)+\"][\"+str(j)+\"] - bl.gammaCartDD[\"+str(i)+\"][\"+str(j)+\"]: Should be zero: \"+\\\n",
    "              str(sp.simplify(gammaCartDD[i][j] - bl.gammaCartDD[i][j])))\n",
    "        print(\"KCartDD[\"+str(i)+\"][\"+str(j)+\"] - bl.KCartDD[\"+str(i)+\"][\"+str(j)+\"]: Should be zero: \"+\\\n",
    "              str(sp.simplify(KCartDD[i][j] - bl.KCartDD[i][j])))"
   ]
  }
 ],
 "metadata": {
  "kernelspec": {
   "display_name": "Python 2",
   "language": "python",
   "name": "python2"
  },
  "language_info": {
   "codemirror_mode": {
    "name": "ipython",
    "version": 2
   },
   "file_extension": ".py",
   "mimetype": "text/x-python",
   "name": "python",
   "nbconvert_exporter": "python",
   "pygments_lexer": "ipython2",
   "version": "2.7.13"
  }
 },
 "nbformat": 4,
 "nbformat_minor": 2
}
