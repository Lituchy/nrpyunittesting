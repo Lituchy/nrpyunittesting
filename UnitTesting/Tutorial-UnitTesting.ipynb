{
 "cells": [
  {
   "cell_type": "markdown",
   "metadata": {},
   "source": [
    "# Unit Testing for NRPy+\n",
    "\n",
    "## Author: Kevin Lituchy\n",
    "\n",
    "## This module sets up the unit testing infrastructure required to begin unit testing any given NRPy+ module. \n",
    "\n",
    "### NRPy+ Source Code for this module: \n",
    "* [UnitTesting/example/module1.py](../../edit/UnitTesting/example/module1.py)\n",
    "* [UnitTesting/example/module2.py](../../edit/UnitTesting/example/module2.py)\n",
    "* [UnitTesting/example/trusted_values_dict.py](../../edit/UnitTesting/example/trusted_values_dict.py)\n",
    "* [UnitTesting/example/NRPyUnitTests_example_Globals.py](../../edit/UnitTesting/example/NRPyUnitTests_example_Globals.py)\n",
    "\n",
    "## Introduction\n",
    "\n",
    "What is the purpose of unit testing, and why should you do it? To begin thinking about that, consider what subtleties \n",
    "can occur with your code that are almost unnoticeable to the eye, but wind up giving you a very incorrect result. You\n",
    "could make a small optimization, and observe that nothing changes about your result. However, maybe the optimization \n",
    "you made only works on Python 3 and not Python 2, or it changes a value by some tiny amount -- too small to be obviously\n",
    "noticeable, but enough to make a difference.\n",
    "\n",
    "This is where unit testing comes in. By initially calculating values for the globals of your modules in a **trusted**\n",
    "version of your code and storing those values in a dictionary, you can then easily check if something stopped working\n",
    "by comparing your newly calculated values to the ones you've stored. On the frontend, there are four modules \n",
    "essential to get your unit tests up and running: `trusted_values_dict`, `functions_and_globals`, `run_test`, and your \n",
    "testing modules (which we'll simply reference as `module1` and `module2`). The usage of each of these modules is outlined in \n",
    "the  **Interactive Modules** section. There is also some important prerequisite knowledge that may be helpful to grasp\n",
    "before beginning your testing. There are many functions at play in the backend as well, all of which will \n",
    "be described in detail below in the **Functions** section. Mastery of these functions may not be essential to get your \n",
    "tests up-and-running, but some basic understanding of these modules with undoubtedly streamline the testing process and \n",
    "how to potentially create your own, different types of tests.\n",
    "\n",
    "An important caveat is that the unit testing does not test the **correctness** of your code or your variables. The \n",
    "unit tests function as a protective measure to ensure that nothing was broken; it gets its values by running _your_ \n",
    "code, so if something starts out incorrect, it will be stored as incorrect in the system. There are measures against \n",
    "this, but it relies on the user's knowledge of what versions of their code are correct.\n"
   ]
  },
  {
   "cell_type": "markdown",
   "metadata": {},
   "source": [
    "<a id='toc'></a>\n",
    "\n",
    "# Table of Contents\n",
    "$$\\label{toc}$$\n",
    "\n",
    "1. [Step 1](#step1): Configure essential files\n",
    "    1. [Step 1.a](#trusted_values_dict): Creating and formatting trusted_values_dict.py\n",
    "    1. [Step 1.b](#trusted_values_dict): Creating and formatting NRPyUnitTests_example_Globals.py\n",
    "1. [Step 2](#step2): Scalar Wave RHSs in One Spatial Dimension, Fourth-Order Finite Differencing\n",
    "1. [Step 3](#step3): Scalar Wave RHSs in Three Spatial Dimensions, Tenth-Order Finite Differencing\n",
    "    1. [Step 3.a](#code_validation1): Code Validation against ScalarWave.ScalarWave_RHSs NRPy+ module\n",
    "1. [Step 4](#step4): Plane-Wave Initial Data for the Scalar Wave Equation\n",
    "    1. [Step 4.a](#code_validation2): Code Validation against ScalarWave.InitialData_PlaneWave NRPy+ module\n",
    "1. [Step 5](#latex_pdf_output): Output this module to $\\LaTeX$-formatted PDF file"
   ]
  },
  {
   "cell_type": "markdown",
   "metadata": {},
   "source": [
    "<a id='step1'></a>\n",
    "\n",
    "# Step 1: Configure essential files \\[Back to [top](#toc)\\]\n",
    "$$\\label{step1}$$"
   ]
  },
  {
   "cell_type": "markdown",
   "metadata": {},
   "source": [
    "<a id='trusted_values_dict'></a>\n",
    "\n",
    "## Step 1.a: Creating and formatting trusted_values_dict.py \\[Back to [top](#toc)\\]\n",
    "$$\\label{trusted_values_dict}$$\n",
    "\n",
    "We always begin trusted_values_dict.py as follows:"
   ]
  },
  {
   "cell_type": "code",
   "execution_count": null,
   "metadata": {},
   "outputs": [],
   "source": [
    "# Step P0: Import necessary modules\n",
    "from mpmath import mpf, mp, mpc\n",
    "from UnitTesting.standard_constants import precision\n",
    "\n",
    "# Step 0: Set precision value and initialize trusted_values_dict\n",
    "mp.dps = precision\n",
    "trusted_values_dict = dict()"
   ]
  },
  {
   "cell_type": "markdown",
   "metadata": {},
   "source": [
    "This is all we need to do for now; we'll put the actual trusted values that our module generates in trusted_values_dict.py once we generate them.\n",
    "\n",
    "<a id='nrpyunittests'></a>\n",
    "\n",
    "## Step 1.b: Creating and formatting NRPyUnitTests_example_Globals.py \\[Back to [top](#toc)\\]\n",
    "$$\\label{nrpyunittests}$$"
   ]
  },
  {
   "cell_type": "markdown",
   "metadata": {},
   "source": [
    "<a id='step2'></a>\n",
    "\n",
    "# Step 2: Scalar Wave RHSs in One Spatial Dimension, Fourth-Order Finite Differencing \\[Back to [top](#toc)\\]\n",
    "$$\\label{step2}$$\n",
    "\n",
    "To minimize complication, we will first restrict ourselves to solving the wave equation in one spatial dimension, so\n",
    "$$\\nabla^2 u = \\partial_x^2 u.$$\n",
    "Extension of this operator to higher spatial dimensions is straightforward, particularly when using NRPy+.\n",
    "\n",
    "As was discussed in [the finite difference section of the tutorial](Tutorial-Finite_Difference_Derivatives.ipynb), NRPy+ approximates derivatives using [finite difference methods](),  the second-order derivative $\\partial_x^2$ accurate to fourth-order in uniform grid spacing $\\Delta x$ (from fitting the unique 4th-degree polynomial to 5 sample points of $u$) is given by\n",
    "\\begin{equation}\n",
    "\\left[\\partial_x^2 u(t,x)\\right]_j = \\frac{1}{(\\Delta x)^2}\n",
    "\\left(\n",
    "-\\frac{1}{12} \\left(u_{j+2} + u_{j-2}\\right) \n",
    "+ \\frac{4}{3}  \\left(u_{j+1} + u_{j-1}\\right)\n",
    "- \\frac{5}{2} u_j \\right)\n",
    "+ \\mathcal{O}\\left((\\Delta x)^4\\right).\n",
    "\\end{equation}"
   ]
  },
  {
   "cell_type": "code",
   "execution_count": 2,
   "metadata": {},
   "outputs": [
    {
     "name": "stdout",
     "output_type": "stream",
     "text": [
      "{\n",
      "   /* \n",
      "    * NRPy+ Finite Difference Code Generation, Step 1 of 2: Read from main memory and compute finite difference stencils:\n",
      "    */\n",
      "   /*\n",
      "    *  Original SymPy expression:\n",
      "    *  \"const double uu_dDD00 = invdx0**2*(-5*uu/2 + 4*uu_i0m1/3 - uu_i0m2/12 + 4*uu_i0p1/3 - uu_i0p2/12)\"\n",
      "    */\n",
      "   const double uu_i0m2 = in_gfs[IDX2(UUGF, i0-2)];\n",
      "   const double uu_i0m1 = in_gfs[IDX2(UUGF, i0-1)];\n",
      "   const double uu = in_gfs[IDX2(UUGF, i0)];\n",
      "   const double uu_i0p1 = in_gfs[IDX2(UUGF, i0+1)];\n",
      "   const double uu_i0p2 = in_gfs[IDX2(UUGF, i0+2)];\n",
      "   const double vv = in_gfs[IDX2(VVGF, i0)];\n",
      "   const double uu_dDD00 = pow(invdx0, 2)*(-5.0/2.0*uu + (4.0/3.0)*uu_i0m1 - 1.0/12.0*uu_i0m2 + (4.0/3.0)*uu_i0p1 - 1.0/12.0*uu_i0p2);\n",
      "   /* \n",
      "    * NRPy+ Finite Difference Code Generation, Step 2 of 2: Evaluate SymPy expressions and write to main memory:\n",
      "    */\n",
      "   /*\n",
      "    *  Original SymPy expressions:\n",
      "    *  \"[rhs_gfs[IDX2(UUGF, i0)] = vv,\n",
      "    *    rhs_gfs[IDX2(VVGF, i0)] = uu_dDD00*wavespeed**2]\"\n",
      "    */\n",
      "   rhs_gfs[IDX2(UUGF, i0)] = vv;\n",
      "   rhs_gfs[IDX2(VVGF, i0)] = uu_dDD00*pow(wavespeed, 2);\n",
      "}\n",
      "\n"
     ]
    }
   ],
   "source": [
    "# Step P2: Define the C parameter wavespeed. The `wavespeed`\n",
    "#          variable is a proper SymPy variable, so it can be\n",
    "#          used in below expressions. In the C code, it acts\n",
    "#          just like a usual parameter, whose value is \n",
    "#          specified in the parameter file.\n",
    "thismodule = \"ScalarWave\"\n",
    "wavespeed = par.Cparameters(\"REAL\",thismodule,\"wavespeed\")\n",
    "\n",
    "# Step 1: Set the spatial dimension parameter, and then read\n",
    "#         the parameter as DIM.\n",
    "par.set_parval_from_str(\"grid::DIM\",1)\n",
    "DIM = par.parval_from_str(\"grid::DIM\")\n",
    "\n",
    "# Step 2: Set the finite differencing order to 4.\n",
    "par.set_parval_from_str(\"finite_difference::FD_CENTDERIVS_ORDER\",4)\n",
    "\n",
    "# Step 3: Register gridfunctions that are needed as input\n",
    "#         to the scalar wave RHS expressions.\n",
    "uu, vv = gri.register_gridfunctions(\"EVOL\",[\"uu\",\"vv\"])\n",
    "\n",
    "# Step 4: Declare the rank-2 indexed expression \\partial_{ij} u,\n",
    "#         which is symmetric about interchange of indices i and j\n",
    "#         Derivative variables like these must have an underscore\n",
    "#         in them, so the finite difference module can parse the\n",
    "#         variable name properly.\n",
    "uu_dDD = ixp.declarerank2(\"uu_dDD\",\"sym01\")\n",
    "\n",
    "# Step 5: Define right-hand sides for the evolution.\n",
    "uu_rhs = vv\n",
    "vv_rhs = 0\n",
    "for i in range(DIM):\n",
    "    vv_rhs += wavespeed*wavespeed*uu_dDD[i][i]\n",
    "\n",
    "vv_rhs = sp.simplify(vv_rhs)\n",
    "\n",
    "# Step 6: Generate C code for scalarwave evolution equations,\n",
    "#         print output to the screen (standard out, or stdout).\n",
    "fin.FD_outputC(\"stdout\",\n",
    "               [lhrh(lhs=gri.gfaccess(\"rhs_gfs\",\"uu\"),rhs=uu_rhs),\n",
    "                lhrh(lhs=gri.gfaccess(\"rhs_gfs\",\"vv\"),rhs=vv_rhs)])"
   ]
  },
  {
   "cell_type": "markdown",
   "metadata": {},
   "source": [
    "**Success!** Notice that indeed NRPy+ was able to compute the spatial derivative operator,\n",
    "\\begin{equation}\n",
    "\\left[\\partial_x^2 u(t,x)\\right]_j \\approx \\frac{1}{(\\Delta x)^2}\n",
    "\\left(\n",
    "-\\frac{1}{12} \\left(u_{j+2} + u_{j-2}\\right) \n",
    "+ \\frac{4}{3}  \\left(u_{j+1} + u_{j-1}\\right)\n",
    "- \\frac{5}{2} u_j \\right),\n",
    "\\end{equation}\n",
    "correctly (easier to read in the \"Original SymPy expressions\" comment block at the top of the C output. Note that $\\texttt{invdx0}=1/\\Delta x_0$, where $\\Delta x_0$ is the (uniform) grid spacing in the zeroth, or $x_0$ direction."
   ]
  },
  {
   "cell_type": "markdown",
   "metadata": {},
   "source": [
    "<a id='step3'></a>\n",
    "\n",
    "# Step 3: Scalar Wave RHSs in Three Spatial Dimensions, Tenth-Order Finite Differencing \\[Back to [top](#toc)\\]\n",
    "$$\\label{step3}$$\n",
    "\n",
    "Let's next repeat the same process, only this time at **10th** finite difference order, for the **3-spatial-dimension** scalar wave equation, with SIMD enabled:"
   ]
  },
  {
   "cell_type": "code",
   "execution_count": 3,
   "metadata": {},
   "outputs": [
    {
     "name": "stdout",
     "output_type": "stream",
     "text": [
      "initialize_param() minor warning: Did nothing; already initialized parameter ScalarWave::wavespeed\n",
      "{\n",
      "   /* \n",
      "    * NRPy+ Finite Difference Code Generation, Step 1 of 2: Read from main memory and compute finite difference stencils:\n",
      "    */\n",
      "   /*\n",
      "    *  Original SymPy expressions:\n",
      "    *  \"[const REAL_SIMD_ARRAY uu_dDD00 = invdx0**2*(-5269*uu/1800 + 5*uu_i0m1_i1_i2/3 - 5*uu_i0m2_i1_i2/21 + 5*uu_i0m3_i1_i2/126 - 5*uu_i0m4_i1_i2/1008 + uu_i0m5_i1_i2/3150 + 5*uu_i0p1_i1_i2/3 - 5*uu_i0p2_i1_i2/21 + 5*uu_i0p3_i1_i2/126 - 5*uu_i0p4_i1_i2/1008 + uu_i0p5_i1_i2/3150),\n",
      "    *    const REAL_SIMD_ARRAY uu_dDD11 = invdx1**2*(-5269*uu/1800 + 5*uu_i0_i1m1_i2/3 - 5*uu_i0_i1m2_i2/21 + 5*uu_i0_i1m3_i2/126 - 5*uu_i0_i1m4_i2/1008 + uu_i0_i1m5_i2/3150 + 5*uu_i0_i1p1_i2/3 - 5*uu_i0_i1p2_i2/21 + 5*uu_i0_i1p3_i2/126 - 5*uu_i0_i1p4_i2/1008 + uu_i0_i1p5_i2/3150),\n",
      "    *    const REAL_SIMD_ARRAY uu_dDD22 = invdx2**2*(-5269*uu/1800 + 5*uu_i0_i1_i2m1/3 - 5*uu_i0_i1_i2m2/21 + 5*uu_i0_i1_i2m3/126 - 5*uu_i0_i1_i2m4/1008 + uu_i0_i1_i2m5/3150 + 5*uu_i0_i1_i2p1/3 - 5*uu_i0_i1_i2p2/21 + 5*uu_i0_i1_i2p3/126 - 5*uu_i0_i1_i2p4/1008 + uu_i0_i1_i2p5/3150)]\"\n",
      "    */\n",
      "   const REAL_SIMD_ARRAY uu_i0_i1_i2m5 = ReadSIMD(&in_gfs[IDX4(UUGF, i0,i1,i2-5)]);\n",
      "   const REAL_SIMD_ARRAY uu_i0_i1_i2m4 = ReadSIMD(&in_gfs[IDX4(UUGF, i0,i1,i2-4)]);\n",
      "   const REAL_SIMD_ARRAY uu_i0_i1_i2m3 = ReadSIMD(&in_gfs[IDX4(UUGF, i0,i1,i2-3)]);\n",
      "   const REAL_SIMD_ARRAY uu_i0_i1_i2m2 = ReadSIMD(&in_gfs[IDX4(UUGF, i0,i1,i2-2)]);\n",
      "   const REAL_SIMD_ARRAY uu_i0_i1_i2m1 = ReadSIMD(&in_gfs[IDX4(UUGF, i0,i1,i2-1)]);\n",
      "   const REAL_SIMD_ARRAY uu_i0_i1m5_i2 = ReadSIMD(&in_gfs[IDX4(UUGF, i0,i1-5,i2)]);\n",
      "   const REAL_SIMD_ARRAY uu_i0_i1m4_i2 = ReadSIMD(&in_gfs[IDX4(UUGF, i0,i1-4,i2)]);\n",
      "   const REAL_SIMD_ARRAY uu_i0_i1m3_i2 = ReadSIMD(&in_gfs[IDX4(UUGF, i0,i1-3,i2)]);\n",
      "   const REAL_SIMD_ARRAY uu_i0_i1m2_i2 = ReadSIMD(&in_gfs[IDX4(UUGF, i0,i1-2,i2)]);\n",
      "   const REAL_SIMD_ARRAY uu_i0_i1m1_i2 = ReadSIMD(&in_gfs[IDX4(UUGF, i0,i1-1,i2)]);\n",
      "   const REAL_SIMD_ARRAY uu_i0m5_i1_i2 = ReadSIMD(&in_gfs[IDX4(UUGF, i0-5,i1,i2)]);\n",
      "   const REAL_SIMD_ARRAY uu_i0m4_i1_i2 = ReadSIMD(&in_gfs[IDX4(UUGF, i0-4,i1,i2)]);\n",
      "   const REAL_SIMD_ARRAY uu_i0m3_i1_i2 = ReadSIMD(&in_gfs[IDX4(UUGF, i0-3,i1,i2)]);\n",
      "   const REAL_SIMD_ARRAY uu_i0m2_i1_i2 = ReadSIMD(&in_gfs[IDX4(UUGF, i0-2,i1,i2)]);\n",
      "   const REAL_SIMD_ARRAY uu_i0m1_i1_i2 = ReadSIMD(&in_gfs[IDX4(UUGF, i0-1,i1,i2)]);\n",
      "   const REAL_SIMD_ARRAY uu = ReadSIMD(&in_gfs[IDX4(UUGF, i0,i1,i2)]);\n",
      "   const REAL_SIMD_ARRAY uu_i0p1_i1_i2 = ReadSIMD(&in_gfs[IDX4(UUGF, i0+1,i1,i2)]);\n",
      "   const REAL_SIMD_ARRAY uu_i0p2_i1_i2 = ReadSIMD(&in_gfs[IDX4(UUGF, i0+2,i1,i2)]);\n",
      "   const REAL_SIMD_ARRAY uu_i0p3_i1_i2 = ReadSIMD(&in_gfs[IDX4(UUGF, i0+3,i1,i2)]);\n",
      "   const REAL_SIMD_ARRAY uu_i0p4_i1_i2 = ReadSIMD(&in_gfs[IDX4(UUGF, i0+4,i1,i2)]);\n",
      "   const REAL_SIMD_ARRAY uu_i0p5_i1_i2 = ReadSIMD(&in_gfs[IDX4(UUGF, i0+5,i1,i2)]);\n",
      "   const REAL_SIMD_ARRAY uu_i0_i1p1_i2 = ReadSIMD(&in_gfs[IDX4(UUGF, i0,i1+1,i2)]);\n",
      "   const REAL_SIMD_ARRAY uu_i0_i1p2_i2 = ReadSIMD(&in_gfs[IDX4(UUGF, i0,i1+2,i2)]);\n",
      "   const REAL_SIMD_ARRAY uu_i0_i1p3_i2 = ReadSIMD(&in_gfs[IDX4(UUGF, i0,i1+3,i2)]);\n",
      "   const REAL_SIMD_ARRAY uu_i0_i1p4_i2 = ReadSIMD(&in_gfs[IDX4(UUGF, i0,i1+4,i2)]);\n",
      "   const REAL_SIMD_ARRAY uu_i0_i1p5_i2 = ReadSIMD(&in_gfs[IDX4(UUGF, i0,i1+5,i2)]);\n",
      "   const REAL_SIMD_ARRAY uu_i0_i1_i2p1 = ReadSIMD(&in_gfs[IDX4(UUGF, i0,i1,i2+1)]);\n",
      "   const REAL_SIMD_ARRAY uu_i0_i1_i2p2 = ReadSIMD(&in_gfs[IDX4(UUGF, i0,i1,i2+2)]);\n",
      "   const REAL_SIMD_ARRAY uu_i0_i1_i2p3 = ReadSIMD(&in_gfs[IDX4(UUGF, i0,i1,i2+3)]);\n",
      "   const REAL_SIMD_ARRAY uu_i0_i1_i2p4 = ReadSIMD(&in_gfs[IDX4(UUGF, i0,i1,i2+4)]);\n",
      "   const REAL_SIMD_ARRAY uu_i0_i1_i2p5 = ReadSIMD(&in_gfs[IDX4(UUGF, i0,i1,i2+5)]);\n",
      "   const REAL_SIMD_ARRAY vv = ReadSIMD(&in_gfs[IDX4(VVGF, i0,i1,i2)]);\n",
      "   const double tmpFD_Rational_1_3150 = 0.0003174603174603174603174603174603175;\n",
      "   const REAL_SIMD_ARRAY _Rational_1_3150 = ConstSIMD(tmpFD_Rational_1_3150);\n",
      "   \n",
      "   const double tmpFD_Rational_5_126 = 0.03968253968253968253968253968253968;\n",
      "   const REAL_SIMD_ARRAY _Rational_5_126 = ConstSIMD(tmpFD_Rational_5_126);\n",
      "   \n",
      "   const double tmpFD_Rational_5_3 = 1.666666666666666666666666666666667;\n",
      "   const REAL_SIMD_ARRAY _Rational_5_3 = ConstSIMD(tmpFD_Rational_5_3);\n",
      "   \n",
      "   const double tmpFD_Rational_m5269_1800 = -2.927222222222222222222222222222222;\n",
      "   const REAL_SIMD_ARRAY _Rational_m5269_1800 = ConstSIMD(tmpFD_Rational_m5269_1800);\n",
      "   \n",
      "   const double tmpFD_Rational_m5_1008 = -0.004960317460317460317460317460317460;\n",
      "   const REAL_SIMD_ARRAY _Rational_m5_1008 = ConstSIMD(tmpFD_Rational_m5_1008);\n",
      "   \n",
      "   const double tmpFD_Rational_m5_21 = -0.2380952380952380952380952380952381;\n",
      "   const REAL_SIMD_ARRAY _Rational_m5_21 = ConstSIMD(tmpFD_Rational_m5_21);\n",
      "   \n",
      "   const REAL_SIMD_ARRAY tmpFD0 = MulSIMD(uu, _Rational_m5269_1800);\n",
      "   const REAL_SIMD_ARRAY uu_dDD00 = MulSIMD(FusedMulAddSIMD(uu_i0p4_i1_i2, _Rational_m5_1008, FusedMulAddSIMD(uu_i0p3_i1_i2, _Rational_5_126, FusedMulAddSIMD(uu_i0p2_i1_i2, _Rational_m5_21, FusedMulAddSIMD(uu_i0p1_i1_i2, _Rational_5_3, FusedMulAddSIMD(uu_i0m5_i1_i2, _Rational_1_3150, FusedMulAddSIMD(uu_i0m4_i1_i2, _Rational_m5_1008, FusedMulAddSIMD(uu_i0m3_i1_i2, _Rational_5_126, FusedMulAddSIMD(uu_i0m2_i1_i2, _Rational_m5_21, FusedMulAddSIMD(uu_i0m1_i1_i2, _Rational_5_3, FusedMulAddSIMD(uu_i0p5_i1_i2, _Rational_1_3150, tmpFD0)))))))))), MulSIMD(invdx0, invdx0));\n",
      "   const REAL_SIMD_ARRAY uu_dDD11 = MulSIMD(FusedMulAddSIMD(uu_i0_i1p4_i2, _Rational_m5_1008, FusedMulAddSIMD(uu_i0_i1p3_i2, _Rational_5_126, FusedMulAddSIMD(uu_i0_i1p2_i2, _Rational_m5_21, FusedMulAddSIMD(uu_i0_i1p1_i2, _Rational_5_3, FusedMulAddSIMD(uu_i0_i1m5_i2, _Rational_1_3150, FusedMulAddSIMD(uu_i0_i1m4_i2, _Rational_m5_1008, FusedMulAddSIMD(uu_i0_i1m3_i2, _Rational_5_126, FusedMulAddSIMD(uu_i0_i1m2_i2, _Rational_m5_21, FusedMulAddSIMD(uu_i0_i1m1_i2, _Rational_5_3, FusedMulAddSIMD(uu_i0_i1p5_i2, _Rational_1_3150, tmpFD0)))))))))), MulSIMD(invdx1, invdx1));\n",
      "   const REAL_SIMD_ARRAY uu_dDD22 = MulSIMD(FusedMulAddSIMD(uu_i0_i1_i2p4, _Rational_m5_1008, FusedMulAddSIMD(uu_i0_i1_i2p3, _Rational_5_126, FusedMulAddSIMD(uu_i0_i1_i2p2, _Rational_m5_21, FusedMulAddSIMD(uu_i0_i1_i2p1, _Rational_5_3, FusedMulAddSIMD(uu_i0_i1_i2m5, _Rational_1_3150, FusedMulAddSIMD(uu_i0_i1_i2m4, _Rational_m5_1008, FusedMulAddSIMD(uu_i0_i1_i2m3, _Rational_5_126, FusedMulAddSIMD(uu_i0_i1_i2m2, _Rational_m5_21, FusedMulAddSIMD(uu_i0_i1_i2m1, _Rational_5_3, FusedMulAddSIMD(uu_i0_i1_i2p5, _Rational_1_3150, tmpFD0)))))))))), MulSIMD(invdx2, invdx2));\n",
      "   /* \n",
      "    * NRPy+ Finite Difference Code Generation, Step 2 of 2: Evaluate SymPy expressions and write to main memory:\n",
      "    */\n",
      "   /*\n",
      "    *  Original SymPy expressions:\n",
      "    *  \"[const REAL_SIMD_ARRAY __RHS_exp_0 = vv,\n",
      "    *    const REAL_SIMD_ARRAY __RHS_exp_1 = wavespeed**2*(uu_dDD00 + uu_dDD11 + uu_dDD22)]\"\n",
      "    */\n",
      "   const REAL_SIMD_ARRAY __RHS_exp_0 = vv;\n",
      "   const REAL_SIMD_ARRAY __RHS_exp_1 = MulSIMD(AddSIMD(uu_dDD11, AddSIMD(uu_dDD00, uu_dDD22)), MulSIMD(wavespeed, wavespeed));\n",
      "   WriteSIMD(&rhs_gfs[IDX4(UUGF, i0, i1, i2)], __RHS_exp_0);\n",
      "   WriteSIMD(&rhs_gfs[IDX4(VVGF, i0, i1, i2)], __RHS_exp_1);\n",
      "}\n",
      "\n"
     ]
    }
   ],
   "source": [
    "# Step 1: Define the C parameter wavespeed. The `wavespeed`\n",
    "#         variable is a proper SymPy variable, so it can be\n",
    "#         used in below expressions. In the C code, it acts\n",
    "#         just like a usual parameter, whose value is \n",
    "#         specified in the parameter file.\n",
    "wavespeed = par.Cparameters(\"REAL\",thismodule,\"wavespeed\")\n",
    "\n",
    "# Step 2: Set the spatial dimension parameter \n",
    "#         to *FOUR* this time, and then read\n",
    "#         the parameter as DIM.\n",
    "par.set_parval_from_str(\"grid::DIM\",3)\n",
    "DIM = par.parval_from_str(\"grid::DIM\")\n",
    "\n",
    "# Step 3: Set the finite differencing order to 10.\n",
    "par.set_parval_from_str(\"finite_difference::FD_CENTDERIVS_ORDER\",10)\n",
    "\n",
    "# Step 4a: Reset gridfunctions registered in 1D case above,\n",
    "#          to avoid NRPy+ throwing an error about double-\n",
    "#          registering gridfunctions, which is not allowed.\n",
    "gri.glb_gridfcs_list = []\n",
    "\n",
    "# Step 4b: Register gridfunctions that are needed as input\n",
    "#          to the scalar wave RHS expressions.\n",
    "uu, vv = gri.register_gridfunctions(\"EVOL\",[\"uu\",\"vv\"])\n",
    "\n",
    "# Step 5: Declare the rank-2 indexed expression \\partial_{ij} u,\n",
    "#         which is symmetric about interchange of indices i and j\n",
    "#         Derivative variables like these must have an underscore\n",
    "#         in them, so the finite difference module can parse the\n",
    "#         variable name properly.\n",
    "uu_dDD = ixp.declarerank2(\"uu_dDD\",\"sym01\")\n",
    "\n",
    "# Step 6: Define right-hand sides for the evolution.\n",
    "uu_rhs = vv\n",
    "vv_rhs = 0\n",
    "for i in range(DIM):\n",
    "    vv_rhs += wavespeed*wavespeed*uu_dDD[i][i]\n",
    "\n",
    "# Step 7: Simplify the expression for c^2 \\nabla^2 u (a.k.a., vv_rhs):\n",
    "vv_rhs = sp.simplify(vv_rhs)\n",
    "\n",
    "# Step 8: Generate C code for scalarwave evolution equations,\n",
    "#         print output to the screen (standard out, or stdout).\n",
    "fin.FD_outputC(\"stdout\",\n",
    "               [lhrh(lhs=gri.gfaccess(\"rhs_gfs\",\"uu\"),rhs=uu_rhs),\n",
    "                lhrh(lhs=gri.gfaccess(\"rhs_gfs\",\"vv\"),rhs=vv_rhs)],params=\"SIMD_enable=True\")"
   ]
  },
  {
   "cell_type": "markdown",
   "metadata": {},
   "source": [
    "<a id='code_validation1'></a>\n",
    "\n",
    "## Step 3.a:  Code Validation against ScalarWave.ScalarWave_RHSs NRPy+ module \\[Back to [top](#toc)\\]\n",
    "$$\\label{code_validation1}$$\n",
    "\n",
    "Here, as a code validation check, we verify agreement in the SymPy expressions for the RHSs of the three-spatial-dimension Scalar Wave equation (i.e., uu_rhs and vv_rhs) between\n",
    "\n",
    "1. this tutorial and \n",
    "2. the [NRPy+ ScalarWave.ScalarWave_RHSs](../edit/ScalarWave/ScalarWave_RHSs.py) module."
   ]
  },
  {
   "cell_type": "code",
   "execution_count": 4,
   "metadata": {},
   "outputs": [
    {
     "name": "stdout",
     "output_type": "stream",
     "text": [
      "^^^ Ignore the minor warning above. ^^^\n",
      "\n",
      "Consistency check between ScalarWave tutorial and NRPy+ module:\n",
      "uu_rhs - swrhs.uu_rhs: Should be zero:  0\n",
      "vv_rhs - swrhs.vv_rhs: Should be zero:  0\n"
     ]
    }
   ],
   "source": [
    "# Step 10: We already have SymPy expressions for uu_rhs and vv_rhs in\n",
    "#          terms of other SymPy variables. Even if we reset the list\n",
    "#          of NRPy+ gridfunctions, these *SymPy* expressions for\n",
    "#          uu_rhs and vv_rhs *will remain unaffected*. \n",
    "# \n",
    "#          Here, we will use the above-defined uu_rhs and vv_rhs to \n",
    "#          validate against the same expressions in the \n",
    "#          ScalarWave/ScalarWave_RHSs.py module,\n",
    "#          to ensure consistency between this tutorial \n",
    "#          (historically speaking, the tutorial was written first) \n",
    "#          and the ScalarWave_RHSs.py module itself.\n",
    "#\n",
    "# Reset the list of gridfunctions, as registering a gridfunction\n",
    "#   twice will spawn an error.\n",
    "gri.glb_gridfcs_list = []\n",
    "\n",
    "# Step 11: Call the ScalarWave_RHSs() function from within the\n",
    "#         ScalarWave/ScalarWave_RHSs.py module,\n",
    "#         which should do exactly the same as in Steps 1-10 above.\n",
    "import ScalarWave.ScalarWave_RHSs as swrhs\n",
    "swrhs.ScalarWave_RHSs()\n",
    "\n",
    "# Step 12: Consistency check between the tutorial module above\n",
    "#         and the ScalarWave_RHSs() function from within the\n",
    "#         ScalarWave/ScalarWave_RHSs.py module.\n",
    "# It is SAFE to ignore the warning from re-initializing the parameter RMAX.\n",
    "print(\"^^^ Ignore the minor warning above. ^^^\\n\")\n",
    "print(\"Consistency check between ScalarWave tutorial and NRPy+ module:\")\n",
    "print(\"uu_rhs - swrhs.uu_rhs: Should be zero: \",sp.simplify(uu_rhs - swrhs.uu_rhs))\n",
    "print(\"vv_rhs - swrhs.vv_rhs: Should be zero: \",sp.simplify(vv_rhs - swrhs.vv_rhs))"
   ]
  },
  {
   "cell_type": "markdown",
   "metadata": {},
   "source": [
    "<a id='step4'></a>\n",
    "\n",
    "# Step 4: Plane-Wave Initial Data for the Scalar Wave Equation \\[Back to [top](#toc)\\]\n",
    "$$\\label{step4}$$\n",
    "\n",
    "The solution to the scalar wave equation for a monochromatic (single-wavelength) wave traveling in the $\\hat{k}$ direction is\n",
    "$$u(\\vec{x},t) = f(\\hat{k}\\cdot\\vec{x} - c t),$$\n",
    "where $\\hat{k}$ is a unit vector. We choose $f(\\hat{k}\\cdot\\vec{x} - c t)$ to take the form\n",
    "$$\n",
    "f(\\hat{k}\\cdot\\vec{x} - c t) = \\sin\\left(\\hat{k}\\cdot\\vec{x} - c t\\right) + 2,\n",
    "$$\n",
    "where we add the $+2$ to ensure that the exact solution never crosses through zero. In places where the exact solution passes through zero, the relative error (i.e., the measure of error to compare numerical with exact results) is undefined. Also, $f(\\hat{k}\\cdot\\vec{x} - c t)$ plus a constant is still a solution to the wave equation."
   ]
  },
  {
   "cell_type": "code",
   "execution_count": 5,
   "metadata": {},
   "outputs": [],
   "source": [
    "# Step 1: Set parameters defined in other modules\n",
    "xx = gri.xx\n",
    "\n",
    "# Step 2: Declare free parameters intrinsic to these initial data\n",
    "time = par.Cparameters(\"REAL\",thismodule,\"time\")\n",
    "kk   = par.Cparameters(\"REAL\",thismodule,[\"kk0\",\"kk1\",\"kk2\"])\n",
    "\n",
    "# Step 3: Normalize the k vector\n",
    "kk_norm = sp.sqrt(kk[0]**2 + kk[1]**2 + kk[2]**2)\n",
    "\n",
    "# Step 4: Compute k.x\n",
    "dot_product = sp.sympify(0)\n",
    "for i in range(DIM):\n",
    "    dot_product += xx[i]*kk[i]\n",
    "dot_product /= kk_norm\n",
    "\n",
    "# Step 5: Set initial data for uu and vv, where vv_ID = \\partial_t uu_ID.\n",
    "uu_ID = sp.sin(dot_product - wavespeed*time)+2\n",
    "vv_ID = sp.diff(uu_ID, time)"
   ]
  },
  {
   "cell_type": "markdown",
   "metadata": {},
   "source": [
    "Next we verify that $f(\\hat{k}\\cdot\\vec{x} - c t)$ satisfies the wave equation, by computing\n",
    "$$\\left(c^2 \\nabla^2 - \\partial_t^2 \\right)\\ f\\left(\\hat{k}\\cdot\\vec{x} - c t\\right),$$\n",
    "and confirming the result is exactly zero."
   ]
  },
  {
   "cell_type": "code",
   "execution_count": 6,
   "metadata": {},
   "outputs": [
    {
     "data": {
      "text/latex": [
       "$\\displaystyle 0$"
      ],
      "text/plain": [
       "0"
      ]
     },
     "execution_count": 6,
     "metadata": {},
     "output_type": "execute_result"
    }
   ],
   "source": [
    "sp.simplify(wavespeed**2*(sp.diff(uu_ID,xx[0],2) + \n",
    "                          sp.diff(uu_ID,xx[1],2) + \n",
    "                          sp.diff(uu_ID,xx[2],2))\n",
    "            - sp.diff(uu_ID,time,2))"
   ]
  },
  {
   "cell_type": "markdown",
   "metadata": {},
   "source": [
    "<a id='code_validation2'></a>\n",
    "\n",
    "## Step 4.a: Code Validation against ScalarWave.InitialData_PlaneWave NRPy+ module  \\[Back to [top](#toc)\\]\n",
    "$$\\label{code_validation2}$$\n",
    "\n",
    "As a code validation check, we will verify agreement in the SymPy expressions for plane-wave initial data for the Scalar Wave equation between\n",
    "1. this tutorial and \n",
    "2. the NRPy+ [ScalarWave.InitialData_PlaneWave](../edit/ScalarWave/InitialData_PlaneWave.py) module."
   ]
  },
  {
   "cell_type": "code",
   "execution_count": 7,
   "metadata": {},
   "outputs": [
    {
     "name": "stdout",
     "output_type": "stream",
     "text": [
      "Consistency check between ScalarWave tutorial and NRPy+ module:\n",
      "uu_ID - swid.uu_ID: Should be zero:  0\n",
      "vv_ID - swid.vv_ID: Should be zero:  0\n"
     ]
    }
   ],
   "source": [
    "# We just defined SymPy expressions for uu_ID and vv_ID in\n",
    "# terms of other SymPy variables. Here, we will use the \n",
    "# above-defined uu_ID and vv_ID to validate against the \n",
    "# same expressions in the ScalarWave/InitialData_PlaneWave.py \n",
    "# module, to ensure consistency between this tutorial \n",
    "# (historically speaking, the tutorial was written first) \n",
    "# and the PlaneWave ID module itself.\n",
    "# \n",
    "# Step 6: Call the InitialData_PlaneWave() function from within the\n",
    "#         ScalarWave/InitialData_PlaneWave.py module,\n",
    "#         which should do exactly the same as in Steps 1-5 above.\n",
    "import ScalarWave.InitialData_PlaneWave as swid\n",
    "swid.InitialData_PlaneWave()\n",
    "\n",
    "# Step 7: Consistency check between the tutorial module above\n",
    "#         and the InitialData_PlaneWave() function from within the\n",
    "#         ScalarWave/InitialData_PlaneWave.py module.\n",
    "# It is SAFE to ignore the warning from re-initializing the parameter RMAX.\n",
    "print(\"Consistency check between ScalarWave tutorial and NRPy+ module:\")\n",
    "print(\"uu_ID - swid.uu_ID: Should be zero: \",sp.simplify(uu_ID - swid.uu_ID))\n",
    "print(\"vv_ID - swid.vv_ID: Should be zero: \",sp.simplify(vv_ID - swid.vv_ID))"
   ]
  },
  {
   "cell_type": "markdown",
   "metadata": {},
   "source": [
    "<a id='latex_pdf_output'></a>\n",
    "\n",
    "# Step 5: Output this module to $\\LaTeX$-formatted PDF file \\[Back to [top](#toc)\\]\n",
    "$$\\label{latex_pdf_output}$$\n",
    "\n",
    "The following code cell converts this Jupyter notebook into a proper, clickable $\\LaTeX$-formatted PDF file. After the cell is successfully run, the generated PDF may be found in the root NRPy+ tutorial directory, with filename\n",
    "[Tutorial-ScalarWave.pdf](Tutorial-ScalarWave.pdf) (Note that clicking on this link may not work; you may need to open the PDF file through another means.)"
   ]
  },
  {
   "cell_type": "code",
   "execution_count": 8,
   "metadata": {},
   "outputs": [
    {
     "name": "stdout",
     "output_type": "stream",
     "text": [
      "[NbConvertApp] Converting notebook Tutorial-ScalarWave.ipynb to latex\n",
      "[NbConvertApp] Writing 63651 bytes to Tutorial-ScalarWave.tex\n",
      "This is pdfTeX, Version 3.14159265-2.6-1.40.18 (TeX Live 2017/Debian) (preloaded format=pdflatex)\n",
      " restricted \\write18 enabled.\n",
      "entering extended mode\n",
      "This is pdfTeX, Version 3.14159265-2.6-1.40.18 (TeX Live 2017/Debian) (preloaded format=pdflatex)\n",
      " restricted \\write18 enabled.\n",
      "entering extended mode\n",
      "This is pdfTeX, Version 3.14159265-2.6-1.40.18 (TeX Live 2017/Debian) (preloaded format=pdflatex)\n",
      " restricted \\write18 enabled.\n",
      "entering extended mode\n"
     ]
    }
   ],
   "source": [
    "!jupyter nbconvert --to latex --template latex_nrpy_style.tplx Tutorial-ScalarWave.ipynb\n",
    "!pdflatex -interaction=batchmode Tutorial-ScalarWave.tex\n",
    "!pdflatex -interaction=batchmode Tutorial-ScalarWave.tex\n",
    "!pdflatex -interaction=batchmode Tutorial-ScalarWave.tex\n",
    "!rm -f Tut*.out Tut*.aux Tut*.log"
   ]
  }
 ],
 "metadata": {
  "kernelspec": {
   "display_name": "Python 2",
   "language": "python",
   "name": "python2"
  },
  "language_info": {
   "codemirror_mode": {
    "name": "ipython",
    "version": 2
   },
   "file_extension": ".py",
   "mimetype": "text/x-python",
   "name": "python",
   "nbconvert_exporter": "python",
   "pygments_lexer": "ipython2",
   "version": "2.7.13"
  }
 },
 "nbformat": 4,
 "nbformat_minor": 2
}
