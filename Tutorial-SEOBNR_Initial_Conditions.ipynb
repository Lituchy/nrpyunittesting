{
 "cells": [
  {
   "cell_type": "markdown",
   "metadata": {},
   "source": [
    "# The Spinning Effective One-Body Initial Condition Solver\n",
    "\n",
    "### Author: Tyler Knowles\n",
    "\n",
    "## This module documents the reduced spinning effective one-body initial condition solver as numerically implemented in LALSuite's SEOBNRv3 gravitational waveform approximant.  That is, we follow Section IV A of [Buonanno, Chen, and Damour (2006)](https://arxiv.org/abs/gr-qc/0508067).\n",
    "\n",
    "### Throughout this module, we will refer to\n",
    "* [Pan, Buonanno, Buchman et. al. (2010)](https://arxiv.org/abs/0912.3466v2) as PBB2010,\n",
    "* [Buonanno, Chen, and Damour (2006)](https://arxiv.org/abs/gr-qc/0508067) as BCD2006, and\n",
    "* [Barausse and Buonanno (2010)](https://arxiv.org/abs/0912.3517) as BB2010.\n",
    "\n",
    "<font color='green'>**This module has been validated against the LALSuite SEOBNRv3/SEOBNRv3_opt code that was reviewed and approved for LIGO parameter estimation by the LIGO Scientific Collaboration.**</font>"
   ]
  },
  {
   "cell_type": "markdown",
   "metadata": {},
   "source": [
    "<a id='toc'></a>\n",
    "\n",
    "# Table of Contents\n",
    "$$\\label{toc}$$\n",
    "\n",
    "This module is organized as follows, matching the \"steps\" listed in [BCD2006](https://arxiv.org/abs/gr-qc/0508067):\n",
    "\n",
    "0. [Introduction:](#intro) The Physical System of Interest\n",
    "1. [Step 1:](#step1) Initial Coordinate Choice\n",
    "1. [Step 2:](#step2) Compute ${\\bf r}$, ${\\bf p}_{r}$, ${\\bf p}_{\\theta}$, and ${\\bf p}_{\\phi}$\n",
    "1. [Step 3:](#step3) Rotate $\\hat{\\bf L} \\to {\\bf e}_{z}$\n",
    "1. [Step 4:](#step4) Compute $\\dot{\\bf r}$\n",
    "1. [Step 5:](#step5) Invert the rotation of Step 3\n",
    "1. [Output](#latex_pdf_output): Output this module to $\\LaTeX$-formatted PDF"
   ]
  },
  {
   "cell_type": "markdown",
   "metadata": {},
   "source": [
    "<a id='intro'></a>\n",
    "\n",
    "# Introduction: The Physical System of Interest \\[Back to [top](#toc)\\]\n",
    "$$\\label{intro}$$\n",
    "\n",
    "Consider two compact objects (e.g. black holes or neutron stars) with masses $m_{1}$, $m_{2}$ (in solar masses) and spin angular momenta ${\\bf S}_{1}$, ${\\bf S}_{2}$ in a binary system.  The spinning effective one-body (\"SEOB\") Hamiltonian $H_{\\rm real}$ (see [BB2010](https://arxiv.org/abs/0912.3517) Equation (5.69)) describes the dynamics of this system.  We seek initial conditions for nonadiabatic evolutions of such a system, and follow [BCD2006](https://arxiv.org/abs/gr-qc/0508067) Section IV A.\n",
    "\n",
    "Please note that throughout this notebook we adpot the following conventions:\n",
    "1. $c = G = 1$ where $c$ is the speed of light in a vacuum and $G$ is Newton's gravitational constant,\n",
    "1. hatted vectors (e.g. $\\hat{\\bf L}_{N}$) usually denote scaled or unit vectors, and\n",
    "1. the initial inclination angle $\\iota$ is chosen to be zero.\n",
    "\n",
    "Choose a spatial coordinate basis $\\left\\{ {\\bf e}_{0}, {\\bf e}_{1}, {\\bf e}_{2} \\right\\}$ so that the initial separation vector ${\\bf r}$ between the compact objects lies along the ${\\bf e}_{0}$-axis.  We start with the following parameters:\n",
    "1. binary parameters $m_{1}$, $m_{2}$, ${\\bf S}_{1}$, and ${\\bf S}_{2}$,\n",
    "1. initial frequency $f$, and\n",
    "1. SEOB model parameters (constants dependent on $m_{1}$, $m_{2}$).\n",
    "\n",
    "Our goal is to produce initial dynamical variables\n",
    "1. ${\\bf x} = \\left( x, y, z \\right)$, and\n",
    "1. ${\\bf p} = \\left( p_{x}, p_{y}, p_{z} \\right)$.\n",
    "\n",
    "We include below the physical parameters necessary to compute the initial conditions.  Solving for the initial conditions requires computing $\\frac{ \\partial H_{\\rm real} }{ \\partial p_{i} }$ for $i \\in \\left\\{ r, \\theta, \\phi \\right\\}$, <font color='red'>which we defer to another module</font>.\n",
    "\n",
    "<font color='red'>Please note that in [BCD2006](https://arxiv.org/abs/gr-qc/0508067) the initial conditions are solved for given an initial separation; here we use a given initial frequency instead.  The difference is in our approach to solving Equation (4.8).  Our approach also differs from that found in LALSuite's XLALSimIMRSpinEOBInitialConditionsPrec() function (file: LALSimIMRSpinEOBInitialConditionsPrec.c) because we choose our intial coordinate system so that the inclination angle $\\iota$ is zero (this simplifies their step one and step five).</font>\n",
    "\n",
    "Besides the physical parameters, we also need the [Euler–Mascheroni constant](https://en.wikipedia.org/wiki/Euler%E2%80%93Mascheroni_constant) $\\gamma$ and the [geomtrized](https://en.wikipedia.org/wiki/Geometrized_unit_system) solar mass $\\mathcal{M}_{\\odot}$, both hard-coded in LALSuite with the significant digits shown below.  (The following links are directed to the appropriate LALSuite documentation: [$\\gamma$](https://lscsoft.docs.ligo.org/lalsuite/lal/group___l_a_l_constants__h.html#gac6af32574ff8acaeeafe8bf422281e98) and [$\\mathcal{M}_{\\odot}$](https://lscsoft.docs.ligo.org/lalsuite/lal/group___l_a_l_constants__h.html#gab83f8c705dda3fd0bb2d5f2470bb9cdd).)"
   ]
  },
  {
   "cell_type": "code",
   "execution_count": 1,
   "metadata": {},
   "outputs": [],
   "source": [
    "import sympy as sp\n",
    "m1,m2,S10,S11,S12,S20,S21,S22,f = sp.symbols(\"m1 m2 S10 S11 S12 S20 S21 S22 f\",real=True)\n",
    "dHdpx,dHdpy,dHdpz = sp.symbols(\"dHdpx dHdpy dHdpz\",real=True)\n",
    "\n",
    "gamma = 0.577215664901532860606512090082402431\n",
    "Msol = 4.925491025543575903411922162094833998e-6"
   ]
  },
  {
   "cell_type": "markdown",
   "metadata": {},
   "source": [
    "<a id='step1'></a>\n",
    "\n",
    "# Step 1: Initial Coordinate Choice \\[Back to [top](#toc)\\]\n",
    "$$\\label{step1}$$"
   ]
  },
  {
   "cell_type": "markdown",
   "metadata": {},
   "source": [
    "<a id='massterms'></a>\n",
    "\n",
    "## Mass terms \\[Back to [top](#toc)\\]\n",
    "$$\\label{massterms}$$\n",
    "\n",
    "We begin by defining the following useful quantities:\n",
    "\n",
    "\\begin{align*}\n",
    "    M &= m_{1} + m_{2} \\\\\n",
    "    \\eta &= \\frac{ m_{1} m_{2} }{ M^{2} }\n",
    "\\end{align*}"
   ]
  },
  {
   "cell_type": "code",
   "execution_count": 2,
   "metadata": {},
   "outputs": [],
   "source": [
    "M = m1 + m2\n",
    "Msq = M*M\n",
    "eta = m1*m2/Msq"
   ]
  },
  {
   "cell_type": "markdown",
   "metadata": {},
   "source": [
    "<a id='spinterms'></a>\n",
    "\n",
    "## Spin terms \\[Back to [top](#toc)\\]\n",
    "$$\\label{spinterms}$$\n",
    "\n",
    "<font color='red'>Can we find a source that says how the basis for the orientation of ${\\bf S}_{1}$, ${\\bf S}_{2}$ is chosen?  For now I assume it's in the $\\hat{\\bf r}, \\hat{\\bf v}, \\hat{\\bf L}_{N}$-frame, which is suggestd by the fact that LALSuite rotates them using the same rotation matrix as rotates $\\hat{\\bf r}$, $\\hat{\\bf v}$, and $\\hat{\\bf L}_{N}$ if $\\iota \\not= 0$.</font>  Since we assumed $G = c = 1$, we make the spin angular momenta dimensionless via:\n",
    "\n",
    "\\begin{align*}\n",
    "    \\hat{\\bf S}_{1} &= \\frac{ 1 }{ M^{2} } {\\bf S}_{1} \\\\\n",
    "    \\hat{\\bf S}_{2} &= \\frac{ 1 }{ M^{2} } {\\bf S}_{2}\n",
    "\\end{align*}"
   ]
  },
  {
   "cell_type": "code",
   "execution_count": 3,
   "metadata": {},
   "outputs": [],
   "source": [
    "S1hat0 = S10/Msq\n",
    "S1hat1 = S11/Msq\n",
    "S1hat2 = S12/Msq\n",
    "S2hat0 = S20/Msq\n",
    "S2hat1 = S21/Msq\n",
    "S2hat2 = S22/Msq"
   ]
  },
  {
   "cell_type": "markdown",
   "metadata": {},
   "source": [
    "<a id='rhat'></a>\n",
    "\n",
    "## Normalized Position $\\hat{\\bf r}$ \\[Back to [top](#toc)\\]\n",
    "$$\\label{rhat}$$\n",
    "\n",
    "We assumed that the initial separation vector ${\\bf r}$ lies along the ${\\bf e}_{0}$-axis, so the normalized initial separation vector $\\hat{\\bf r}$ is given by\n",
    "\n",
    "\\begin{align*}\n",
    "    \\hat{\\bf r}^{0} &= 1 \\\\\n",
    "    \\hat{\\bf r}^{1} &= 0 \\\\\n",
    "    \\hat{\\bf r}^{2} &= 0.\n",
    "\\end{align*}\n",
    "\n",
    "See LALSimIMRSpinEOBInitialConditionsPrec.c Lines 803--805."
   ]
  },
  {
   "cell_type": "code",
   "execution_count": 4,
   "metadata": {},
   "outputs": [],
   "source": [
    "rhat0 = 1.\n",
    "rhat1 = 0.\n",
    "rhat2 = 0."
   ]
  },
  {
   "cell_type": "markdown",
   "metadata": {},
   "source": [
    "<a id='ln'></a>\n",
    "\n",
    "## Normalized Orbital Angular Momenutm $\\hat{\\bf L}_{N}$ \\[Back to [top](#toc)\\]\n",
    "$$\\label{ln}$$\n",
    "\n",
    "Since we assume that the initial separation vector ${\\bf r}$ between $m_{1}$ and $m_{2}$ lies along the ${\\bf e}_{0}$-axis, the initial orbital plane coincides with the ${\\bf e}_{0},{\\bf e}_{1}$-plane.  Thus the normalized inital orbital angular momentum vector $\\hat{\\bf L}_{N}$ is given by\n",
    "\n",
    "\\begin{align*}\n",
    "    \\hat{\\bf L}_{N}^{0} &= 0 \\\\\n",
    "    \\hat{\\bf L}_{N}^{1} &= 0 \\\\\n",
    "    \\hat{\\bf L}_{N}^{2} &= 1.\n",
    "\\end{align*}\n",
    "\n",
    "See LALSimIMRSpinEOBInitialConditionsPrec.c Lines 788--790."
   ]
  },
  {
   "cell_type": "code",
   "execution_count": 5,
   "metadata": {},
   "outputs": [],
   "source": [
    "LNhat0 = 0.\n",
    "LNhat1 = 0.\n",
    "LNhat2 = 1."
   ]
  },
  {
   "cell_type": "markdown",
   "metadata": {},
   "source": [
    "<a id='vhat'></a>\n",
    "\n",
    "## Normalized Velocity $\\hat{\\bf v}$ \\[Back to [top](#toc)\\]\n",
    "$$\\label{vhat}$$\n",
    "\n",
    "Given normalized orbital angular momentum ($\\hat{\\bf L}_{N}$) and normalized position ($\\hat{\\bf r}$), the normalized velocity vector ($\\hat{\\bf v}$) is given by\n",
    "\n",
    "\\begin{equation*}\n",
    "    \\hat{\\bf v} = \\frac{ \\hat{\\bf L}_{N} \\times \\hat{\\bf r} }{ \\left\\lvert \\hat{\\bf L}_{N} \\times \\hat{\\bf r} \\right\\rvert }.\n",
    "\\end{equation*}\n",
    "\n",
    "Given $\\hat{\\bf L}_{N} = \\begin{bmatrix} 0 \\\\ 0 \\\\ 1 \\end{bmatrix}$ and $\\hat{\\bf r} = \\begin{bmatrix} 1 \\\\ 0 \\\\ 0 \\end{bmatrix}$ it is clear that $\\hat{\\bf v} = \\begin{bmatrix} 0 \\\\ 1 \\\\ 0 \\end{bmatrix}$.\n",
    "\n",
    "See LALSimIMRSpinEOBInitialConditionsPrec.c Lines 812--814."
   ]
  },
  {
   "cell_type": "code",
   "execution_count": 6,
   "metadata": {},
   "outputs": [],
   "source": [
    "vhat0 = 0.\n",
    "vhat1 = 1.\n",
    "vhat2 = 0."
   ]
  },
  {
   "cell_type": "markdown",
   "metadata": {},
   "source": [
    "## Note \\[Back to [top](#toc)\\]\n",
    "\n",
    "\n",
    "Since we began assuming $\\iota = 0$, we do not need to rotate $\\hat{\\bf r}$, $\\hat{\\bf v}$, $\\hat{\\bf L}_{N}$, ${\\bf S}_{1}$, ${\\bf S}_{2}$, $\\hat{\\bf S}_{1}$, or $\\hat{\\bf S}_{2}$ as is done at LALSimIMRSpinEOBInitialConditionsPrec.c Lines 840."
   ]
  },
  {
   "cell_type": "markdown",
   "metadata": {},
   "source": [
    "<a id='step2'></a>\n",
    "\n",
    "# Step 2: Compute ${\\bf r}$ and ${\\bf p}$ in spherical coordinates \\[Back to [top](#toc)\\]\n",
    "$$\\label{step2}$$"
   ]
  },
  {
   "cell_type": "markdown",
   "metadata": {},
   "source": [
    "<a id='omega'></a>\n",
    "\n",
    "## $\\omega$ \\[Back to [top](#toc)\\]\n",
    "$$\\label{omega}$$\n",
    "\n",
    "<font color='red'>Is there a paper reference for this formula?  It's not quite Newtonian ($\\omega = 2 \\pi f)$.</font>\n",
    " \n",
    "\\begin{equation*}\n",
    "    \\omega = M \\mathcal{M}_{\\odot} \\pi f.\n",
    "\\end{equation*}\n",
    "\n",
    "See LALSimIMRSpinEOBInitialConditionsPrec.c Line 893."
   ]
  },
  {
   "cell_type": "code",
   "execution_count": 7,
   "metadata": {},
   "outputs": [],
   "source": [
    "omega = M*Msol*sp.pi*f"
   ]
  },
  {
   "cell_type": "markdown",
   "metadata": {},
   "source": [
    "<a id='velocity'></a>\n",
    "\n",
    "## Initial Velocity $v$ \\[Back to [top](#toc)\\]\n",
    "$$\\label{velocity}$$\n",
    "\n",
    "<font color='red'>Is there a paper reference for this formula?</font>\n",
    "\n",
    "\\begin{equation*}\n",
    "    v = \\sqrt[3]{ \\omega }.\n",
    "\\end{equation*}\n",
    "\n",
    "See LALSimIMRSpinEOBInitialConditionsPrec.c Line 894."
   ]
  },
  {
   "cell_type": "code",
   "execution_count": 8,
   "metadata": {},
   "outputs": [],
   "source": [
    "v = sp.cbrt(omega)"
   ]
  },
  {
   "cell_type": "markdown",
   "metadata": {},
   "source": [
    "<a id='roots'></a>\n",
    "\n",
    "## Root-finding...\n",
    "\n",
    "$$\\label{roots}$$\n",
    "\n",
    "<font color='red'>**Note: LALSuite scales the initial guesses given to the root-finding routine; see LALSimIMRSpinEOBInitialConditionsPrec.c Line 899.**</font>\n",
    "\n",
    "We will write components of the momentum vector ${\\bf p}$ in spherical coordinates with components ${\\bf p}^{r}$, ${\\bf p}^{\\theta}$, and ${\\bf p}^{\\phi}$.\n",
    "\n",
    "<font color='red'>These are initial guesses for the root-finding routine:\n",
    "\n",
    "\\begin{align*}\n",
    "    {\\bf r}^{r} &= \\frac{ 1 }{ v^{2} } \\\\\n",
    "    {\\bf p}^{\\phi} &= v \\\\\n",
    "    {\\bf p}^{\\theta} &= 0.2.\n",
    "\\end{align*}\n",
    "\n",
    "The root finder seeks to solve\n",
    "\n",
    "\\begin{equation*}\n",
    "    \\begin{bmatrix} \\frac{ \\partial H }{ \\partial {\\bf r}^{r} } \\\\ \\frac{ \\partial H }{ \\partial {\\bf p}^{\\theta} } \\\\ \\frac{ \\partial H }{ \\partial {\\bf p}^{\\phi} } - \\omega \\end{bmatrix} = \\begin{bmatrix} 0 \\\\ 0 \\\\ 0 \\end{bmatrix}.\n",
    "\\end{equation*}\n",
    "\n",
    "As the Hamiltonian is given in Cartesian coordinates, this requires computing $\\frac{ \\partial H }{ \\partial {\\bf r}^{0} }$, $\\frac{ \\partial H }{ \\partial {\\bf p}^{1} }$, and $\\frac{ \\partial H }{ \\partial {\\bf p}^{2} }$ and then converting to spherical coordinates via\n",
    "\n",
    "\\begin{align*}\n",
    "    \\frac{\\partial H}{\\partial {\\bf r}^{r}} &= \\frac{\\partial H}{\\partial {\\bf r}^{0}} - \\frac{\\frac{\\partial H}{\\partial {\\bf p}^{1}}{\\bf p}^{\\phi}}{\\left({\\bf r}^{r}\\right)^{2}} + \\frac{\\frac{\\partial H}{\\partial {\\bf p}^{2}}{\\bf p}^{\\theta}}{\\left({\\bf r}^{r}\\right)^{2}} \\\\\n",
    "    \\frac{\\partial H}{\\partial {\\bf p}^{\\theta}} &= -\\frac{\\frac{\\partial H}{\\partial {\\bf p}^{2}}}{{\\bf r}^{r}} \\\\\n",
    "    \\frac{\\partial H}{\\partial {\\bf p}^{\\phi}} &= \\frac{\\frac{\\partial H}{\\partial {\\bf p}^{1}}}{{\\bf r}^{r}}.\n",
    "\\end{align*}\n",
    "\n",
    "In the end, we should have a cartesian postition vector ${\\bf q}$ and momentum vector ${\\bf p}$.  It seems that because we stared with $\\iota = 0$ that we can use $\\hat{\\bf r}$ instead of $\\hat{\\bf q}$?</font>"
   ]
  },
  {
   "cell_type": "code",
   "execution_count": 9,
   "metadata": {},
   "outputs": [],
   "source": [
    "q0 = 1.\n",
    "q1 = 1.\n",
    "q2 = 1.\n",
    "p0 = 1.\n",
    "p1 = 1.\n",
    "p2 = 1."
   ]
  },
  {
   "cell_type": "markdown",
   "metadata": {},
   "source": [
    "<a id='step3'></a>\n",
    "\n",
    "# Step 3: Rotate $\\hat{\\bf L} \\to {\\bf e}_{z}$ \\[Back to [top](#toc)\\]\n",
    "$$\\label{step3}$$"
   ]
  },
  {
   "cell_type": "markdown",
   "metadata": {},
   "source": [
    "## Note \\[Back to [top](#toc)\\]\n",
    "\n",
    "\n",
    "At this point, see LALSimIMRSpinEOBInitialConditionsPrec.c normalizes the Cartesian separation and momentum vectors constructed in [Step 2](#step2).  We already have a normalized separation vector $\\hat{\\bf r}$, so we skip that step."
   ]
  },
  {
   "cell_type": "markdown",
   "metadata": {},
   "source": [
    "<a id='normp'></a>\n",
    "\n",
    "## Normalize ${\\bf p}$ \\[Back to [top](#toc)\\]\n",
    "$$\\label{normp}$$\n",
    "\n",
    "Next we normalize the new position vector ${\\bf p}$ that we found in [Step 2](#step2):\n",
    "\n",
    "\\begin{equation*}\n",
    "    \\hat{\\bf p} = \\frac{ {\\bf p} }{ \\left\\lvert {\\bf p} \\right\\rvert}.\n",
    "\\end{equation*}\n",
    "\n",
    "See LALSimIMRSpinEOBInitialConditionsPrec.c Line 1101."
   ]
  },
  {
   "cell_type": "code",
   "execution_count": 10,
   "metadata": {},
   "outputs": [],
   "source": [
    "pnorminv = 1/sp.sqrt(p0*p0 + p1*p1 + p2*p2)\n",
    "phat0 = p0*pnorminv\n",
    "phat1 = p1*pnorminv\n",
    "phat2 = p2*pnorminv"
   ]
  },
  {
   "cell_type": "markdown",
   "metadata": {},
   "source": [
    "<a id='lhat'></a>\n",
    "\n",
    "## $\\hat{\\bf L}$ \\[Back to [top](#toc)\\]\n",
    "$$\\label{lhat}$$\n",
    "\n",
    "We compute the normalized relativistic angular momentum vector $\\hat{\\bf L}$ (<font color='red'>find source for this formula?</font>):\n",
    "\n",
    "\\begin{equation*}\n",
    "    \\hat{\\bf L} = \\frac{ \\hat{\\bf r} \\times \\hat{\\bf p} }{ \\left\\lvert \\hat{\\bf r} \\times \\hat{\\bf p} \\right\\rvert }.\n",
    "\\end{equation*}\n",
    "\n",
    "See LALSimIMRSpinEOBInitialConditionsPrec.c Lines 1098--1100."
   ]
  },
  {
   "cell_type": "code",
   "execution_count": 11,
   "metadata": {},
   "outputs": [],
   "source": [
    "Lhat0 = rhat1*phat2 - rhat2*phat1\n",
    "Lhat1 = rhat2*phat0 - rhat0*phat2\n",
    "Lhat2 = rhat0*phat1 - rhat1*phat0\n",
    "Lhatnorminv = 1./sp.sqrt(Lhat0*Lhat0 + Lhat1*Lhat1 + Lhat2*Lhat2)\n",
    "Lhat0 /= Lhatnorminv\n",
    "Lhat1 /= Lhatnorminv\n",
    "Lhat2 /= Lhatnorminv"
   ]
  },
  {
   "cell_type": "markdown",
   "metadata": {},
   "source": [
    "<a id='rotationmatrix'></a>\n",
    "\n",
    "## Rotation matrix \\[Back to [top](#toc)\\]\n",
    "$$\\label{rotationmatrix}$$\n",
    "\n",
    "The rotation matrix from the $\\left\\{ \\hat{\\bf r}, {\\bf v}, \\hat{\\bf L}_{N} \\right\\}$ frame to the $\\left\\{ \\hat{\\bf r}, {\\bf p}, \\hat{\\bf L} \\right\\}$ frame is given by\n",
    "\n",
    "\\begin{equation*}\n",
    "    \\begin{bmatrix} \\hat{\\bf r}^{0} & \\hat{\\bf r}^{1} & \\hat{\\bf r}^{2} \\\\\n",
    "        \\hat{\\bf p}^{0} & \\hat{\\bf p}^{1} & \\hat{\\bf p}^{2} \\\\\n",
    "        \\hat{\\bf L}^{0} & \\hat{\\bf L}^{1} & \\hat{\\bf L}^{2}\\end{bmatrix}.\n",
    "\\end{equation*}\n",
    "\n",
    "<font color='red'>The matrix to invert the rotation is simply the transpose:</font>\n",
    "\n",
    "\\begin{equation*}\n",
    "    \\begin{bmatrix} \\hat{\\bf r}^{0} & \\hat{\\bf p}^{0} & \\hat{\\bf L}^{0} \\\\\n",
    "        \\hat{\\bf r}^{1} & \\hat{\\bf p}^{1} & \\hat{\\bf L}^{1} \\\\\n",
    "        \\hat{\\bf r}^{2} & \\hat{\\bf p}^{2} & \\hat{\\bf L}^{2}\\end{bmatrix}.\n",
    "\\end{equation*}\n",
    "\n",
    "To see that this is indeed the correct matrix inverse, note that by construction $\\hat{\\bf q}$, $\\hat{\\bf p}$, and $\\hat{\\bf L}$ are all unit vectors orthogonal to one another.  See LALSimIMRSpinEOBInitialConditionsPrec.c Line 1107."
   ]
  },
  {
   "cell_type": "code",
   "execution_count": 12,
   "metadata": {},
   "outputs": [],
   "source": [
    "rotate00 = rhat0\n",
    "rotate01 = rhat1\n",
    "rotate02 = rhat2\n",
    "rotate10 = phat0\n",
    "rotate11 = phat1\n",
    "rotate12 = phat2\n",
    "rotate20 = Lhat0\n",
    "rotate21 = Lhat1\n",
    "rotate22 = Lhat2"
   ]
  },
  {
   "cell_type": "markdown",
   "metadata": {},
   "source": [
    "<a id='rotaterhat'></a>\n",
    "\n",
    "## Rotate $\\hat{\\bf r}$ \\[Back to [top](#toc)\\]\n",
    "$$\\label{rotatesrhat}$$\n",
    "\n",
    "We now rotate $\\hat{\\bf r}$.  We'll use primes to denote the rotated vector.\n",
    "\n",
    "\\begin{equation*}\n",
    "    \\hat{\\bf r}^{\\prime} = \\begin{bmatrix} \\hat{\\bf r}^{0} & \\hat{\\bf r}^{1} & \\hat{\\bf r}^{2} \\\\\n",
    "        \\hat{\\bf p}^{0} & \\hat{\\bf p}^{1} & \\hat{\\bf p}^{2} \\\\\n",
    "        \\hat{\\bf L}^{0} & \\hat{\\bf L}^{1} & \\hat{\\bf L}^{2}\\end{bmatrix}\n",
    "        \\begin{bmatrix} \\hat{\\bf r}^{0} \\\\ \\hat{\\bf r}^{1} \\\\ \\hat{\\bf r}^{2} \\end{bmatrix}\n",
    "\\end{equation*}\n",
    "\n",
    "See LALSimIMRSpinEOBInitialConditionsPrec.c Line 1112."
   ]
  },
  {
   "cell_type": "code",
   "execution_count": 13,
   "metadata": {},
   "outputs": [],
   "source": [
    "rhatprm0 = rhat0*rhat0 + rhat1*rhat1 + rhat2*rhat2\n",
    "rhatprm1 = phat0*rhat0 + phat1*rhat1 + phat2*rhat2\n",
    "rhatprm2 = Lhat0*rhat0 + Lhat1*rhat1 + Lhat2*rhat2"
   ]
  },
  {
   "cell_type": "markdown",
   "metadata": {},
   "source": [
    "<a id='rotatevhat'></a>\n",
    "\n",
    "## Rotate $\\hat{\\bf v}$ \\[Back to [top](#toc)\\]\n",
    "$$\\label{rotatevhat}$$\n",
    "\n",
    "We rotate $\\hat{\\bf v}$.  We'll use primes to denote the rotated vector.\n",
    "\n",
    "\\begin{equation*}\n",
    "    \\hat{\\bf v}^{\\prime} = \\begin{bmatrix} \\hat{\\bf r}^{0} & \\hat{\\bf r}^{1} & \\hat{\\bf r}^{2} \\\\\n",
    "        \\hat{\\bf p}^{0} & \\hat{\\bf p}^{1} & \\hat{\\bf p}^{2} \\\\\n",
    "        \\hat{\\bf L}^{0} & \\hat{\\bf L}^{1} & \\hat{\\bf L}^{2}\\end{bmatrix}\n",
    "        \\begin{bmatrix} \\hat{\\bf v}^{0} \\\\ \\hat{\\bf v}^{1} \\\\ \\hat{\\bf v}^{2} \\end{bmatrix}\n",
    "\\end{equation*}\n",
    "\n",
    "See LALSimIMRSpinEOBInitialConditionsPrec.c Line 1113."
   ]
  },
  {
   "cell_type": "code",
   "execution_count": 14,
   "metadata": {},
   "outputs": [],
   "source": [
    "vhatprm0 = rhat0*vhat0 + rhat1*vhat1 + rhat2*vhat2\n",
    "vhatprm1 = phat0*vhat0 + phat1*vhat1 + phat2*vhat2\n",
    "vhatprm2 = Lhat0*vhat0 + Lhat1*vhat1 + Lhat2*vhat2"
   ]
  },
  {
   "cell_type": "markdown",
   "metadata": {},
   "source": [
    "<a id='rotatelnhat'></a>\n",
    "\n",
    "## Rotate $\\hat{\\bf L}_{N}$ \\[Back to [top](#toc)\\]\n",
    "$$\\label{rotatelnhat}$$\n",
    "\n",
    "We rotate $\\hat{\\bf L}_{N}$.  We'll use primes to denote the rotated vector.\n",
    "\n",
    "\\begin{equation*}\n",
    "    \\hat{\\bf L}_{N}^{\\prime} = \\begin{bmatrix} \\hat{\\bf r}^{0} & \\hat{\\bf r}^{1} & \\hat{\\bf r}^{2} \\\\\n",
    "        \\hat{\\bf p}^{0} & \\hat{\\bf p}^{1} & \\hat{\\bf p}^{2} \\\\\n",
    "        \\hat{\\bf L}^{0} & \\hat{\\bf L}^{1} & \\hat{\\bf L}^{2}\\end{bmatrix}\n",
    "        \\begin{bmatrix} \\hat{\\bf L}_{N}^{0} \\\\ \\hat{\\bf L}_{N}^{1} \\\\ \\hat{\\bf L}_{N}^{2} \\end{bmatrix}\n",
    "\\end{equation*}\n",
    "\n",
    "See LALSimIMRSpinEOBInitialConditionsPrec.c Line 1114."
   ]
  },
  {
   "cell_type": "code",
   "execution_count": 15,
   "metadata": {},
   "outputs": [],
   "source": [
    "LNhatprm0 = rhat0*LNhat0 + rhat1*LNhat1 + rhat2*LNhat2\n",
    "LNhatprm1 = phat0*LNhat0 + phat1*LNhat1 + phat2*LNhat2\n",
    "LNhatprm2 = Lhat0*LNhat0 + Lhat1*LNhat1 + Lhat2*LNhat2"
   ]
  },
  {
   "cell_type": "markdown",
   "metadata": {},
   "source": [
    "<a id='rotates1'></a>\n",
    "\n",
    "## Rotate ${\\bf S}_{1}$ \\[Back to [top](#toc)\\]\n",
    "$$\\label{rotates1}$$\n",
    "\n",
    "We rotate ${\\bf S}_{1}$.  We'll use primes to denote the rotated vector.\n",
    "\n",
    "\\begin{equation*}\n",
    "    {\\bf S}_{1}^{\\prime} = \\begin{bmatrix} \\hat{\\bf r}^{0} & \\hat{\\bf r}^{1} & \\hat{\\bf r}^{2} \\\\\n",
    "        \\hat{\\bf p}^{0} & \\hat{\\bf p}^{1} & \\hat{\\bf p}^{2} \\\\\n",
    "        \\hat{\\bf L}^{0} & \\hat{\\bf L}^{1} & \\hat{\\bf L}^{2}\\end{bmatrix}\n",
    "        \\begin{bmatrix} {\\bf S}_{1}^{0} \\\\ {\\bf S}_{1}^{1} \\\\ {\\bf S}_{1}^{2} \\end{bmatrix}\n",
    "\\end{equation*}\n",
    "\n",
    "See LALSimIMRSpinEOBInitialConditionsPrec.c Line 1115."
   ]
  },
  {
   "cell_type": "code",
   "execution_count": 16,
   "metadata": {},
   "outputs": [],
   "source": [
    "S1prm0 = rhat0*S10 + rhat1*S11 + rhat2*S12\n",
    "S1prm1 = phat0*S10 + phat1*S11 + phat2*S12\n",
    "S1prm2 = Lhat0*S10 + Lhat1*S11 + Lhat2*S12"
   ]
  },
  {
   "cell_type": "markdown",
   "metadata": {},
   "source": [
    "<a id='rotates2'></a>\n",
    "\n",
    "## Rotate ${\\bf S}_{2}$ \\[Back to [top](#toc)\\]\n",
    "$$\\label{rotates2}$$\n",
    "\n",
    "We rotate ${\\bf S}_{2}$.  We'll use primes to denote the rotated vector.\n",
    "\n",
    "\\begin{equation*}\n",
    "    {\\bf S}_{2}^{\\prime} = \\begin{bmatrix} \\hat{\\bf r}^{0} & \\hat{\\bf r}^{1} & \\hat{\\bf r}^{2} \\\\\n",
    "        \\hat{\\bf p}^{0} & \\hat{\\bf p}^{1} & \\hat{\\bf p}^{2} \\\\\n",
    "        \\hat{\\bf L}^{0} & \\hat{\\bf L}^{1} & \\hat{\\bf L}^{2}\\end{bmatrix}\n",
    "        \\begin{bmatrix} {\\bf S}_{2}^{0} \\\\ {\\bf S}_{2}^{1} \\\\ {\\bf S}_{2}^{z} \\end{bmatrix}\n",
    "\\end{equation*}\n",
    "\n",
    "See LALSimIMRSpinEOBInitialConditionsPrec.c Line 1116."
   ]
  },
  {
   "cell_type": "code",
   "execution_count": 17,
   "metadata": {},
   "outputs": [],
   "source": [
    "S2prm0 = rhat0*S20 + rhat1*S21 + rhat2*S22\n",
    "S2prm1 = phat0*S20 + phat1*S21 + phat2*S22\n",
    "S2prm2 = Lhat0*S20 + Lhat1*S21 + Lhat2*S22"
   ]
  },
  {
   "cell_type": "markdown",
   "metadata": {},
   "source": [
    "<a id='rotates1hat'></a>\n",
    "\n",
    "## Rotate $\\hat{\\bf S}_{1}$ \\[Back to [top](#toc)\\]\n",
    "$$\\label{rotates1hat}$$\n",
    "\n",
    "We rotate $\\hat{\\bf S}_{1}$.  We'll use primes to denote the rotated vector.\n",
    "\n",
    "\\begin{equation*}\n",
    "    \\hat{\\bf S}_{1}^{\\prime} = \\begin{bmatrix} \\hat{\\bf r}^{0} & \\hat{\\bf r}^{1} & \\hat{\\bf r}^{2} \\\\\n",
    "        \\hat{\\bf p}^{0} & \\hat{\\bf p}^{1} & \\hat{\\bf p}^{2} \\\\\n",
    "        \\hat{\\bf L}^{0} & \\hat{\\bf L}^{1} & \\hat{\\bf L}^{2}\\end{bmatrix}\n",
    "        \\begin{bmatrix} \\hat{\\bf S}_{1}^{0} \\\\ \\hat{\\bf S}_{1}^{1} \\\\ \\hat{\\bf S}_{1}^{1} \\end{bmatrix}\n",
    "\\end{equation*}\n",
    "\n",
    "See LALSimIMRSpinEOBInitialConditionsPrec.c Line 1117."
   ]
  },
  {
   "cell_type": "code",
   "execution_count": 18,
   "metadata": {},
   "outputs": [],
   "source": [
    "S1hatprm0 = rhat0*S1hat0 + rhat1*S1hat1 + rhat2*S1hat2\n",
    "S1hatprm1 = phat0*S1hat0 + phat1*S1hat1 + phat2*S1hat2\n",
    "S1hatprm2 = Lhat0*S1hat0 + Lhat1*S1hat1 + Lhat2*S1hat2"
   ]
  },
  {
   "cell_type": "markdown",
   "metadata": {},
   "source": [
    "<a id='rotates2hat'></a>\n",
    "\n",
    "## Rotate $\\hat{\\bf S}_{2}$ \\[Back to [top](#toc)\\]\n",
    "$$\\label{rotates2hat\\hat}$$\n",
    "\n",
    "We rotate $\\hat{\\bf S}_{2}$.  We'll use primes to denote the rotated vector.\n",
    "\n",
    "\\begin{equation*}\n",
    "    \\hat{\\bf S}_{2}^{\\prime} = \\begin{bmatrix} \\hat{\\bf r}^{0} & \\hat{\\bf r}^{1} & \\hat{\\bf r}^{2} \\\\\n",
    "        \\hat{\\bf p}^{0} & \\hat{\\bf p}^{1} & \\hat{\\bf p}^{2} \\\\\n",
    "        \\hat{\\bf L}^{0} & \\hat{\\bf L}^{1} & \\hat{\\bf L}^{2}\\end{bmatrix}\n",
    "        \\begin{bmatrix} \\hat{\\bf S}_{2}^{0} \\\\ \\hat{\\bf S}_{2}^{1} \\\\ \\hat{\\bf S}_{2}^{2} \\end{bmatrix}\n",
    "\\end{equation*}\n",
    "\n",
    "See LALSimIMRSpinEOBInitialConditionsPrec.c Line 1118."
   ]
  },
  {
   "cell_type": "code",
   "execution_count": 19,
   "metadata": {},
   "outputs": [],
   "source": [
    "S2hatprm0 = rhat0*S2hat0 + rhat1*S2hat1 + rhat2*S2hat2\n",
    "S2hatprm1 = phat0*S2hat0 + phat1*S2hat1 + phat2*S2hat2\n",
    "S2hatprm2 = Lhat0*S2hat0 + Lhat1*S2hat1 + Lhat2*S2hat2"
   ]
  },
  {
   "cell_type": "markdown",
   "metadata": {},
   "source": [
    "<a id='rotater'></a>\n",
    "\n",
    "## Rotate ${\\bf r}$ \\[Back to [top](#toc)\\]\n",
    "$$\\label{rotater}$$\n",
    "\n",
    "We rotate ${\\bf p}$.  We'll use primes to denote the rotated vector.\n",
    "\n",
    "\\begin{equation*}\n",
    "    {\\bf r}^{\\prime} = \\begin{bmatrix} \\hat{\\bf r}^{0} & \\hat{\\bf r}^{1} & \\hat{\\bf r}^{2} \\\\\n",
    "        \\hat{\\bf p}^{0} & \\hat{\\bf p}^{1} & \\hat{\\bf p}^{2} \\\\\n",
    "        \\hat{\\bf L}^{0} & \\hat{\\bf L}^{1} & \\hat{\\bf L}^{2}\\end{bmatrix}\n",
    "        \\begin{bmatrix} {\\bf r}^{0} \\\\ {\\bf r}^{1} \\\\ {\\bf r}^{2} \\end{bmatrix}\n",
    "\\end{equation*}\n",
    "\n",
    "See LALSimIMRSpinEOBInitialConditionsPrec.c Line 1119."
   ]
  },
  {
   "cell_type": "code",
   "execution_count": 20,
   "metadata": {},
   "outputs": [],
   "source": [
    "rprm0 = rhat0*p0 + rhat1*p1 + rhat2*p2\n",
    "rprm1 = phat0*p0 + phat1*p1 + phat2*p2\n",
    "rprm2 = Lhat0*p0 + Lhat1*p1 + Lhat2*p2"
   ]
  },
  {
   "cell_type": "markdown",
   "metadata": {},
   "source": [
    "<a id='rotatep'></a>\n",
    "\n",
    "## Rotate ${\\bf p}$ \\[Back to [top](#toc)\\]\n",
    "$$\\label{rotatep}$$\n",
    "\n",
    "We rotate ${\\bf p}$.  We'll use primes to denote the rotated vector.\n",
    "\n",
    "\\begin{equation*}\n",
    "    {\\bf p}^{\\prime} = \\begin{bmatrix} \\hat{\\bf r}^{0} & \\hat{\\bf r}^{1} & \\hat{\\bf r}^{2} \\\\\n",
    "        \\hat{\\bf p}^{0} & \\hat{\\bf p}^{1} & \\hat{\\bf p}^{2} \\\\\n",
    "        \\hat{\\bf L}^{0} & \\hat{\\bf L}^{1} & \\hat{\\bf L}^{2}\\end{bmatrix}\n",
    "        \\begin{bmatrix} {\\bf p}^{0} \\\\ {\\bf p}^{y} \\\\ {\\bf p}^{2} \\end{bmatrix}\n",
    "\\end{equation*}\n",
    "\n",
    "See LALSimIMRSpinEOBInitialConditionsPrec.c Line 1120."
   ]
  },
  {
   "cell_type": "code",
   "execution_count": 21,
   "metadata": {},
   "outputs": [],
   "source": [
    "pprm0 = rhat0*p0 + rhat1*p1 + rhat2*p2\n",
    "pprm1 = phat0*p0 + phat1*p1 + phat2*p2\n",
    "pprm2 = Lhat0*p0 + Lhat1*p1 + Lhat2*p2"
   ]
  },
  {
   "cell_type": "markdown",
   "metadata": {},
   "source": [
    "<a id='step4'></a>\n",
    "\n",
    "# Step 4: Compute $\\dot{\\bf r}$ \\[Back to [top](#toc)\\]\n",
    "$$\\label{step4}$$"
   ]
  },
  {
   "cell_type": "markdown",
   "metadata": {},
   "source": [
    "<a id='carttosph'></a>\n",
    "\n",
    "## Convert from Cartesian to Spherical \\[Back to [top](#toc)\\]\n",
    "$$\\label{carttosph}$$\n",
    "\n",
    "We convert position and momentum into spherical coordinates.  In the special case where $\\theta = \\frac{ \\pi }{ 2 }$ and $\\phi = 0$, the spherical position vector ${\\bf r} = \\left( {\\bf r}^{r}, {\\bf r}^{\\theta}, {\\bf r}^{\\phi} \\right)$ is given by\n",
    "\n",
    "\\begin{align*}\n",
    "    {\\bf r}^{r} &= {\\bf r}^{0} \\\\\n",
    "    {\\bf r}^{\\theta} &= \\frac{ \\pi }{ 2 } \\\\\n",
    "    {\\bf r}^{\\phi} &= 0\n",
    "\\end{align*}\n",
    "\n",
    "and the spherical momentum vector ${\\bf p} = \\left( {\\bf p}^{r}, {\\bf p}^{\\theta}, {\\bf p}^{\\phi} \\right)$ is given by\n",
    "\n",
    "\\begin{align*}\n",
    "    {\\bf p}^{r} &= {\\bf p}^{0} \\\\\n",
    "    {\\bf p}^{\\theta} &= - {\\bf r}^{0}{\\bf p}^{2} \\\\\n",
    "    {\\bf p}^{\\phi} &= {\\bf r}^{0}{\\bf p}^{1} \\\\\n",
    "\\end{align*}\n",
    "\n",
    "We call a Cartesian to spherical routine at LALSimIMRSpinEOBInitialConditionsPrec.c Line 1139, and the function itself is defined on Lines 243--285."
   ]
  },
  {
   "cell_type": "code",
   "execution_count": 22,
   "metadata": {},
   "outputs": [],
   "source": [
    "rr = rprm0\n",
    "rtheta = sp.pi/2.\n",
    "rphi = 0.\n",
    "pr = pprm0\n",
    "ptheta = -rprm0*pprm2\n",
    "pphi = rprm0*pprm1"
   ]
  },
  {
   "cell_type": "markdown",
   "metadata": {},
   "source": [
    "<a id='secondderiv'></a>\n",
    "\n",
    "## Second derivatives of $H_{\\rm real}$ \\[Back to [top](#toc)\\]\n",
    "$$\\label{seconderiv}$$\n",
    "\n",
    "We need to compute $\\frac{ \\partial H }{ \\partial {\\bf p}^{\\phi} }$, $\\frac{ \\partial^{2} H_{\\rm real} }{ \\partial r^{2} }$, and $\\frac{ \\partial^{2} H_{\\rm real} }{ \\partial r \\partial {\\bf p}^{\\phi} }$ (<font color='red'>in another module</font>).\n",
    "\n",
    "<font color='red'>Note: be sure that, following this, we use normalized spins.</font>"
   ]
  },
  {
   "cell_type": "code",
   "execution_count": 23,
   "metadata": {},
   "outputs": [],
   "source": [
    "dHdpphi = 0.\n",
    "d2Hdr2 = 0.\n",
    "d2Hdrdpphi = 1."
   ]
  },
  {
   "cell_type": "markdown",
   "metadata": {},
   "source": [
    "<a id='dEdr'></a>\n",
    "\n",
    "## $\\frac{ \\partial E }{ \\partial r }$ \\[Back to [top](#toc)\\]\n",
    "$$\\label{dEdr}$$\n",
    "\n",
    "I don't know what this is or means (see [BCD2006](https://arxiv.org/abs/gr-qc/0508067) Equations (4.14) and (3.7)), but we compute $\\frac{ \\partial E }{ \\partial r }$ in spherical coordinates (when ${\\bf r}$ is directed along the ${\\bf e}_{0}$ axis) via\n",
    "\n",
    "\\begin{equation*}\n",
    "    \\frac{ \\partial E }{ \\partial r } = -\\frac{ \\frac{ \\partial H }{ \\partial {\\bf p}^{\\phi} } \\frac{ \\partial^{2} H }{ \\left(\\partial {\\bf r}^{r} \\right)^{2} } }{ \\frac{ \\partial^{2} H }{ \\partial H \\partial {\\bf p}^{\\phi} } }.\n",
    "\\end{equation*}\n",
    "\n",
    "<font color='red'></font>"
   ]
  },
  {
   "cell_type": "code",
   "execution_count": 24,
   "metadata": {},
   "outputs": [],
   "source": [
    "dEdr = -dHdpphi*d2Hdr2/d2Hdrdpphi"
   ]
  },
  {
   "cell_type": "markdown",
   "metadata": {},
   "source": [
    "<a id='skerr'></a>\n",
    "\n",
    "## ${\\bf S}_{\\rm Kerr}$ \\[Back to [top](#toc)\\]\n",
    "$$\\label{skerr}$$\n",
    "\n",
    "From [BB2010](https://arxiv.org/abs/0912.3517) Equations (5.2), (5.63), and (5.67) we have\n",
    "\n",
    "\\begin{equation*}\n",
    "    {\\bf S}_{\\rm Kerr} = {\\bf S}_{1} + {\\bf S}_{2}.\n",
    "\\end{equation*}\n",
    "\n",
    "Taking the square of [BB2010](https://arxiv.org/abs/0912.3517) Equation (4.9) <font color='red'>(be careful with the factor or $M$...)</font>,\n",
    "\n",
    "\\begin{equation*}\n",
    "    a^{2} = \\frac{ {\\bf S}_{Kerr} \\cdot {\\bf S}_{Kerr} }{ M^{2} }\n",
    "\\end{equation*}\n",
    "\n",
    "so that\n",
    "\n",
    "\\begin{equation*}\n",
    "    a = \\sqrt{ a^{2} }.\n",
    "\\end{equation*}"
   ]
  },
  {
   "cell_type": "code",
   "execution_count": 25,
   "metadata": {},
   "outputs": [],
   "source": [
    "SKerr0 = S10 + S20\n",
    "SKerr1 = S11 + S21\n",
    "SKerr2 = S12 + S22\n",
    "asq = (SKerr0*SKerr0 + SKerr1*SKerr1 + SKerr2*SKerr2)/(M*M)\n",
    "a = sp.sqrt(asq)"
   ]
  },
  {
   "cell_type": "markdown",
   "metadata": {},
   "source": [
    "<a id='sigmastar'></a>\n",
    "\n",
    "## $\\boldsymbol{\\sigma}^{*}$ \\[Back to [top](#toc)\\]\n",
    "$$\\label{sigmastar}$$\n",
    "\n",
    "From [BB2010](https://arxiv.org/abs/0912.3517) Equation (5.3),\n",
    "\n",
    "\\begin{equation*}\n",
    "    \\boldsymbol{\\sigma}^{*} = \\frac{ m_{2} }{ m_{1} } {\\bf S}_{1} + \\frac{ m_{1} }{ m_{2} }{\\bf S}_{2}.\n",
    "\\end{equation*}"
   ]
  },
  {
   "cell_type": "code",
   "execution_count": 26,
   "metadata": {},
   "outputs": [],
   "source": [
    "sigmastar0 = S10*m2/m1 + S20*m1/m2\n",
    "sigmastar1 = S11*m2/m1 + S21*m1/m2\n",
    "sigmastar2 = S12*m2/m1 + S22*m1/m2"
   ]
  },
  {
   "cell_type": "markdown",
   "metadata": {},
   "source": [
    "<a id='Hreal'></a>\n",
    "\n",
    "## $H_{\\rm real}$ \\[Back to [top](#toc)\\]\n",
    "$$\\label{Hreal}$$\n",
    "\n",
    "We now compute $H_{\\rm real}$ (LALSimIMRSpinEOBInitialConditionsPrec.c Line 1217) (<font color='red'>another module</font>)."
   ]
  },
  {
   "cell_type": "code",
   "execution_count": 27,
   "metadata": {},
   "outputs": [],
   "source": [
    "Hreal = 0"
   ]
  },
  {
   "cell_type": "markdown",
   "metadata": {},
   "source": [
    "<a id='polardata'></a>\n",
    "\n",
    "## Polar data \\[Back to [top](#toc)\\]\n",
    "$$\\label{polardata}$$\n",
    "\n",
    "At LALSimIMRSpinEOBInitialConditionsPrec.c Lines 1234--1238, we set the following polar data ${\\bf P}$ <font color='red'>(need to find reference for this?)</font>:\n",
    "\n",
    "\\begin{align*}\n",
    "    {\\bf P}^{0} &= {\\bf r}^{r} \\\\\n",
    "    {\\bf P}^{1} &= 0 \\\\\n",
    "    {\\bf P}^{2} &= {\\bf p}^{r} \\\\\n",
    "    {\\bf P}^{3} &= {\\bf p}^{\\phi}\n",
    "\\end{align*}"
   ]
  },
  {
   "cell_type": "code",
   "execution_count": 28,
   "metadata": {},
   "outputs": [],
   "source": [
    "polar0 = rr\n",
    "polar1 = 0.\n",
    "polar2 = pr\n",
    "polar3 = pphi"
   ]
  },
  {
   "cell_type": "markdown",
   "metadata": {},
   "source": [
    "<a id='l'></a>\n",
    "\n",
    "## Compute ${\\bf L}$ \\[Back to [top](#toc)\\]\n",
    "$$\\label{l}$$\n",
    "\n",
    "We compute ${\\bf L} = {\\bf r}^{\\prime}\\times{\\bf p}^{\\prime}$ and normalize as follows.\n",
    "\n",
    "\\begin{equation*}\n",
    "    {\\bf L} = \\frac{ {\\bf r}^{\\prime} \\times {\\bf p}^{\\prime} }{ \\left\\lvert {\\bf r}^{\\prime} \\times {\\bf p}^{\\prime} \\right\\rvert }\n",
    "\\end{equation*}\n",
    "\n",
    "See LALSimIMRSpinEOBFactorizedFluxPrec_v3opt.c lines 121--129."
   ]
  },
  {
   "cell_type": "code",
   "execution_count": null,
   "metadata": {},
   "outputs": [],
   "source": [
    "L0 = rprm1*pprm2 - rprm2*pprm1\n",
    "L1 = rprm2*pprm0 - rprm0*pprm2\n",
    "L2 = rprm0*pprm1 - rprm1*pprm0\n",
    "Lmaginv = 1./sp.sqrt(rprmcrosspprm0*rprmcrosspprm0\n",
    "                                 + rprmcrosspprm1*rprmcrosspprm1\n",
    "                                 + rprmcrosspprm2*rprmcrosspprm2)\n",
    "L0 /= Lmaginv\n",
    "L1 /= Lmaginv\n",
    "L2 /= Lmaginv"
   ]
  },
  {
   "cell_type": "markdown",
   "metadata": {},
   "source": [
    "<a id='s1dot'></a>\n",
    "\n",
    "## ${\\bf S}_{1}\\cdot{\\bf L}$ \\[Back to [top](#toc)\\]\n",
    "$$\\label{s1dotl}$$\n",
    "\n",
    "We compute ${\\bf r}^{\\prime}\\times{\\bf p}^{\\prime}$ and normalize as follows.\n",
    "\n",
    "See LALSimIMRSpinEOBFactorizedFluxPrec_v3opt.c lines 121--129."
   ]
  },
  {
   "cell_type": "markdown",
   "metadata": {},
   "source": [
    "<a id='step5'></a>\n",
    "\n",
    "# Step 5: Invert the rotation of Step 3 \\[Back to [top](#toc)\\]\n",
    "$$\\label{step5}$$"
   ]
  },
  {
   "cell_type": "markdown",
   "metadata": {},
   "source": [
    "<a id='invrotationmatrix'></a>\n",
    "\n",
    "## Inverse Rotation Matrix \\[Back to [top](#toc)\\]\n",
    "$$\\label{invrotationmatrix}$$\n",
    "\n",
    "The matrix to invert the rotation applied in [Step 3](#step3) is:\n",
    "\n",
    "\\begin{equation*}\n",
    "    \\begin{bmatrix} \\hat{\\bf r}^{0} & \\hat{\\bf p}^{0} & \\hat{\\bf L}^{0} \\\\\n",
    "        \\hat{\\bf r}^{1} & \\hat{\\bf p}^{1} & \\hat{\\bf L}^{1} \\\\\n",
    "        \\hat{\\bf r}^{2} & \\hat{\\bf p}^{2} & \\hat{\\bf L}^{2}\\end{bmatrix}.\n",
    "\\end{equation*}\n",
    "\n",
    "To see that this is indeed the correct matrix inverse, note that by construction $\\hat{\\bf q}$, $\\hat{\\bf p}$, and $\\hat{\\bf L}$ are all unit vectors orthogonal to one another.  See LALSimIMRSpinEOBInitialConditionsPrec.c Line 1107."
   ]
  },
  {
   "cell_type": "code",
   "execution_count": 29,
   "metadata": {},
   "outputs": [],
   "source": [
    "invert00 = rhat0\n",
    "invert01 = phat0\n",
    "invert02 = Lhat0\n",
    "invert10 = rhat1\n",
    "invert11 = phat1\n",
    "invert12 = Lhat1\n",
    "invert20 = rhat2\n",
    "invert21 = phat2\n",
    "invert22 = Lhat2"
   ]
  },
  {
   "cell_type": "markdown",
   "metadata": {},
   "source": [
    "<a id='invrotaterhat'></a>\n",
    "\n",
    "## Rotate $\\hat{\\bf r}^{\\prime}$ \\[Back to [top](#toc)\\]\n",
    "$$\\label{invrotaterhat}$$\n",
    "\n",
    "We rotate $\\hat{\\bf r}^{\\prime}$ and call the new separation vector ${\\bf r}$.\n",
    "\n",
    "\\begin{equation*}\n",
    "    \\hat{\\bf r} = \\begin{bmatrix} \\hat{\\bf r}^{0} & \\hat{\\bf p}^{0} & \\hat{\\bf L}^{0} \\\\\n",
    "        \\hat{\\bf r}^{1} & \\hat{\\bf p}^{1} & \\hat{\\bf L}^{1} \\\\\n",
    "        \\hat{\\bf r}^{2} & \\hat{\\bf p}^{2} & \\hat{\\bf L}^{2} \\end{bmatrix}\n",
    "        \\begin{bmatrix} \\hat{\\bf r}^{\\prime 0} \\\\ \\hat{\\bf r}^{\\prime 1} \\\\ \\hat{\\bf r}^{\\prime 2} \\end{bmatrix}\n",
    "\\end{equation*}\n",
    "\n",
    "See LALSimIMRSpinEOBInitialConditionsPrec.c Line 1315."
   ]
  },
  {
   "cell_type": "code",
   "execution_count": 30,
   "metadata": {},
   "outputs": [],
   "source": [
    "rhat0 = rhat0*rhatprm0 + phat0*rhatprm1 + Lhat0*rhatprm2\n",
    "rhat1 = rhat1*rhatprm0 + phat1*rhatprm1 + Lhat1*rhatprm2\n",
    "rhat0 = rhat2*rhatprm0 + phat2*rhatprm1 + Lhat2*rhatprm2"
   ]
  },
  {
   "cell_type": "markdown",
   "metadata": {},
   "source": [
    "<a id='invrotatevhat'></a>\n",
    "\n",
    "## Rotate $\\hat{\\bf v}^{\\prime}$ \\[Back to [top](#toc)\\]\n",
    "$$\\label{invrotatevhat}$$\n",
    "\n",
    "We rotate $\\hat{\\bf v}^{\\prime}$ and call the new separation vector ${\\bf v}$.\n",
    "\n",
    "\\begin{equation*}\n",
    "    \\hat{\\bf v} = \\begin{bmatrix} \\hat{\\bf r}^{0} & \\hat{\\bf p}^{0} & \\hat{\\bf L}^{0} \\\\\n",
    "        \\hat{\\bf r}^{1} & \\hat{\\bf p}^{1} & \\hat{\\bf L}^{1} \\\\\n",
    "        \\hat{\\bf r}^{2} & \\hat{\\bf p}^{2} & \\hat{\\bf L}^{2} \\end{bmatrix}\n",
    "        \\begin{bmatrix} \\hat{\\bf v}^{\\prime 0} \\\\ \\hat{\\bf v}^{\\prime 1} \\\\ \\hat{\\bf v}^{\\prime 2} \\end{bmatrix}\n",
    "\\end{equation*}\n",
    "\n",
    "See LALSimIMRSpinEOBInitialConditionsPrec.c Line 1316."
   ]
  },
  {
   "cell_type": "code",
   "execution_count": 31,
   "metadata": {},
   "outputs": [],
   "source": [
    "vhat0 = rhat0*vhatprm0 + phat0*vhatprm1 + Lhat0*vhatprm2\n",
    "vhat1 = rhat1*vhatprm0 + phat1*vhatprm1 + Lhat1*vhatprm2\n",
    "vhat2 = rhat2*vhatprm0 + phat2*vhatprm1 + Lhat2*vhatprm2"
   ]
  },
  {
   "cell_type": "markdown",
   "metadata": {},
   "source": [
    "<a id='invrotatelnhat'></a>\n",
    "\n",
    "## Rotate $\\hat{\\bf L}_{N}^{\\prime}$ \\[Back to [top](#toc)\\]\n",
    "$$\\label{invrotatelnhat}$$\n",
    "\n",
    "We rotate $\\hat{\\bf L}_{N}^{\\prime}$ and call the new separation vector ${\\bf L}_{N}$.\n",
    "\n",
    "\\begin{equation*}\n",
    "    \\hat{\\bf L}_{N} = \\begin{bmatrix} \\hat{\\bf r}^{0} & \\hat{\\bf p}^{0} & \\hat{\\bf L}^{0} \\\\\n",
    "        \\hat{\\bf r}^{1} & \\hat{\\bf p}^{1} & \\hat{\\bf L}^{1} \\\\\n",
    "        \\hat{\\bf r}^{2} & \\hat{\\bf p}^{2} & \\hat{\\bf L}^{2} \\end{bmatrix}\n",
    "        \\begin{bmatrix} \\hat{\\bf L}_{N}^{\\prime 0} \\\\ \\hat{\\bf L}_{N}^{\\prime 1} \\\\ \\hat{\\bf L}_{N}^{\\prime 2} \\end{bmatrix}\n",
    "\\end{equation*}\n",
    "\n",
    "See LALSimIMRSpinEOBInitialConditionsPrec.c Line 1317."
   ]
  },
  {
   "cell_type": "code",
   "execution_count": 32,
   "metadata": {},
   "outputs": [],
   "source": [
    "LNhat0 = rhat0*LNhatprm0 + phat0*LNhatprm1 + Lhat0*LNhatprm2\n",
    "LNhat1 = rhat1*LNhatprm0 + phat1*LNhatprm1 + Lhat1*LNhatprm2\n",
    "LNhat2 = rhat2*LNhatprm0 + phat2*LNhatprm1 + Lhat2*LNhatprm2"
   ]
  },
  {
   "cell_type": "markdown",
   "metadata": {},
   "source": [
    "<a id='tortoise_matrix'></a>\n",
    "\n",
    "# Tortoise Conversion Matrix \\[Back to [top](#toc)\\]\n",
    "$$\\label{tortoise_matrix}$$\n",
    "\n",
    "<font color='red'>We're now back to LALSpinPrecHcapRvecDerivative_v3opt.c, Lines 92--96.</font>\n",
    "\n",
    "From [Pan, Buonanno, Buchman, et. al. (2010)](https://arxiv.org/abs/0912.3466v2) Equation (A3) the matrix for the coordinate conversion to tortoise coordinates is\n",
    "\n",
    "\\begin{align*}\n",
    "    \\begin{pmatrix} 1 + \\frac{ x^{2} }{ r^{2} } \\left( \\xi - 1 \\right) & \\frac{ x y }{ r^{2} } \\left( \\xi - 1 \\right) & \\frac{ x z }{ r^{2} } \\left( \\xi - 1 \\right) \\\\\n",
    "        \\frac{ x y }{ r^{2} } \\left( \\xi - 1 \\right) & 1 + \\frac{ y^{2} }{ r^{2} } \\left( \\xi - 1 \\right) & \\frac{ y z }{ r^{2} } \\left( \\xi - 1 \\right) \\\\\n",
    "        \\frac{ x z }{ r^{2} } \\left( \\xi - 1 \\right) & \\frac{ y z }{ r^{2} } \\left( \\xi - 1 \\right) & 1 + \\frac{ z^{2} }{ r^{2} } \\left( \\xi - 1 \\right) \\end{pmatrix}\n",
    "\\end{align*}"
   ]
  },
  {
   "cell_type": "code",
   "execution_count": 33,
   "metadata": {},
   "outputs": [
    {
     "ename": "NameError",
     "evalue": "global name 'xi' is not defined",
     "output_type": "error",
     "traceback": [
      "\u001b[0;31m---------------------------------------------------------------------------\u001b[0m",
      "\u001b[0;31mNameError\u001b[0m                                 Traceback (most recent call last)",
      "\u001b[0;32m<ipython-input-33-b29c77163f04>\u001b[0m in \u001b[0;36m<module>\u001b[0;34m()\u001b[0m\n\u001b[0;32m----> 1\u001b[0;31m \u001b[0mximinus1\u001b[0m \u001b[0;34m=\u001b[0m \u001b[0mxi\u001b[0m \u001b[0;34m-\u001b[0m \u001b[0;36m1\u001b[0m\u001b[0;34m\u001b[0m\u001b[0m\n\u001b[0m\u001b[1;32m      2\u001b[0m toTort = sp.Array([[1 + x*x*ximinus1/(r*r), x*y*ximinus1/(r*r), x*z*ximinus1/(r*r)],\n\u001b[1;32m      3\u001b[0m                    \u001b[0;34m[\u001b[0m\u001b[0mx\u001b[0m\u001b[0;34m*\u001b[0m\u001b[0my\u001b[0m\u001b[0;34m*\u001b[0m\u001b[0mximinus1\u001b[0m\u001b[0;34m/\u001b[0m\u001b[0;34m(\u001b[0m\u001b[0mr\u001b[0m\u001b[0;34m*\u001b[0m\u001b[0mr\u001b[0m\u001b[0;34m)\u001b[0m\u001b[0;34m,\u001b[0m \u001b[0;36m1\u001b[0m \u001b[0;34m+\u001b[0m \u001b[0my\u001b[0m\u001b[0;34m*\u001b[0m\u001b[0my\u001b[0m\u001b[0;34m*\u001b[0m\u001b[0mximinus1\u001b[0m\u001b[0;34m/\u001b[0m\u001b[0;34m(\u001b[0m\u001b[0mr\u001b[0m\u001b[0;34m*\u001b[0m\u001b[0mr\u001b[0m\u001b[0;34m)\u001b[0m\u001b[0;34m,\u001b[0m \u001b[0my\u001b[0m\u001b[0;34m*\u001b[0m\u001b[0mz\u001b[0m\u001b[0;34m*\u001b[0m\u001b[0mximinus1\u001b[0m\u001b[0;34m/\u001b[0m\u001b[0;34m(\u001b[0m\u001b[0mr\u001b[0m\u001b[0;34m*\u001b[0m\u001b[0mr\u001b[0m\u001b[0;34m)\u001b[0m\u001b[0;34m]\u001b[0m\u001b[0;34m,\u001b[0m\u001b[0;34m\u001b[0m\u001b[0m\n\u001b[1;32m      4\u001b[0m                    [x*z*ximinus1/(r*r), y*z*ximinus1/(r*r), 1 + z*z*ximinus1/(r*r)]])\n",
      "\u001b[0;31mNameError\u001b[0m: global name 'xi' is not defined"
     ]
    }
   ],
   "source": [
    "ximinus1 = xi - 1\n",
    "toTort = sp.Array([[1 + x*x*ximinus1/(r*r), x*y*ximinus1/(r*r), x*z*ximinus1/(r*r)],\n",
    "                   [x*y*ximinus1/(r*r), 1 + y*y*ximinus1/(r*r), y*z*ximinus1/(r*r)],\n",
    "                   [x*z*ximinus1/(r*r), y*z*ximinus1/(r*r), 1 + z*z*ximinus1/(r*r)]])"
   ]
  },
  {
   "cell_type": "markdown",
   "metadata": {},
   "source": [
    "<a id='latex_pdf_output'></a>\n",
    "\n",
    "# Output: Output this module to $\\LaTeX$-formatted PDF file \\[Back to [top](#toc)\\]\n",
    "$$\\label{latex_pdf_output}$$"
   ]
  },
  {
   "cell_type": "code",
   "execution_count": null,
   "metadata": {},
   "outputs": [],
   "source": [
    "!jupyter nbconvert --to latex --template latex_nrpy_style.tplx Tutorial-SEOBNR_Initial_Conditions.ipynb\n",
    "!pdflatex -interaction=batchmode Tutorial-SEOBNR_Initial_Conditions.tex\n",
    "!pdflatex -interaction=batchmode Tutorial-SEOBNR_Initial_Conditions.tex\n",
    "!pdflatex -interaction=batchmode Tutorial-SEOBNR_Initial_Conditions.tex\n",
    "!rm -f Tut*.out Tut*.aux Tut*.log"
   ]
  }
 ],
 "metadata": {
  "kernelspec": {
   "display_name": "Python 2",
   "language": "python",
   "name": "python2"
  },
  "language_info": {
   "codemirror_mode": {
    "name": "ipython",
    "version": 2
   },
   "file_extension": ".py",
   "mimetype": "text/x-python",
   "name": "python",
   "nbconvert_exporter": "python",
   "pygments_lexer": "ipython2",
   "version": "2.7.13"
  }
 },
 "nbformat": 4,
 "nbformat_minor": 2
}
