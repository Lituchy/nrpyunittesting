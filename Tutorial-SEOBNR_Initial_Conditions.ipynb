{
 "cells": [
  {
   "cell_type": "markdown",
   "metadata": {},
   "source": [
    "# The Spinning Effective One-Body Initial Condition Solver\n",
    "\n",
    "### Author: Tyler Knowles\n",
    "\n",
    "## This module documents the reduced spinning effective one-body initial condition solver as numerically implemented in LALSuite's SEOBNRv3 gravitational waveform approximant.\n",
    "\n",
    "### Throughout this module, we will refer to\n",
    "* [Buonanno, Chen, and Damour (2006)](https://arxiv.org/abs/gr-qc/0508067) as BCD2006, and\n",
    "* [Barausse and Buonanno (2010)](https://arxiv.org/abs/0912.3517) as BB2010.\n",
    "\n",
    "<font color='green'>**This module has been validated against the LALSuite SEOBNRv3/SEOBNRv3_opt code that was reviewed and approved for LIGO parameter estimation by the LIGO Scientific Collaboration.**</font>"
   ]
  },
  {
   "cell_type": "markdown",
   "metadata": {},
   "source": [
    "<a id='toc'></a>\n",
    "\n",
    "# Table of Contents\n",
    "$$\\label{toc}$$\n",
    "\n",
    "This module is organized as follows:\n",
    "\n",
    "0. [Introduction](#intro)\n",
    "1. [Step 1](#rderiv): ${\\rm d}r / {\\rm d}t$\n",
    "1. [Output](#latex_pdf_output): Output this module to $\\LaTeX$-formatted PDF"
   ]
  },
  {
   "cell_type": "markdown",
   "metadata": {},
   "source": [
    "<a id='intro'></a>\n",
    "\n",
    "# Introduction: The Physical System of Interest \\[Back to [top](#toc)\\]\n",
    "$$\\label{intro}$$\n",
    "\n",
    "Consider two black holes with masses $m_{1}$, $m_{2}$ and spins ${\\bf S}_{1}$, ${\\bf S}_{2}$ in a binary system.  The spinning effective one-body (\"SEOB\") Hamiltonian $H_{\\rm real}$ (see [BB2010](https://arxiv.org/abs/0912.3517) Equation (5.69)) describes the dynamics of this system.  We seek initial conditions for nonadiabatic evolutions of such a system, and follow [BCD2006](https://arxiv.org/abs/gr-qc/0508067) Section IV A.\n",
    "\n",
    "Please note that throughout this notebook we adpot the following conventions:\n",
    "1. $c = G = 1$ where $c$ is the speed of light in a vacuum and $G$ is Newton's gravitational constant.\n",
    "\n",
    "We start with the following parameters:\n",
    "1. a Cartesian tortoise separation vector $\\left( x, y, z \\right)$ (in units of total mass),\n",
    "1. a Cartesian momentum vector ${\\bf p^{*}}$ (in units of reduced mass),\n",
    "1. a spin vector ${\\bf S}_{1}$ (in units of total mass squared),\n",
    "1. a spin vector ${\\bf S}_{2}$ (in units of total mass squared),\n",
    "1. orbital phase (in radians), and\n",
    "1. $\\alpha \\cdot \\cos\\left( \\iota \\right)$ where $\\iota$ is the inclination of the system.\n",
    "\n",
    "We include below the physical parameters necessary to compute the initial conditions."
   ]
  },
  {
   "cell_type": "code",
   "execution_count": 1,
   "metadata": {},
   "outputs": [],
   "source": [
    "import sympy as sp\n",
    "m1,m2,x,y,z,px,py,pz,S1x,S1y,S1z,S2x,S2y,S2z = sp.symbols(\"m1 m2 x y z px py pz S1x S1y S1z S2x S2y S2z\",real=True)\n",
    "partHpartp1,partHpartp2,partHpartp3 = sp.symbols(\"partHpartp1 partHpartp2 partHpartp3\",real=True)\n",
    "\n",
    "gamma = 0.577215664901532860606512090082402431"
   ]
  },
  {
   "cell_type": "markdown",
   "metadata": {},
   "source": [
    "<a id='rderiv'></a>\n",
    "\n",
    "# Step ?: ${\\rm d}r / {\\rm d}t$ \\[Back to [top](#toc)\\]\n",
    "$$\\label{rderiv}$$\n",
    "\n",
    "<font color='red'>We begin our initial condition journey at LALSimIMRSpinPrecEOB.c Line 1328, where the orbital phase and $\\alpha \\cdot \\cos \\left( \\iota \\right)$ are set to zero.  The previous code in \"Step 1\" of this file is for the \"SpinsAlmostAligned\" case.  After setting these values, we move to LALSpinPrecHcapRvecDerivative_v3opt.c where we compute the derivatives of the separation vector.</font>"
   ]
  },
  {
   "cell_type": "markdown",
   "metadata": {},
   "source": [
    "<a id='mass_radius_terms'></a>\n",
    "\n",
    "# Mass and separation terms \\[Back to [top](#toc)\\]\n",
    "$$\\label{mass_radius_terms}$$\n",
    "\n",
    "<font color='red'>LALSpinPrecHcapRvecDerivative_v3opt.c Line 15 claims that we're first going to compute [BB2010](https://arxiv.org/abs/0912.3517) Equation (A4), but I don't believe that's the case.</font>\n",
    "\n",
    "We need the following quantities:\n",
    "\n",
    "\\begin{align*}\n",
    "    M &= m_{1} + m_{2} \\\\\n",
    "    \\mu &= \\frac{ m_{1} m_{2} }{ M } \\\\\n",
    "    \\eta &= \\frac{ \\mu }{ M } \\\\\n",
    "    r^{2} &= x^{2} + y^{2} + z^{2} \\\\\n",
    "    r &= \\sqrt{r^{2}} \\\\\n",
    "    u &= \\frac{ 1 }{ r }\n",
    "\\end{align*}"
   ]
  },
  {
   "cell_type": "code",
   "execution_count": 2,
   "metadata": {},
   "outputs": [],
   "source": [
    "M = m1 + m2\n",
    "mu = m1*m2/M\n",
    "eta = mu/M\n",
    "xi = 1\n",
    "rsq = x*x + y*y + z*z\n",
    "r = sp.sqrt(rsq)\n",
    "u = 1/r"
   ]
  },
  {
   "cell_type": "markdown",
   "metadata": {},
   "source": [
    "<a id='skerr'></a>\n",
    "\n",
    "# ${\\bf S}_{\\rm Kerr}$ \\[Back to [top](#toc)\\]\n",
    "$$\\label{skerr}$$\n",
    "\n",
    "From [BB2010](https://arxiv.org/abs/0912.3517) Equations (5.2), (5.63), and (5.67) we have\n",
    "\n",
    "\\begin{equation*}\n",
    "    {\\bf S}_{\\rm Kerr} = {\\bf S}_{1} + {\\bf S}_{2}.\n",
    "\\end{equation*}\n",
    "\n",
    "Taking the square of [BB2010](https://arxiv.org/abs/0912.3517) Equation (4.9) <font color='red'>(be careful with the factor or $M$...)</font>,\n",
    "\n",
    "\\begin{equation*}\n",
    "    a^{2} = \\frac{ {\\bf S}_{Kerr} \\cdot {\\bf S}_{Kerr} }{ M^{2} }\n",
    "\\end{equation*}\n",
    "\n",
    "so that\n",
    "\n",
    "\\begin{equation*}\n",
    "    a = \\sqrt{ a^{2} }.\n",
    "\\end{equation*}"
   ]
  },
  {
   "cell_type": "code",
   "execution_count": 3,
   "metadata": {},
   "outputs": [],
   "source": [
    "SKerr1 = S1x + S2x\n",
    "SKerr2 = S1y + S2y\n",
    "SKerr3 = S1z + S2z\n",
    "asq = (SKerr1*SKerr1 + SKerr2*SKerr2 + SKerr3*SKerr3)/(M*M)\n",
    "a = sp.sqrt(asq)"
   ]
  },
  {
   "cell_type": "markdown",
   "metadata": {},
   "source": [
    "<a id='w'></a>\n",
    "\n",
    "# $\\varpi$ \\[Back to [top](#toc)\\]\n",
    "$$\\label{w}$$\n",
    "\n",
    "From [BB2010](https://arxiv.org/abs/0912.3517) Equation (4.7)\n",
    "\n",
    "\\begin{equation*}\n",
    "    \\varpi^{2} = r^{2} + a^{2}.\n",
    "\\end{equation*}"
   ]
  },
  {
   "cell_type": "code",
   "execution_count": 4,
   "metadata": {},
   "outputs": [],
   "source": [
    "w2 = rsq + asq"
   ]
  },
  {
   "cell_type": "markdown",
   "metadata": {},
   "source": [
    "<a id='Dinv'></a>\n",
    "\n",
    "# $D^{-1}$ \\[Back to [top](#toc)\\]\n",
    "$$\\label{Dinv}$$\n",
    "\n",
    "From [BB2010](https://arxiv.org/abs/0912.3517) Equation (5.82)\n",
    "\n",
    "\\begin{equation*}\n",
    "    D^{-1} = 1 + \\log \\left[ 1 + 6 \\eta u^{2} + 2 \\left( 26 - 3 \\eta \\right) \\eta u^{3} \\right].\n",
    "\\end{equation*}"
   ]
  },
  {
   "cell_type": "code",
   "execution_count": 5,
   "metadata": {},
   "outputs": [],
   "source": [
    "Dinv = 1 + sp.log(1 + 6*eta*u*u + 2*(26 - 3*eta)*eta*u*u*u)"
   ]
  },
  {
   "cell_type": "markdown",
   "metadata": {},
   "source": [
    "<a id='k'></a>\n",
    "\n",
    "# $K$ \\[Back to [top](#toc)\\]\n",
    "$$\\label{k}$$\n",
    "\n",
    "<font color='red'>We see $K$ used (\"KK\") in LALSpinPrecHcapRvecDerivative_v3opt.c Line 65, before it's calculuated on Line 86.</font>\n",
    "\n",
    "Following the discussion in the two paragrahs after [BB2010](https://arxiv.org/abs/0912.3517) Equation (6.11), we have\n",
    "\n",
    "\\begin{equation*}\n",
    "    K = 1.4467 \\left( 1 - 4 \\eta \\right)^{2} + 4 \\left( 1 - 2 \\eta \\right) \\eta.\n",
    "\\end{equation*}"
   ]
  },
  {
   "cell_type": "code",
   "execution_count": 6,
   "metadata": {},
   "outputs": [],
   "source": [
    "K = 1.4467*(1 - 4*eta)*(1 - 4*eta) + 4*(1 - 2*eta)*eta"
   ]
  },
  {
   "cell_type": "markdown",
   "metadata": {},
   "source": [
    "<a id='deltaubar'></a>\n",
    "\n",
    "# $\\bar{\\Delta}_{u}$ \\[Back to [top](#toc)\\]\n",
    "$$\\label{deltaubar}$$\n",
    "\n",
    "From [BB2010](https://arxiv.org/abs/0912.3517) Equation (5.75)\n",
    "\n",
    "\\begin{equation*}\n",
    "    \\bar{\\Delta}_{u} = \\frac{ a^{2} u^{2} }{ M^{2} } + \\frac{ 2 u }{ \\eta K -1 } + \\frac{ 1 }{ \\left( \\eta K - 1 \\right)^{2} }.\n",
    "\\end{equation*}"
   ]
  },
  {
   "cell_type": "code",
   "execution_count": 7,
   "metadata": {},
   "outputs": [],
   "source": [
    "Deltaubar = asq*u*u/(M*M) + 2*u/(eta*K - 1) + 1/((eta*K - 1)*(eta*K - 1))"
   ]
  },
  {
   "cell_type": "markdown",
   "metadata": {},
   "source": [
    "<a id='calibcoeffs'></a>\n",
    "\n",
    "# Calibration Coefficients $\\Delta_{i}$, $i \\in \\left\\{0, 1, 2, 3, 4\\right\\}$ \\[Back to [top](#toc)\\]\n",
    "$$\\label{calibcoeffs}$$\n",
    "\n",
    "From [BB2010](https://arxiv.org/abs/0912.3517) Equations (5.77)--(5.81), we have\n",
    "\n",
    "\\begin{align*}\n",
    "    \\Delta_{0} &= K \\left( \\eta K - 2 \\right) \\\\\n",
    "    \\Delta_{1} &= -2 \\left( \\eta K - 1 \\right) \\left( K + \\Delta_{0} \\right) \\\\\n",
    "    \\Delta_{2} &= \\frac{1}{2} \\Delta_{1} \\left( -4 \\eta K + \\Delta_{1} + 4 \\right) - \\frac{ a^{2} }{ M^{2} } \\left( \\eta K - 1 \\right)^{2} \\Delta_{0}\\\\\n",
    "    \\Delta_{3} &= \\frac{1}{3} \\left[ -\\Delta_{1}^{3} + 3 \\left( \\eta K - 1 \\right) \\Delta_{1}^{2} + 3 \\Delta_{2} \\Delta_{1} - 6 \\left( \\eta K - 1 \\right) \\left( -\\eta K + \\Delta_{2} + 1 \\right) - 3 \\frac{ a^{2} }{ M^{2} } \\left( \\eta K - 1 \\right)^{2} \\Delta_{1} \\right] \\\\\n",
    "    \\Delta_{4} &= \\frac{1}{12} \\left\\{ 6 \\frac{ a^{2} }{ M^{2} } \\left( \\Delta_{1}^{2} - 2 \\Delta_{2} \\right) \\left( \\eta K - 1 \\right)^{2} + 3 \\Delta_{1}^{4} - 8 \\left( \\eta K - 1 \\right) \\Delta_{1}^{3} - 12 \\Delta_{2} \\Delta_{1}^{2} + 12 \\left[ 2 \\left( \\eta K - 1 \\right) \\Delta_{2} + \\Delta_{3} \\right] \\Delta_{1} \\right.\\\\\n",
    "        &\\left.\\ \\ \\ \\ \\ + 12 \\left( \\frac{94}{3} - \\frac{41}{32} \\pi^{2} \\right) \\left( \\eta K - 1 \\right)^{2} + 6 \\left[ \\Delta_{2}^{2} - 4 \\Delta_{3} \\left( \\eta K - 1 \\right) \\right] \\right\\}\n",
    "\\end{align*}\n",
    "\n",
    "<font color='red'>There are two more coefficients in the code that are not listed in [BB2010](https://arxiv.org/abs/0912.3517), and whose origin I have not been able to trace.</font>\n",
    "\n",
    "\\begin{align*}\n",
    "    \\Delta_{5} &= \\\\\n",
    "    \\Delta_{5l} &= \n",
    "\\end{align*}"
   ]
  },
  {
   "cell_type": "code",
   "execution_count": 8,
   "metadata": {},
   "outputs": [],
   "source": [
    "Delta0 = K*(eta*K - 2)\n",
    "Delta1 = -2*(eta*K - 1)*(K + Delta0)\n",
    "Delta2 = sp.Rational(1,2)*Delta1*(-4*eta*K + Delta1 + 4) - a*a*(eta*K - 1)*(eta*K - 1)*Delta0/(M*M)\n",
    "Delta3 = sp.Rational(1,3)*(-Delta1**3 + 3*(eta*K - 1)*Delta1**2 + 3*Delta2*Delta1 - 6*(eta*K - 1)*(-eta*K + Delta2 + 1)\n",
    "                           - 3*a*a*(eta*K - 1)**2*Delta1/(M*M))\n",
    "Delta4 = sp.Rational(1,12)*(6*a*a*(Delta1**2 - 2*Delta2)*(eta*K - 1)**2/(M*M) + 3*Delta1**4 - 8*(eta*K - 1)*Delta1**3\n",
    "                           -12*Delta2*Delta1**2 + 12*(2*(eta*K - 1)*Delta2 + Delta3)*Delta1\n",
    "                           + 12*(sp.Rational(94,3) - sp.Rational(41,32)*sp.pi**2)*(eta*K - 1)**2\n",
    "                           + 6*(Delta2**2 - 4*Delta3*(eta*K - 1)))\n",
    "Delta5 = (eta*K - 1)**2*(-sp.Rational(4237,60) + sp.Rational(128,5)*gamma\n",
    "                          + 2275*sp.pi*sp.pi*sp.Rational(1,512)\n",
    "                          - sp.Rational(1,3)*a*a*(Delta1**3 - 3*Delta1*Delta2 + 3*Delta3)\n",
    "                          - (Delta1**5 - 5*Delta1**3*Delta2 + 5*Delta1*Delta2**2 + 5*Delta1**2*Delta3\n",
    "                             - 5*Delta2*Delta3 - 5*Delta1*Delta4)*sp.Rational(1,5)/((eta*K - 1)**2)\n",
    "                          + (Delta1**4 - 4*Delta1**2*Delta2 + 2*Delta2**2 + 4*Delta1*Delta3 - 4*Delta4)\n",
    "                          *sp.Rational(1,2)/(eta*K - 1) + sp.Rational(256,5)*sp.log(2))\n",
    "Delta5l = sp.Rational(64,5)*(eta*K - 1)**2"
   ]
  },
  {
   "cell_type": "markdown",
   "metadata": {},
   "source": [
    "<a id='deltau'></a>\n",
    "\n",
    "# $\\Delta_{u}$ \\[Back to [top](#toc)\\]\n",
    "$$\\label{deltau}$$\n",
    "\n",
    "From [BB2010](https://arxiv.org/abs/0912.3517) Equation (5.73)\n",
    "\n",
    "\\begin{equation*}\n",
    "    \\Delta_{u} = \\bar{\\Delta}_{u} \\left[ 1 + \\eta \\Delta_{0} + \\eta \\log \\left( 1 + \\Delta_{1} u + \\Delta_{2} u^{2} + \\Delta_{3} u^{3} + \\Delta_{4} u^{4} \\right) \\right].\n",
    "\\end{equation*}\n",
    "\n",
    "<font color='red'>Note that in LALSpinPrechcapRvecDerivative_v3opt.c line 77 we take an absolute value.</font>"
   ]
  },
  {
   "cell_type": "code",
   "execution_count": 9,
   "metadata": {},
   "outputs": [],
   "source": [
    "Deltau = Deltaubar*(1 + eta*Delta0 + eta*sp.log(1 + Delta1*u + Delta2*u*u + Delta3*u*u*u + Delta4*u*u*u*u))"
   ]
  },
  {
   "cell_type": "markdown",
   "metadata": {},
   "source": [
    "<a id='deltat'></a>\n",
    "\n",
    "# $\\Delta_{t}$ \\[Back to [top](#toc)\\]\n",
    "$$\\label{deltat}$$\n",
    "\n",
    "From [BB2010](https://arxiv.org/abs/0912.3517) Equation (5.71)\n",
    "\n",
    "\\begin{equation*}\n",
    "    \\Delta_{t} = r^{2} \\Delta_{u}.\n",
    "\\end{equation*}"
   ]
  },
  {
   "cell_type": "code",
   "execution_count": 10,
   "metadata": {},
   "outputs": [],
   "source": [
    "Deltat = r*r*Deltau"
   ]
  },
  {
   "cell_type": "markdown",
   "metadata": {},
   "source": [
    "<a id='deltar'></a>\n",
    "\n",
    "# $\\Delta_{r}$ \\[Back to [top](#toc)\\]\n",
    "$$\\label{deltar}$$\n",
    "\n",
    "From [BB2010](https://arxiv.org/abs/0912.3517) Equation (5.38)\n",
    "\n",
    "\\begin{equation*}\n",
    "    \\Delta_{r} = \\Delta_{t} D^{-1}.\n",
    "\\end{equation*}"
   ]
  },
  {
   "cell_type": "code",
   "execution_count": 11,
   "metadata": {},
   "outputs": [],
   "source": [
    "Deltar = Deltat*Dinv"
   ]
  },
  {
   "cell_type": "markdown",
   "metadata": {},
   "source": [
    "<a id='xi'></a>\n",
    "\n",
    "# $\\xi$ \\[Back to [top](#toc)\\]\n",
    "$$\\label{xi}$$\n",
    "\n",
    "Inverting [Pan, Buonanno, Buchman, et. al. (2010)](https://arxiv.org/abs/0912.3466v2) Equation (28),\n",
    "\n",
    "\\begin{equation*}\n",
    "    \\xi = \\frac{ \\sqrt{ \\Delta_{t} \\Delta_{r} } }{ \\varpi^{2} }.\n",
    "\\end{equation*}"
   ]
  },
  {
   "cell_type": "code",
   "execution_count": 12,
   "metadata": {},
   "outputs": [],
   "source": [
    "xi = sp.sqrt(Deltat*Deltar)/w2"
   ]
  },
  {
   "cell_type": "markdown",
   "metadata": {},
   "source": [
    "<a id='constants'></a>\n",
    "\n",
    "# Constants \\[Back to [top](#toc)\\]\n",
    "$$\\label{constants}$$\n",
    "\n",
    "<font color='red'>We now move to LALSimIMRCalculateSpinPrecEOBHCoeffs.c to recompute the coefficients.  In Lines 77--84, the following are listed as \"constants are fits taken from PRD 86, 024011 (2012) E. 37\".  That [reference](https://arxiv.org/abs/1202.0790) does not, however, contain either that many constants or that many significant digits...  On Lines 98 and 99, we see coefficients b3 and bb3 set to zero.  There is a note to check whether b3 and bb3 can ever be nonzero; if that question was answered, there is no record of it.</font>\n",
    "\n",
    "Below, we will denote c0 by $c_{0}$, and similarly for the other constants."
   ]
  },
  {
   "cell_type": "code",
   "execution_count": 13,
   "metadata": {},
   "outputs": [],
   "source": [
    "c0  = 1.4467\n",
    "c1  = -1.7152360250654402\n",
    "c2  = -3.246255899738242\n",
    "c20  = 1.712\n",
    "c21  = -1.803949138004582\n",
    "c22  = -39.77229225266885\n",
    "c23  = 103.16588921239249\n",
    "\n",
    "b3 = 0.\n",
    "bb3 = 0.0"
   ]
  },
  {
   "cell_type": "markdown",
   "metadata": {},
   "source": [
    "<a id='k2'></a>\n",
    "\n",
    "# $K$ (redo) \\[Back to [top](#toc)\\]\n",
    "$$\\label{k2}$$\n",
    "\n",
    "<font color='red'>We see $K$ used (\"KK\") in LALSpinPrecHcapRvecDerivative_v3opt.c Line 65, before it's calculuated on Line 86.  It is NOT clear that the computations coincid; the question of WHY this recomputation takes place is open.</font>\n",
    "\n",
    "We now re-compute $K$ (which makes no sense, because it's a constant dependent only on $\\eta$).  Since v3 always takes SpinAlignedEOBversion = 2, on LALSpinPrecHcapRvecDerivative_v3opt.c Line 102 we have\n",
    "\n",
    "\\begin{equation*}\n",
    "    K = c_{20} + c_{21} \\eta + c_{22} \\eta^{2} + c_{23} \\eta^{3}.\n",
    "\\end{equation*}"
   ]
  },
  {
   "cell_type": "code",
   "execution_count": 14,
   "metadata": {},
   "outputs": [],
   "source": [
    "K = c20 + c21*eta + c22*eta*eta + c23*eta*eta*eta"
   ]
  },
  {
   "cell_type": "markdown",
   "metadata": {},
   "source": [
    "<a id='calibcoeffs2'></a>\n",
    "\n",
    "# Calibration Coefficients $\\Delta_{i}$, $i \\in \\left\\{0, 1, 2, 3, 4\\right\\}$ (redo) \\[Back to [top](#toc)\\]\n",
    "$$\\label{calibcoeffs2}$$\n",
    "\n",
    "<font color='red'>We see these coefficients used (\"ki\") in LALSpinPrecHcapRvecDerivative_v3opt.c Line 71, before they're calculuated on Line 86.  It IS clear that these computations agree with the previous computations; the question of WHY this recomputation takes place is open.</font>\n",
    "\n",
    "From [BB2010](https://arxiv.org/abs/0912.3517) Equations (5.77)--(5.81), we have\n",
    "\n",
    "\\begin{align*}\n",
    "    \\Delta_{0} &= K \\left( \\eta K - 2 \\right) \\\\\n",
    "    \\Delta_{1} &= -2 \\left( \\eta K - 1 \\right) \\left( K + \\Delta_{0} \\right) \\\\\n",
    "    \\Delta_{2} &= \\frac{1}{2} \\Delta_{1} \\left( -4 \\eta K + \\Delta_{1} + 4 \\right) - \\frac{ a^{2} }{ M^{2} } \\left( \\eta K - 1 \\right)^{2} \\Delta_{0}\\\\\n",
    "    \\Delta_{3} &= \\frac{1}{3} \\left[ -\\Delta_{1}^{3} + 3 \\left( \\eta K - 1 \\right) \\Delta_{1}^{2} + 3 \\Delta_{2} \\Delta_{1} - 6 \\left( \\eta K - 1 \\right) \\left( -\\eta K + \\Delta_{2} + 1 \\right) - 3 \\frac{ a^{2} }{ M^{2} } \\left( \\eta K - 1 \\right)^{2} \\Delta_{1} \\right] \\\\\n",
    "    \\Delta_{4} &= \\frac{1}{12} \\left\\{ 6 \\frac{ a^{2} }{ M^{2} } \\left( \\Delta_{1}^{2} - 2 \\Delta_{2} \\right) \\left( \\eta K - 1 \\right)^{2} + 3 \\Delta_{1}^{4} - 8 \\left( \\eta K - 1 \\right) \\Delta_{1}^{3} - 12 \\Delta_{2} \\Delta_{1}^{2} + 12 \\left[ 2 \\left( \\eta K - 1 \\right) \\Delta_{2} + \\Delta_{3} \\right] \\Delta_{1} \\right.\\\\\n",
    "        &\\left.\\ \\ \\ \\ \\ + 12 \\left( \\frac{94}{3} - \\frac{41}{32} \\pi^{2} \\right) \\left( \\eta K - 1 \\right)^{2} + 6 \\left[ \\Delta_{2}^{2} - 4 \\Delta_{3} \\left( \\eta K - 1 \\right) \\right] \\right\\}\n",
    "\\end{align*}\n",
    "\n",
    "<font color='red'>There are two more coefficients in the code that are not listed in [BB2010](https://arxiv.org/abs/0912.3517), and whose origin I have not been able to trace.</font>\n",
    "\n",
    "\\begin{align*}\n",
    "    \\Delta_{5} &= \\\\\n",
    "    \\Delta_{5l} &= \n",
    "\\end{align*}"
   ]
  },
  {
   "cell_type": "code",
   "execution_count": 15,
   "metadata": {},
   "outputs": [],
   "source": [
    "Delta0 = K*(eta*K - 2)\n",
    "Delta1 = -2*(eta*K - 1)*(K + Delta0)\n",
    "Delta2 = sp.Rational(1,2)*Delta1*(-4*eta*K + Delta1 + 4) - a*a*(eta*K - 1)*(eta*K - 1)*Delta0/(M*M)\n",
    "Delta3 = sp.Rational(1,3)*(-Delta1**3 + 3*(eta*K - 1)*Delta1**2 + 3*Delta2*Delta1 - 6*(eta*K - 1)*(-eta*K + Delta2 + 1)\n",
    "                           - 3*a*a*(eta*K - 1)**2*Delta1/(M*M))\n",
    "Delta4 = sp.Rational(1,12)*(6*a*a*(Delta1**2 - 2*Delta2)*(eta*K - 1)**2/(M*M) + 3*Delta1**4 - 8*(eta*K - 1)*Delta1**3\n",
    "                           -12*Delta2*Delta1**2 + 12*(2*(eta*K - 1)*Delta2 + Delta3)*Delta1\n",
    "                           + 12*(sp.Rational(94,3) - sp.Rational(41,32)*sp.pi**2)*(eta*K - 1)**2\n",
    "                           + 6*(Delta2**2 - 4*Delta3*(eta*K - 1)))\n",
    "Delta5 = (eta*K - 1)**2*(-sp.Rational(4237,60) + sp.Rational(128,5)*gamma\n",
    "                          + 2275*sp.pi*sp.pi*sp.Rational(1,512)\n",
    "                          - sp.Rational(1,3)*a*a*(Delta1**3 - 3*Delta1*Delta2 + 3*Delta3)\n",
    "                          - (Delta1**5 - 5*Delta1**3*Delta2 + 5*Delta1*Delta2**2 + 5*Delta1**2*Delta3\n",
    "                             - 5*Delta2*Delta3 - 5*Delta1*Delta4)*sp.Rational(1,5)/((eta*K - 1)**2)\n",
    "                          + (Delta1**4 - 4*Delta1**2*Delta2 + 2*Delta2**2 + 4*Delta1*Delta3 - 4*Delta4)\n",
    "                          *sp.Rational(1,2)/(eta*K - 1) + sp.Rational(256,5)*sp.log(2))\n",
    "Delta5l = sp.Rational(64,5)*(eta*K - 1)**2"
   ]
  },
  {
   "cell_type": "markdown",
   "metadata": {},
   "source": [
    "<a id='calibconsts'></a>\n",
    "\n",
    "# Calibration Constants \\[Back to [top](#toc)\\]\n",
    "$$\\label{calibconst}$$\n",
    "\n",
    "<font color='red'>From LALSimIMRCalculateSpinPrecEOBHCoeffs.c Lines 127--130 we have</font>\n",
    "\n",
    "\\begin{align*}\n",
    "    d_{1} &= -69.5 \\\\\n",
    "    d_{1v2} &= -74.71 - 156 \\eta + 627.5 \\eta^{2} \\\\\n",
    "    d_{H_{\\rm eff}\\ \\rm SS} &= 2.75 \\\\\n",
    "    d_{H_{\\rm eff}\\ \\rm SSv2} &= 8.127 - 154.2 \\eta + 830.8 \\eta^{2}.\n",
    "\\end{align*}\n",
    "\n",
    "<font color='red'>This marks the end of the CalculateSpinPrecEOB routine.</font>"
   ]
  },
  {
   "cell_type": "code",
   "execution_count": 16,
   "metadata": {},
   "outputs": [],
   "source": [
    "d1 = -69.5\n",
    "d1v2 = -sp.Rational(7471,100) - 156*eta + sp.Rational(1255,2)*eta*eta\n",
    "dheffSS = sp.Rational(11,4)\n",
    "dheffSSv2 = sp.Rational(8127,1000) - sp.Rational(771,5)*eta + sp.Rational(4154,5)*eta*eta"
   ]
  },
  {
   "cell_type": "markdown",
   "metadata": {},
   "source": [
    "<a id='tortoise_matrix'></a>\n",
    "\n",
    "# Tortoise Conversion Matrix \\[Back to [top](#toc)\\]\n",
    "$$\\label{tortoise_matrix}$$\n",
    "\n",
    "<font color='red'>We're now back to LALSpinPrecHcapRvecDerivative_v3opt.c, Lines 92--96.</font>\n",
    "\n",
    "From [Pan, Buonanno, Buchman, et. al. (2010)](https://arxiv.org/abs/0912.3466v2) Equation (A3) the matrix for the coordinate conversion to tortoise coordinates is\n",
    "\n",
    "\\begin{align*}\n",
    "    \\begin{pmatrix} 1 + \\frac{ x^{2} }{ r^{2} } \\left( \\xi - 1 \\right) & \\frac{ x y }{ r^{2} } \\left( \\xi - 1 \\right) & \\frac{ x z }{ r^{2} } \\left( \\xi - 1 \\right) \\\\\n",
    "        \\frac{ x y }{ r^{2} } \\left( \\xi - 1 \\right) & 1 + \\frac{ y^{2} }{ r^{2} } \\left( \\xi - 1 \\right) & \\frac{ y z }{ r^{2} } \\left( \\xi - 1 \\right) \\\\\n",
    "        \\frac{ x z }{ r^{2} } \\left( \\xi - 1 \\right) & \\frac{ y z }{ r^{2} } \\left( \\xi - 1 \\right) & 1 + \\frac{ z^{2} }{ r^{2} } \\left( \\xi - 1 \\right) \\end{pmatrix}\n",
    "\\end{align*}"
   ]
  },
  {
   "cell_type": "code",
   "execution_count": 17,
   "metadata": {},
   "outputs": [],
   "source": [
    "ximinus1 = xi - 1\n",
    "toTort = sp.Array([[1 + x*x*ximinus1/(r*r), x*y*ximinus1/(r*r), x*z*ximinus1/(r*r)],\n",
    "                   [x*y*ximinus1/(r*r), 1 + y*y*ximinus1/(r*r), y*z*ximinus1/(r*r)],\n",
    "                   [x*z*ximinus1/(r*r), y*z*ximinus1/(r*r), 1 + z*z*ximinus1/(r*r)]])"
   ]
  },
  {
   "cell_type": "markdown",
   "metadata": {},
   "source": [
    "# At this point we compute partial derivatives of $H_{\\rm real}$ with respect to the momentum coordinates"
   ]
  },
  {
   "cell_type": "markdown",
   "metadata": {},
   "source": [
    "<a id='sigma'></a>\n",
    "\n",
    "# $\\boldsymbol{\\sigma}$ \\[Back to [top](#toc)\\]\n",
    "$$\\label{sigma}$$\n",
    "\n",
    "From [BB2010](https://arxiv.org/abs/0912.3517) Equation (5.2),\n",
    "\n",
    "\\begin{equation*}\n",
    "    \\boldsymbol{\\sigma} = {\\bf S}_{1} + {\\bf S}_{2}.\n",
    "\\end{equation*}"
   ]
  },
  {
   "cell_type": "code",
   "execution_count": 18,
   "metadata": {},
   "outputs": [],
   "source": [
    "sigma1 = S1x + S2x\n",
    "sigma2 = S1y + S2y\n",
    "sigma3 = S1z + S2z"
   ]
  },
  {
   "cell_type": "markdown",
   "metadata": {},
   "source": [
    "<a id='sigmastar'></a>\n",
    "\n",
    "# $\\boldsymbol{\\sigma}^{*}$ \\[Back to [top](#toc)\\]\n",
    "$$\\label{sigmastar}$$\n",
    "\n",
    "From [BB2010](https://arxiv.org/abs/0912.3517) Equation (5.3),\n",
    "\n",
    "\\begin{equation*}\n",
    "    \\boldsymbol{\\sigma}^{*} = \\frac{ m_{2} }{ m_{1} } {\\bf S}_{1} + \\frac{ m_{1} }{ m_{2} }{\\bf S}_{2}.\n",
    "\\end{equation*}"
   ]
  },
  {
   "cell_type": "code",
   "execution_count": 19,
   "metadata": {},
   "outputs": [],
   "source": [
    "sigmastar1 = S1x*m2/m1 + S2x*m1/m2\n",
    "sigmastar2 = S1y*m2/m1 + S2y*m1/m2\n",
    "sigmastar3 = S1z*m2/m1 + S2z*m1/m2"
   ]
  },
  {
   "cell_type": "markdown",
   "metadata": {},
   "source": [
    "<a id='updatecoeffs'></a>\n",
    "\n",
    "# Update Coeffs \\[Back to [top](#toc)\\]\n",
    "$$\\label{updatecoeffs}$$"
   ]
  },
  {
   "cell_type": "markdown",
   "metadata": {},
   "source": [
    "<a id='e3'></a>\n",
    "\n",
    "## ${\\bf e}_{3}$ \\[Back to [top](#toc)\\]\n",
    "$$\\label{e3}$$\n",
    "\n",
    "From LALSimIMRSpinPrecEOBHcapExactDerivative.c Line 104, we only compute ${\\bf e}_{3}$ this way if $a \\not= 0$.\n",
    "\n",
    "From the discussion in [BB2010](https://arxiv.org/abs/0912.3517) after equation (5.52),\n",
    "\n",
    "\\begin{equation*}\n",
    "    {\\bf e}_{3} = {\\bf S}_{\\rm Kerr}.\n",
    "\\end{equation*}\n",
    "\n",
    "<font color='red'>From LALSimIMRSpinPrecEOBHcapExactDerivative.c Lines 107--109,\n",
    "\n",
    "\\begin{equation*}\n",
    "    {\\bf e}_{3} = \\frac{ {\\bf S}_{\\rm Kerr} }{ a }.\n",
    "\\end{equation*}\n",
    "</font>"
   ]
  },
  {
   "cell_type": "code",
   "execution_count": 20,
   "metadata": {},
   "outputs": [],
   "source": [
    "e31 = SKerr1/a\n",
    "e32 = SKerr2/a\n",
    "e33 = SKerr3/a"
   ]
  },
  {
   "cell_type": "markdown",
   "metadata": {},
   "source": [
    "<a id='scaleds'></a>\n",
    "\n",
    "## Scaled ${\\bf S}$ \\[Back to [top](#toc)\\]\n",
    "$$\\label{scaleds}$$\n",
    "\n",
    "From LALSpinPrecHcapRvecDerivative_v3opt.c Line 114,\n",
    "\n",
    "\\begin{equation*}\n",
    "    {\\bf S}_{\\rm scaled} = M^{2} {\\bf S}.\n",
    "\\end{equation*}"
   ]
  },
  {
   "cell_type": "code",
   "execution_count": 21,
   "metadata": {},
   "outputs": [],
   "source": [
    "S1scaled1 = S1x*M*M\n",
    "S1scaled2 = S1y*M*M\n",
    "S1scaled3 = S1z*M*M\n",
    "S2scaled1 = S2x*M*M\n",
    "S2scaled2 = S2y*M*M\n",
    "S2scaled3 = S2z*M*M"
   ]
  },
  {
   "cell_type": "markdown",
   "metadata": {},
   "source": [
    "<a id='rcrossrdot'></a>\n",
    "\n",
    "## ${\\bf r} \\times \\dot{\\bf r}$ \\[Back to [top](#toc)\\]\n",
    "$$\\label{rcrossrdot}$$\n",
    "\n",
    "From LALSpinPrecHcapRvecDerivative_v3opt.c Lines 119--121,\n",
    "\n",
    "\\begin{equation*}\n",
    "    {\\bf r} \\times \\dot{\\bf r} = {\\bf x} \\times \\frac{ \\partial {\\bf H}_{\\rm real} }{ {\\bf p} }\n",
    "\\end{equation*}\n",
    "\n",
    "Ultimately we want the *scaled* ${\\bf r} \\times \\dot{\\bf r}$, whic we denote by ${\\bf L}_{N}$."
   ]
  },
  {
   "cell_type": "code",
   "execution_count": 22,
   "metadata": {},
   "outputs": [],
   "source": [
    "rcrossrdot1 = y*partHpartp3 - z*partHpartp2\n",
    "rcrossrdot2 = z*partHpartp1 - x*partHpartp3\n",
    "rcrossrdot3 = x*partHpartp2 - y*partHpartp1\n",
    "rcrossrdotmag = sp.sqrt(rcrossrdot1*rcrossrdot1\n",
    "                        + rcrossrdot2*rcrossrdot2 + rcrossrdot3*rcrossrdot3)"
   ]
  },
  {
   "cell_type": "markdown",
   "metadata": {},
   "source": [
    "<a id='ln'></a>\n",
    "\n",
    "## ${\\bf L}_{N}$ \\[Back to [top](#toc)\\]\n",
    "$$\\label{ln}$$\n",
    "\n",
    "From LALSpinPrecHcapRvecDerivative_v3opt.c Lines 123--125,\n",
    "\n",
    "\\begin{equation*}\n",
    "    {\\bf L}_{N} = \\frac{ {\\bf r} \\times \\dot{\\bf r} }{ \\left\\lvert {\\bf r} \\times \\dot{\\bf r} \\right\\rvert }.\n",
    "\\end{equation*}"
   ]
  },
  {
   "cell_type": "code",
   "execution_count": 23,
   "metadata": {},
   "outputs": [],
   "source": [
    "LN1 = rcrossrdot1/rcrossrdotmag\n",
    "LN2 = rcrossrdot2/rcrossrdotmag\n",
    "LN3 = rcrossrdot3/rcrossrdotmag"
   ]
  },
  {
   "cell_type": "markdown",
   "metadata": {},
   "source": [
    "<a id='s1dotln'></a>\n",
    "\n",
    "## ${\\bf S}_{1} \\cdot {\\bf L}_{N}$ \\[Back to [top](#toc)\\]\n",
    "$$\\label{s1dotln}$$\n",
    "\n",
    "From LALSpinPrecHcapRvecDerivative_v3opt.c Lines 126,\n",
    "\n",
    "\\begin{align*}\n",
    "    {\\bf S}_{1} \\cdot {\\bf L}_{N} = {\\bf S}_{1}^{x} {\\bf L}_{N}^{1} + {\\bf S}_{1}^{y} {\\bf L}_{N}^{2} + {\\bf S}_{1}^{z} {\\bf L}_{N}^{3}.\n",
    "\\end{align*}"
   ]
  },
  {
   "cell_type": "code",
   "execution_count": 24,
   "metadata": {},
   "outputs": [],
   "source": [
    "S1dotLN = S1x*LN1 + S1y*LN2 + S1z*LN3"
   ]
  },
  {
   "cell_type": "markdown",
   "metadata": {},
   "source": [
    "<a id='s2dotln'></a>\n",
    "\n",
    "## ${\\bf S}_{2} \\cdot {\\bf L}_{N}$ \\[Back to [top](#toc)\\]\n",
    "$$\\label{s2dotln}$$\n",
    "\n",
    "From LALSpinPrecHcapRvecDerivative_v3opt.c Lines 127,\n",
    "\n",
    "\\begin{align*}\n",
    "    {\\bf S}_{2} \\cdot {\\bf L}_{N} = {\\bf S}_{2}^{x} {\\bf L}_{N}^{1} + {\\bf S}_{2}^{y} {\\bf L}_{N}^{2} + {\\bf S}_{2}^{z} {\\bf L}_{N}^{3}.\n",
    "\\end{align*}"
   ]
  },
  {
   "cell_type": "code",
   "execution_count": 25,
   "metadata": {},
   "outputs": [],
   "source": [
    "S2dotLN = S2x*LN1 + S2y*LN2 + S2z*LN3"
   ]
  },
  {
   "cell_type": "markdown",
   "metadata": {},
   "source": [
    "<a id='chis'></a>\n",
    "\n",
    "## $\\chi_{\\rm S}$ \\[Back to [top](#toc)\\]\n",
    "$$\\label{chis}$$\n",
    "\n",
    "From LALSpinPrecHcapRvecDerivative_v3opt.c Lines 128,\n",
    "\n",
    "\\begin{equation*}\n",
    "    \\chi_{\\rm S} = \\frac{ 1 }{ 2 } \\left( {\\bf S}_{1} \\cdot {\\bf L}_{N} + {\\bf S}_{2} \\cdot {\\bf L}_{N} \\right).\n",
    "\\end{equation*}"
   ]
  },
  {
   "cell_type": "code",
   "execution_count": 26,
   "metadata": {},
   "outputs": [
    {
     "ename": "NameError",
     "evalue": "global name 's1dotLN' is not defined",
     "output_type": "error",
     "traceback": [
      "\u001b[0;31m---------------------------------------------------------------------------\u001b[0m",
      "\u001b[0;31mNameError\u001b[0m                                 Traceback (most recent call last)",
      "\u001b[0;32m<ipython-input-26-0dea489b6c5f>\u001b[0m in \u001b[0;36m<module>\u001b[0;34m()\u001b[0m\n\u001b[0;32m----> 1\u001b[0;31m \u001b[0mchiS\u001b[0m \u001b[0;34m=\u001b[0m \u001b[0;36m0.5\u001b[0m \u001b[0;34m*\u001b[0m \u001b[0;34m(\u001b[0m\u001b[0ms1dotLN\u001b[0m \u001b[0;34m+\u001b[0m \u001b[0ms2dotLN\u001b[0m\u001b[0;34m)\u001b[0m\u001b[0;34m\u001b[0m\u001b[0m\n\u001b[0m",
      "\u001b[0;31mNameError\u001b[0m: global name 's1dotLN' is not defined"
     ]
    }
   ],
   "source": [
    "chiS = 0.5 * (s1dotLN + s2dotLN)"
   ]
  },
  {
   "cell_type": "markdown",
   "metadata": {},
   "source": [
    "<a id='chia'></a>\n",
    "\n",
    "## $\\chi_{\\rm A}$ \\[Back to [top](#toc)\\]\n",
    "$$\\label{chia}$$\n",
    "\n",
    "From LALSpinPrecHcapRvecDerivative_v3opt.c Lines 129,\n",
    "\n",
    "\\begin{equation*}\n",
    "    \\chi_{\\rm A} = \\frac{ 1 }{ 2 } \\left( {\\bf S}_{1} \\cdot {\\bf L}_{N} - {\\bf S}_{2} \\cdot {\\bf L}_{N} \\right).\n",
    "\\end{equation*}"
   ]
  },
  {
   "cell_type": "code",
   "execution_count": null,
   "metadata": {},
   "outputs": [],
   "source": [
    "chiA = 0.5 * (s1dotLN - s2dotLN)"
   ]
  },
  {
   "cell_type": "markdown",
   "metadata": {},
   "source": [
    "<a id='chikerr'></a>\n",
    "\n",
    "## $\\chi_{\\rm Kerr}$ \\[Back to [top](#toc)\\]\n",
    "$$\\label{chikerr}$$\n",
    "\n",
    "From LALSpinPrecHcapRvecDerivative_v3opt.c Lines 131 and [Taracchini, Pan, Buonanno, et. al. (2012)](https://arxiv.org/abs/1202.0790) Equation (31) (note $\\nu$ of [Taracchini, Pan, Buonanno, et. al. (2012)](https://arxiv.org/abs/1202.0790) is $\\eta$ of [BB2010](https://arxiv.org/abs/0912.3517)),\n",
    "\n",
    "\\begin{align*}\n",
    "    \\chi_{\\rm Kerr} &= \\left( 1 - 2 \\eta \\right) \\chi_{\\rm S} + \\sqrt{ 1 - 4 \\eta } \\chi_{\\rm A} \\\\\n",
    "        &= \\left( 1 - 2 \\eta \\right) \\chi_{\\rm S} + \\frac{ m_{1} - m_{2} }{ m_{1} + m_{2} } \\chi_{\\rm A}\n",
    "\\end{align*}"
   ]
  },
  {
   "cell_type": "code",
   "execution_count": null,
   "metadata": {},
   "outputs": [],
   "source": [
    "chiKerr = (1 - 2*eta)*chiS + (m1 - m2)/(m1 + m2)*chiA"
   ]
  },
  {
   "cell_type": "markdown",
   "metadata": {},
   "source": [
    "# CalcSpinPrecFacWaveformCoefficients"
   ]
  },
  {
   "cell_type": "markdown",
   "metadata": {},
   "source": [
    "<a id='convertderiv'></a>\n",
    "\n",
    "## Convert derivatives \\[Back to [top](#toc)\\]\n",
    "$$\\label{convertderiv}$$\n",
    "\n",
    "From LALSpinPrecHcapRvecDerivative_v3opt.c Lines 141,\n",
    "\n",
    "\\begin{equation*}\n",
    "    \\dot{\\bf r} = \\begin{bmatrix} 1 + \\frac{ x^{2} }{ r^{2} } \\left( \\xi - 1 \\right) & \\frac{ x y }{ r^{2} } \\left( \\xi - 1 \\right) & \\frac{ x z }{ r^{2} } \\left( \\xi - 1 \\right) \\\\\n",
    "        \\frac{ x y }{ r^{2} } \\left( \\xi - 1 \\right) & 1 + \\frac{ y^{2} }{ r^{2} } \\left( \\xi - 1 \\right) & \\frac{ y z }{ r^{2} } \\left( \\xi - 1 \\right) \\\\\n",
    "        \\frac{ x z }{ r^{2} } \\left( \\xi - 1 \\right) & \\frac{ y z }{ r^{2} } \\left( \\xi - 1 \\right) & 1 + \\frac{ z^{2} }{ r^{2} } \\left( \\xi - 1 \\right) \\end{bmatrix} \\begin{bmatrix} p_{x} \\\\ p_{y} \\\\ p_{z} \\end{bmatrix}\n",
    "\\end{equation*}"
   ]
  },
  {
   "cell_type": "code",
   "execution_count": null,
   "metadata": {},
   "outputs": [],
   "source": [
    "rdot1 = toTort[0]*px + toTort[1]*py + toTort[2]*pz\n",
    "rdot2 = toTort[3]*px + toTort[4]*py + toTort[5]*pz\n",
    "rdot3 = toTort[6]*px + toTort[7]*py + toTort[8]*pz"
   ]
  },
  {
   "cell_type": "markdown",
   "metadata": {},
   "source": [
    "<a id='rcrossrdot'></a>\n",
    "\n",
    "# ${\\bf r} \\times \\dot{\\bf r}$ \\[Back to [top](#toc)\\]\n",
    "$$\\label{rcrossrdot}$$\n",
    "\n",
    "This is computed at LALSimIMRSpinPrecEOB.c Line 1379.  Note this is a bit different than our previous rendition; why?  And why are we recomputing this here?"
   ]
  },
  {
   "cell_type": "code",
   "execution_count": null,
   "metadata": {},
   "outputs": [],
   "source": [
    "rcrossrdot1 = y*rdot3 - z*rdot2\n",
    "rcrossrdot2 = z*rdot1 - x*rdot3\n",
    "rcrossrdot3 = x*rdot2 - y*rdot1"
   ]
  },
  {
   "cell_type": "markdown",
   "metadata": {},
   "source": [
    "<a id='latex_pdf_output'></a>\n",
    "\n",
    "# Output: Output this module to $\\LaTeX$-formatted PDF file \\[Back to [top](#toc)\\]\n",
    "$$\\label{latex_pdf_output}$$"
   ]
  },
  {
   "cell_type": "code",
   "execution_count": null,
   "metadata": {},
   "outputs": [],
   "source": [
    "!jupyter nbconvert --to latex --template latex_nrpy_style.tplx Tutorial-SEOBNR_Initial_Conditions.ipynb\n",
    "!pdflatex -interaction=batchmode Tutorial-SEOBNR_Initial_Conditions.tex\n",
    "!pdflatex -interaction=batchmode Tutorial-SEOBNR_Initial_Conditions.tex\n",
    "!pdflatex -interaction=batchmode Tutorial-SEOBNR_Initial_Conditions.tex\n",
    "!rm -f Tut*.out Tut*.aux Tut*.log"
   ]
  }
 ],
 "metadata": {
  "kernelspec": {
   "display_name": "Python 2",
   "language": "python",
   "name": "python2"
  },
  "language_info": {
   "codemirror_mode": {
    "name": "ipython",
    "version": 2
   },
   "file_extension": ".py",
   "mimetype": "text/x-python",
   "name": "python",
   "nbconvert_exporter": "python",
   "pygments_lexer": "ipython2",
   "version": "2.7.13"
  }
 },
 "nbformat": 4,
 "nbformat_minor": 2
}
