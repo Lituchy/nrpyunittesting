{
 "cells": [
  {
   "cell_type": "markdown",
   "metadata": {},
   "source": [
    "# Static Trumpet Black Hole Initial data\n",
    "\n",
    "**Authors: Terrence Pierre Jacques, Zachariah Etienne, and Ian Ruchlin**\n",
    "\n",
    "## This module sets up Static Trumpet Black Hole initial data ([Dennison and Baumgarte, 2014 Class. Quantum Grav. 31 117001](https://arxiv.org/abs/1403.5484)). We can convert from spherical to any coordinate system defined in [reference_metric.py](../edit/reference_metric.py) (e.g., SinhSpherical, Cylindrical, Cartesian, etc.) using the [Exact ADM Spherical-or-Cartesian-to-BSSNCurvilinear converter module](Tutorial-ADM_Initial_Data-Converting_Exact_ADM_Spherical_or_Cartesian_to_BSSNCurvilinear.ipynb)\n",
    "\n",
    "### NRPy+ Source Code for this module: [BSSN/BrillLindquist.py](../edit/BSSN/BrillLindquist.py)\n",
    "\n",
    "<font color='green'>**All quantities have been validated against the [original SENR code](https://bitbucket.org/zach_etienne/nrpy).**</font>\n",
    "\n",
    "<a id='top'></a>$$\\label{top}$$\n",
    "\n",
    "### Introduction\n",
    "\n",
    "These initial data are derived from a family of analytical coordinate systems representing the Schwarzschild spacetime. The coordinates extend smoothly through the black hole event horizon, the spatial coordinates are isotropic (so that the spatial metric can be written as a conformal factor to some power times a flat spatial metric), and, for almost all members of the family, the spatial slices take a so-called $\\textit{trumpet geometry}$. Moreover, all expressions are surprisingly simple. This module sets the static trumpet black hole at the origin.\n",
    "\n",
    "\n",
    "### Table of Contents:  \n",
    "\n",
    "1. Preliminaries\n",
    "    1. [Step 1](#step1): Import the core NRPy+ modules that we need, set the dimensionality of the grid with parameter $\\text{grid::DIM}$, and declare some of the basic gridfunctions\n",
    "1. The spatial metric $\\gamma_{ij}$\n",
    "    1. [Step 2.1](#step2p1): Define the conformal factor $\\psi$\n",
    "    1. [Step 2.2](#step2p2): Define and construct nonzero components of $\\gamma_{ij}$\n",
    "1. Extrinsic curvature $K_{ij}$\n",
    "    1. [Step 3](#step3): Define and construct nonzero components of $K_{ij}$, at the radius $R_0 = M$\n",
    "1. Lapse function $\\alpha$ and shift vector $\\beta$\n",
    "    1. [Step 4](#step4): Construct $\\alpha$ and components of $\\beta$\n",
    "1. Code Validation\n",
    "    1. [Step 5](#step5): NRPy+ Module Code Validation"
   ]
  },
  {
   "cell_type": "markdown",
   "metadata": {},
   "source": [
    "# Preliminaries\n",
    "\n",
    "First, we will import the core modules of NRPy that we will need and specify the main gridfunctions we will need. \n",
    "<a id='step1'></a>\n",
    "\n",
    "## Step 1: Set up the needed NRPy+ infrastructure and declare core gridfunctions \\[Back to [top](#top)\\]\n",
    "\n",
    "**Input for initial data**:\n",
    "\n",
    "* The black hole mass $M$.\n",
    "$$\\label{step1}$$"
   ]
  },
  {
   "cell_type": "code",
   "execution_count": 1,
   "metadata": {},
   "outputs": [],
   "source": [
    "import sympy as sp\n",
    "import NRPy_param_funcs as par\n",
    "import indexedexp as ixp\n",
    "import grid as gri\n",
    "from outputC import *\n",
    "import reference_metric as rfm\n",
    "\n",
    "# All gridfunctions will be written in terms of spherical coordinates (r, th, ph):\n",
    "r,th,ph = sp.symbols('r th ph', real=True)\n",
    "\n",
    "thismodule = \"StaticTrumpet\"\n",
    "\n",
    "DIM = 3\n",
    "par.set_parval_from_str(\"grid::DIM\",DIM)\n",
    "\n",
    "# Input parameters:\n",
    "M = par.Cparameters(\"REAL\", thismodule, [\"M\"])\n",
    "\n",
    "# Auxiliary variables:\n",
    "psi0 = sp.symbols('psi0', real=True)"
   ]
  },
  {
   "cell_type": "markdown",
   "metadata": {},
   "source": [
    "## Step 2.1: Define the conformal factor $\\psi$ \\[Back to [top](#top)\\]\n",
    "<a id='step2p1'></a>\n",
    "$$\\label{step2p1}$$\n",
    "\n",
    "\n",
    "The conformal factor, defined in equation 13 of [Dennison and Baumgarte (2014)](https://arxiv.org/abs/1403.5484), setting $R_0 = M$,\n",
    "$$ \\psi = \\sqrt{1 + \\frac{M}{r}}. $$"
   ]
  },
  {
   "cell_type": "code",
   "execution_count": 2,
   "metadata": {},
   "outputs": [],
   "source": [
    "# *** The StaticTrumpet conformal factor ***\n",
    "# Dennison and Baumgarte (2014) Eq. 13\n",
    "# https://arxiv.org/pdf/1403.5484.pdf\n",
    "\n",
    "# psi = sqrt{1 + M/r }\n",
    "psi0 = sp.sqrt(1 + M/r)"
   ]
  },
  {
   "cell_type": "markdown",
   "metadata": {},
   "source": [
    "<a id='step2p2'></a>\n",
    "\n",
    "## Step 2.2: Define and construct nonzero components of $\\gamma_{ij}$ \\[Back to [top](#top)\\]\n",
    "$$\\label{step2p2}$$\n",
    "\n",
    "The spatial metric, defined in equation 15 of [Dennison and Baumgarte (2014)](https://arxiv.org/abs/1403.5484),\n",
    "$$ \\gamma_{ij} = \\psi^4 \\eta_{ij}, $$\n",
    "\n",
    "where $\\eta_{ij}$ is the flat metric in spherical polar coordinates."
   ]
  },
  {
   "cell_type": "code",
   "execution_count": 3,
   "metadata": {},
   "outputs": [],
   "source": [
    "# *** The physical spatial metric in spherical basis ***\n",
    "# Set the upper-triangle of the matrix...\n",
    "# Eq. 15\n",
    "# eta_00 = 1, eta_11 = r^2, eta_22 = r^2 * sin^2 (theta) \n",
    "gammaSphDD = ixp.zerorank2()\n",
    "gammaSphDD[0][0] = psi0**4\n",
    "gammaSphDD[1][1] = psi0**4 * r**2\n",
    "gammaSphDD[2][2] = psi0**4 * r**2*sp.sin(th)**2"
   ]
  },
  {
   "cell_type": "markdown",
   "metadata": {},
   "source": [
    "<a id='step3'></a>\n",
    "\n",
    "## Step 3: Define and construct nonzero components of $K_{ij}$, at the radius $R_0 = M$ \\[Back to [top](#top)\\]\n",
    "\n",
    "$$\\label{step3}$$\n",
    "\n",
    "Components of the extrinsic curvature in spherical basis, defined in equations 19 and 20 of [Dennison and Baumgarte (2014)](https://arxiv.org/abs/1403.5484),\n",
    "\n",
    "$$ K_{rr} = - \\frac{r \\left( M-R_0 \\right) + MR_0}{r^2 f_1}, $$\n",
    "\n",
    "<br>\n",
    "\n",
    "$$ K_{\\theta\\theta} = \\frac{K_{\\phi\\phi}}{\\sin^2 \\theta} = f_1, $$\n",
    "\n",
    "<br>\n",
    "\n",
    "where $f_1 = \\sqrt{2r \\left( M-R_0 \\right) + R_0 \\left( 2M-R_0 \\right).}$ Setting $R_0 = M$, these equations reduce to\n",
    "\n",
    "<br>\n",
    "\n",
    "$$ K_{rr} = -\\frac{M}{r^2}, $$\n",
    "\n",
    "<br>\n",
    "\n",
    "$$ K_{\\theta\\theta} = \\frac{K_{\\phi\\phi}}{\\sin^2 \\theta} = M. $$\n"
   ]
  },
  {
   "cell_type": "code",
   "execution_count": 4,
   "metadata": {},
   "outputs": [],
   "source": [
    "# *** The physical trace-free extrinsic curvature in spherical basis ***\n",
    "# Set the upper-triangle of the matrix...\n",
    "\n",
    "# Eq.19 and 20\n",
    "KSphDD = ixp.zerorank2()\n",
    "\n",
    "# K_{rr} = - M / r^2\n",
    "KSphDD[0][0] = -M / r**2\n",
    "\n",
    "# K_{theta theta} = K_{phi phi} / sin^2 theta = M\n",
    "KSphDD[1][1] = M\n",
    "\n",
    "KSphDD[2][2] = M * sp.sin(th)**2"
   ]
  },
  {
   "cell_type": "markdown",
   "metadata": {},
   "source": [
    "<a id='step4'></a>\n",
    "\n",
    "## Step 4: Construct $\\alpha$ and components of $\\beta$ \\[Back to [top](#top)\\]\n",
    "$$\\label{step4}$$\n",
    "\n",
    "Laspe function and shift vector components, equation 15 of [Dennison and Baumgarte (2014)](https://arxiv.org/abs/1403.5484), setting $R_0 = M$,\n",
    "$$ \\alpha = \\frac{r}{r+M}, $$\n",
    "<br>\n",
    "$$ \\beta^r = \\frac{Mr}{\\left (r+M \\right)^2}, $$\n",
    "<br>\n",
    "$$\\beta^\\theta = \\beta^\\phi = 0. $$"
   ]
  },
  {
   "cell_type": "code",
   "execution_count": 5,
   "metadata": {},
   "outputs": [],
   "source": [
    "# Eq. 15\n",
    "# alpha = r / (r+M)\n",
    "alphaSph = r / (r + M)\n",
    "\n",
    "betaSphU = ixp.zerorank1()\n",
    "# beta^r = Mr / (r + M)^2\n",
    "betaSphU[0] = M*r / (r + M)**2\n",
    "\n",
    "BSphU = ixp.zerorank1()"
   ]
  },
  {
   "cell_type": "markdown",
   "metadata": {},
   "source": [
    "<a id='step5'></a>\n",
    "\n",
    "## Step 5: NRPy+ Module Code Validation \\[Back to [top](#top)\\]\n",
    "$$\\label{step5}$$\n",
    "\n",
    "Here, as a code validation check, we verify agreement in the SymPy expressions for static trumpet black hole initial data between\n",
    "\n",
    "1. this tutorial and \n",
    "2. the NRPy+ [BSSN.StaticTrumpet](../edit/BSSN/StaticTrumpet.py) module."
   ]
  },
  {
   "cell_type": "code",
   "execution_count": 6,
   "metadata": {},
   "outputs": [
    {
     "name": "stdout",
     "output_type": "stream",
     "text": [
      "initialize_param() minor warning: Did nothing; already initialized parameter StaticTrumpet::M\n",
      "^^^ Ignore the minor warning(s) above. ^^^\n",
      "\n",
      "Consistency check between Brill-Lindquist tutorial and NRPy+ BSSN.BrillLindquist module:\n",
      "alphaSph - st.alphaSph: Should be zero: 0\n",
      "betaSphU[0] - st.betaSphU[0]: Should be zero: 0\n",
      "BSphU[0] - st.BaSphU[0]: Should be zero: 0\n",
      "gammaSphDD[0][0] - st.gammaSphDD[0][0]: Should be zero: 0\n",
      "KSphDD[0][0] - st.KSphDD[0][0]: Should be zero: 0\n",
      "gammaSphDD[0][1] - st.gammaSphDD[0][1]: Should be zero: 0\n",
      "KSphDD[0][1] - st.KSphDD[0][1]: Should be zero: 0\n",
      "gammaSphDD[0][2] - st.gammaSphDD[0][2]: Should be zero: 0\n",
      "KSphDD[0][2] - st.KSphDD[0][2]: Should be zero: 0\n",
      "betaSphU[1] - st.betaSphU[1]: Should be zero: 0\n",
      "BSphU[1] - st.BaSphU[1]: Should be zero: 0\n",
      "gammaSphDD[1][0] - st.gammaSphDD[1][0]: Should be zero: 0\n",
      "KSphDD[1][0] - st.KSphDD[1][0]: Should be zero: 0\n",
      "gammaSphDD[1][1] - st.gammaSphDD[1][1]: Should be zero: 0\n",
      "KSphDD[1][1] - st.KSphDD[1][1]: Should be zero: 0\n",
      "gammaSphDD[1][2] - st.gammaSphDD[1][2]: Should be zero: 0\n",
      "KSphDD[1][2] - st.KSphDD[1][2]: Should be zero: 0\n",
      "betaSphU[2] - st.betaSphU[2]: Should be zero: 0\n",
      "BSphU[2] - st.BaSphU[2]: Should be zero: 0\n",
      "gammaSphDD[2][0] - st.gammaSphDD[2][0]: Should be zero: 0\n",
      "KSphDD[2][0] - st.KSphDD[2][0]: Should be zero: 0\n",
      "gammaSphDD[2][1] - st.gammaSphDD[2][1]: Should be zero: 0\n",
      "KSphDD[2][1] - st.KSphDD[2][1]: Should be zero: 0\n",
      "gammaSphDD[2][2] - st.gammaSphDD[2][2]: Should be zero: 0\n",
      "KSphDD[2][2] - st.KSphDD[2][2]: Should be zero: 0\n"
     ]
    }
   ],
   "source": [
    "# Reset the list of gridfunctions, as registering a gridfunction\n",
    "#   twice will spawn an error.\n",
    "gri.glb_gridfcs_list = []\n",
    "\n",
    "# First we import needed core NRPy+ modules\n",
    "import reference_metric as rfm\n",
    "import grid as gri\n",
    "# Unused, but needed because BrillLindquist() also does tensor rescalings.\n",
    "rfm.reference_metric()\n",
    "\n",
    "import BSSN.StaticTrumpet as st\n",
    "st.StaticTrumpet()\n",
    "\n",
    "# It is SAFE to ignore the warning(s) from re-initializing parameters.\n",
    "print(\"^^^ Ignore the minor warning(s) above. ^^^\\n\")\n",
    "print(\"Consistency check between Brill-Lindquist tutorial and NRPy+ BSSN.BrillLindquist module:\")\n",
    "print(\"alphaSph - st.alphaSph: Should be zero: \"+str(sp.simplify(alphaSph - st.alphaSph)))\n",
    "for i in range(DIM):\n",
    "    print(\"betaSphU[\"+str(i)+\"] - st.betaSphU[\"+str(i)+\"]: Should be zero: \"+\\\n",
    "          str(sp.simplify(betaSphU[i] - st.betaSphU[i])))\n",
    "    print(\"BSphU[\"+str(i)+\"] - st.BaSphU[\"+str(i)+\"]: Should be zero: \"+str(sp.simplify(BSphU[i] - st.BSphU[i])))\n",
    "    for j in range(DIM):\n",
    "        print(\"gammaSphDD[\"+str(i)+\"][\"+str(j)+\"] - st.gammaSphDD[\"+str(i)+\"][\"+str(j)+\"]: Should be zero: \"+\\\n",
    "              str(sp.simplify(gammaSphDD[i][j] - st.gammaSphDD[i][j])))\n",
    "        print(\"KSphDD[\"+str(i)+\"][\"+str(j)+\"] - st.KSphDD[\"+str(i)+\"][\"+str(j)+\"]: Should be zero: \"+\\\n",
    "              str(sp.simplify(KSphDD[i][j] - st.KSphDD[i][j])))"
   ]
  },
  {
   "cell_type": "markdown",
   "metadata": {},
   "source": [
    "### Output to $\\LaTeX$, then PDF"
   ]
  },
  {
   "cell_type": "code",
   "execution_count": 7,
   "metadata": {},
   "outputs": [
    {
     "name": "stdout",
     "output_type": "stream",
     "text": [
      "[NbConvertApp] Converting notebook Tutorial-ADM_Initial_Data-StaticTrumpet.ipynb to latex\n",
      "[NbConvertApp] Writing 36608 bytes to Tutorial-ADM_Initial_Data-StaticTrumpet.tex\n",
      "This is pdfTeX, Version 3.14159265-2.6-1.40.18 (TeX Live 2017/Debian) (preloaded format=pdflatex)\n",
      " restricted \\write18 enabled.\n",
      "entering extended mode\n",
      "This is pdfTeX, Version 3.14159265-2.6-1.40.18 (TeX Live 2017/Debian) (preloaded format=pdflatex)\n",
      " restricted \\write18 enabled.\n",
      "entering extended mode\n",
      "This is pdfTeX, Version 3.14159265-2.6-1.40.18 (TeX Live 2017/Debian) (preloaded format=pdflatex)\n",
      " restricted \\write18 enabled.\n",
      "entering extended mode\n"
     ]
    }
   ],
   "source": [
    "!jupyter nbconvert --to latex --template latex_nrpy_style.tplx Tutorial-ADM_Initial_Data-StaticTrumpet.ipynb\n",
    "!pdflatex -interaction=batchmode Tutorial-ADM_Initial_Data-StaticTrumpet.tex\n",
    "!pdflatex -interaction=batchmode Tutorial-ADM_Initial_Data-StaticTrumpet.tex\n",
    "!pdflatex -interaction=batchmode Tutorial-ADM_Initial_Data-StaticTrumpet.tex\n",
    "!rm -f Tut*.out Tut*.aux Tut*.log"
   ]
  }
 ],
 "metadata": {
  "kernelspec": {
   "display_name": "Python 2",
   "language": "python",
   "name": "python2"
  },
  "language_info": {
   "codemirror_mode": {
    "name": "ipython",
    "version": 2
   },
   "file_extension": ".py",
   "mimetype": "text/x-python",
   "name": "python",
   "nbconvert_exporter": "python",
   "pygments_lexer": "ipython2",
   "version": "2.7.13"
  }
 },
 "nbformat": 4,
 "nbformat_minor": 2
}
